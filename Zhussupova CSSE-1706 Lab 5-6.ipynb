{
 "cells": [
  {
   "cell_type": "markdown",
   "metadata": {},
   "source": [
    "## CHAPTER 5-6\n",
    "This dataset represents a good database of books"
   ]
  },
  {
   "cell_type": "code",
   "execution_count": 3,
   "metadata": {},
   "outputs": [],
   "source": [
    "#import pandas\n",
    "import pandas as pd\n",
    "\n",
    "#import numpy\n",
    "import numpy as np\n",
    "\n",
    "#import matplotlib.pyplot\n",
    "import matplotlib.pyplot as plt\n",
    "\n",
    "#for beautiful output\n",
    "import seaborn as sns"
   ]
  },
  {
   "cell_type": "code",
   "execution_count": 4,
   "metadata": {},
   "outputs": [],
   "source": [
    "#contains a large number of probability distributions\n",
    "from scipy import stats\n",
    "#scipy.stats contains objects that represent analytic distributions\n",
    "import scipy.stats"
   ]
  },
  {
   "cell_type": "code",
   "execution_count": 5,
   "metadata": {},
   "outputs": [],
   "source": [
    "#reading data via pandas read_csv()\n",
    "data = pd.read_csv(\"books.csv\", delimiter=',')"
   ]
  },
  {
   "cell_type": "markdown",
   "metadata": {},
   "source": [
    "### all variables of the sample\n",
    "\n",
    "bookID - A unique Identification number for each book\n",
    "\n",
    "title - The name under which the book was published\n",
    "\n",
    "authors - Names of the authors of the book. Multiple authors are delimited with -\n",
    "\n",
    "average_rating - The average rating of the book received in total\n",
    "\n",
    "isbn - Another unique number to identify the book, the International Standard Book Number\n",
    "\n",
    "isbn13 - A 13-digit ISBN to identify the book, instead of the standard 11-digit ISBN\n",
    "\n",
    "language_code - Helps understand what is the primary language of the book. For instance, eng is standard for English\n",
    "\n",
    "#num_pages - Number of pages the book contains\n",
    "\n",
    "ratings_count - Total number of ratings the book received\n",
    "\n",
    "text_reviews_count - Total number of written text reviews the book received"
   ]
  },
  {
   "cell_type": "markdown",
   "metadata": {},
   "source": [
    "#### Populating the interactive namespace from numpy and matplotlib"
   ]
  },
  {
   "cell_type": "code",
   "execution_count": 6,
   "metadata": {},
   "outputs": [
    {
     "name": "stdout",
     "output_type": "stream",
     "text": [
      "Populating the interactive namespace from numpy and matplotlib\n"
     ]
    }
   ],
   "source": [
    "%pylab inline"
   ]
  },
  {
   "cell_type": "markdown",
   "metadata": {},
   "source": [
    "### describe() description for numerical\n",
    "a variety of summary statistics about a Series or the columns of a DataFrame\n",
    "for each numerical (int64) column, the number of non-empty values (count)\n",
    "number of mean values (mean)\n",
    "standard deviation (std)\n",
    "minimum (min)\n",
    "maximum (max)\n",
    "25 % and 75 % of the quartile\n",
    "median (50%)"
   ]
  },
  {
   "cell_type": "code",
   "execution_count": 6,
   "metadata": {
    "scrolled": true
   },
   "outputs": [
    {
     "data": {
      "text/html": [
       "<div>\n",
       "<style scoped>\n",
       "    .dataframe tbody tr th:only-of-type {\n",
       "        vertical-align: middle;\n",
       "    }\n",
       "\n",
       "    .dataframe tbody tr th {\n",
       "        vertical-align: top;\n",
       "    }\n",
       "\n",
       "    .dataframe thead th {\n",
       "        text-align: right;\n",
       "    }\n",
       "</style>\n",
       "<table border=\"1\" class=\"dataframe\">\n",
       "  <thead>\n",
       "    <tr style=\"text-align: right;\">\n",
       "      <th></th>\n",
       "      <th>bookID</th>\n",
       "      <th>average_rating</th>\n",
       "      <th># num_pages</th>\n",
       "      <th>ratings_count</th>\n",
       "      <th>text_reviews_count</th>\n",
       "    </tr>\n",
       "  </thead>\n",
       "  <tbody>\n",
       "    <tr>\n",
       "      <th>count</th>\n",
       "      <td>13719.000000</td>\n",
       "      <td>1.371900e+04</td>\n",
       "      <td>13719.000000</td>\n",
       "      <td>1.371900e+04</td>\n",
       "      <td>13718.000000</td>\n",
       "    </tr>\n",
       "    <tr>\n",
       "      <th>mean</th>\n",
       "      <td>22160.579270</td>\n",
       "      <td>6.208883e+04</td>\n",
       "      <td>342.377141</td>\n",
       "      <td>1.775909e+04</td>\n",
       "      <td>533.478787</td>\n",
       "    </tr>\n",
       "    <tr>\n",
       "      <th>std</th>\n",
       "      <td>13699.603351</td>\n",
       "      <td>7.271888e+06</td>\n",
       "      <td>252.623382</td>\n",
       "      <td>1.129371e+05</td>\n",
       "      <td>2528.653867</td>\n",
       "    </tr>\n",
       "    <tr>\n",
       "      <th>min</th>\n",
       "      <td>1.000000</td>\n",
       "      <td>0.000000e+00</td>\n",
       "      <td>0.000000</td>\n",
       "      <td>0.000000e+00</td>\n",
       "      <td>0.000000</td>\n",
       "    </tr>\n",
       "    <tr>\n",
       "      <th>25%</th>\n",
       "      <td>10621.000000</td>\n",
       "      <td>3.770000e+00</td>\n",
       "      <td>196.000000</td>\n",
       "      <td>8.250000e+01</td>\n",
       "      <td>7.000000</td>\n",
       "    </tr>\n",
       "    <tr>\n",
       "      <th>50%</th>\n",
       "      <td>21322.000000</td>\n",
       "      <td>3.960000e+00</td>\n",
       "      <td>301.000000</td>\n",
       "      <td>6.300000e+02</td>\n",
       "      <td>40.000000</td>\n",
       "    </tr>\n",
       "    <tr>\n",
       "      <th>75%</th>\n",
       "      <td>33322.000000</td>\n",
       "      <td>4.130000e+00</td>\n",
       "      <td>421.000000</td>\n",
       "      <td>4.737000e+03</td>\n",
       "      <td>222.000000</td>\n",
       "    </tr>\n",
       "    <tr>\n",
       "      <th>max</th>\n",
       "      <td>47709.000000</td>\n",
       "      <td>8.517427e+08</td>\n",
       "      <td>6576.000000</td>\n",
       "      <td>5.629932e+06</td>\n",
       "      <td>93619.000000</td>\n",
       "    </tr>\n",
       "  </tbody>\n",
       "</table>\n",
       "</div>"
      ],
      "text/plain": [
       "             bookID  average_rating   # num_pages  ratings_count  \\\n",
       "count  13719.000000    1.371900e+04  13719.000000   1.371900e+04   \n",
       "mean   22160.579270    6.208883e+04    342.377141   1.775909e+04   \n",
       "std    13699.603351    7.271888e+06    252.623382   1.129371e+05   \n",
       "min        1.000000    0.000000e+00      0.000000   0.000000e+00   \n",
       "25%    10621.000000    3.770000e+00    196.000000   8.250000e+01   \n",
       "50%    21322.000000    3.960000e+00    301.000000   6.300000e+02   \n",
       "75%    33322.000000    4.130000e+00    421.000000   4.737000e+03   \n",
       "max    47709.000000    8.517427e+08   6576.000000   5.629932e+06   \n",
       "\n",
       "       text_reviews_count  \n",
       "count        13718.000000  \n",
       "mean           533.478787  \n",
       "std           2528.653867  \n",
       "min              0.000000  \n",
       "25%              7.000000  \n",
       "50%             40.000000  \n",
       "75%            222.000000  \n",
       "max          93619.000000  "
      ]
     },
     "execution_count": 6,
     "metadata": {},
     "output_type": "execute_result"
    }
   ],
   "source": [
    "data.describe()"
   ]
  },
  {
   "cell_type": "code",
   "execution_count": 7,
   "metadata": {
    "scrolled": true
   },
   "outputs": [
    {
     "data": {
      "text/html": [
       "<div>\n",
       "<style scoped>\n",
       "    .dataframe tbody tr th:only-of-type {\n",
       "        vertical-align: middle;\n",
       "    }\n",
       "\n",
       "    .dataframe tbody tr th {\n",
       "        vertical-align: top;\n",
       "    }\n",
       "\n",
       "    .dataframe thead th {\n",
       "        text-align: right;\n",
       "    }\n",
       "</style>\n",
       "<table border=\"1\" class=\"dataframe\">\n",
       "  <thead>\n",
       "    <tr style=\"text-align: right;\">\n",
       "      <th></th>\n",
       "      <th>title</th>\n",
       "      <th>authors</th>\n",
       "      <th>isbn</th>\n",
       "      <th>isbn13</th>\n",
       "      <th>language_code</th>\n",
       "    </tr>\n",
       "  </thead>\n",
       "  <tbody>\n",
       "    <tr>\n",
       "      <th>count</th>\n",
       "      <td>13719</td>\n",
       "      <td>13719</td>\n",
       "      <td>13719</td>\n",
       "      <td>13719</td>\n",
       "      <td>13719</td>\n",
       "    </tr>\n",
       "    <tr>\n",
       "      <th>unique</th>\n",
       "      <td>12427</td>\n",
       "      <td>7605</td>\n",
       "      <td>13719</td>\n",
       "      <td>13719</td>\n",
       "      <td>31</td>\n",
       "    </tr>\n",
       "    <tr>\n",
       "      <th>top</th>\n",
       "      <td>One Hundred Years of Solitude</td>\n",
       "      <td>Agatha Christie</td>\n",
       "      <td>0241126274</td>\n",
       "      <td>9780393059168</td>\n",
       "      <td>eng</td>\n",
       "    </tr>\n",
       "    <tr>\n",
       "      <th>freq</th>\n",
       "      <td>11</td>\n",
       "      <td>69</td>\n",
       "      <td>1</td>\n",
       "      <td>1</td>\n",
       "      <td>10597</td>\n",
       "    </tr>\n",
       "  </tbody>\n",
       "</table>\n",
       "</div>"
      ],
      "text/plain": [
       "                                title          authors        isbn  \\\n",
       "count                           13719            13719       13719   \n",
       "unique                          12427             7605       13719   \n",
       "top     One Hundred Years of Solitude  Agatha Christie  0241126274   \n",
       "freq                               11               69           1   \n",
       "\n",
       "               isbn13 language_code  \n",
       "count           13719         13719  \n",
       "unique          13719            31  \n",
       "top     9780393059168           eng  \n",
       "freq                1         10597  "
      ]
     },
     "execution_count": 7,
     "metadata": {},
     "output_type": "execute_result"
    }
   ],
   "source": [
    "data.describe(include = 'object')"
   ]
  },
  {
   "cell_type": "markdown",
   "metadata": {},
   "source": [
    "### describe() description for non-numerical\n",
    "for each non-numerical (object, bool) column, the number of non-empty values (count)\n",
    "\n",
    "number of unique values (unique)\n",
    "\n",
    "the most frequent value (top)\n",
    "\n",
    "frequency (freq)"
   ]
  },
  {
   "cell_type": "markdown",
   "metadata": {},
   "source": [
    "### The .info() method prints \n",
    "information about a DataFrame including \n",
    "the index dtype and column dtypes\n",
    "non-null values and memory usage"
   ]
  },
  {
   "cell_type": "code",
   "execution_count": 8,
   "metadata": {},
   "outputs": [
    {
     "name": "stdout",
     "output_type": "stream",
     "text": [
      "<class 'pandas.core.frame.DataFrame'>\n",
      "RangeIndex: 13719 entries, 0 to 13718\n",
      "Data columns (total 10 columns):\n",
      "bookID                13719 non-null int64\n",
      "title                 13719 non-null object\n",
      "authors               13719 non-null object\n",
      "average_rating        13719 non-null float64\n",
      "isbn                  13719 non-null object\n",
      "isbn13                13719 non-null object\n",
      "language_code         13719 non-null object\n",
      "# num_pages           13719 non-null int64\n",
      "ratings_count         13719 non-null int64\n",
      "text_reviews_count    13718 non-null float64\n",
      "dtypes: float64(2), int64(3), object(5)\n",
      "memory usage: 1.0+ MB\n"
     ]
    }
   ],
   "source": [
    "data.info()"
   ]
  },
  {
   "cell_type": "code",
   "execution_count": 4,
   "metadata": {},
   "outputs": [],
   "source": [
    "#dropping data with NaN value\n",
    "data = data.drop([10666])"
   ]
  },
  {
   "cell_type": "code",
   "execution_count": 10,
   "metadata": {},
   "outputs": [],
   "source": [
    "#rename just for convenience\n",
    "data.rename({'average_rating' : 'avr_rate',\n",
    "             '# num_pages' : 'num_pages',\n",
    "             'ratings_count' : 'ratings',\n",
    "             'language_code' : 'language',\n",
    "             'text_reviews_count' : 'text_reviews'}, axis = 'columns', inplace = 'True')"
   ]
  },
  {
   "cell_type": "markdown",
   "metadata": {},
   "source": [
    "# Plotting Probability Density Function using matplotlib plt.plot() "
   ]
  },
  {
   "cell_type": "markdown",
   "metadata": {},
   "source": [
    "## NORMAL DISTRIBUTION"
   ]
  },
  {
   "cell_type": "markdown",
   "metadata": {},
   "source": [
    "#### PDF and CDF for column \"avr_rate\""
   ]
  },
  {
   "cell_type": "code",
   "execution_count": 8,
   "metadata": {},
   "outputs": [
    {
     "name": "stderr",
     "output_type": "stream",
     "text": [
      "D:\\3 course\\anaconda\\lib\\site-packages\\pandas\\plotting\\_core.py:1344: MatplotlibDeprecationWarning: \n",
      "The 'normed' kwarg was deprecated in Matplotlib 2.1 and will be removed in 3.1. Use 'density' instead.\n",
      "  n, bins, patches = ax.hist(y, bins=bins, bottom=bottom, **kwds)\n"
     ]
    },
    {
     "data": {
      "text/plain": [
       "<matplotlib.axes._subplots.AxesSubplot at 0x25fb0f73160>"
      ]
     },
     "execution_count": 8,
     "metadata": {},
     "output_type": "execute_result"
    },
    {
     "data": {
      "image/png": "[encoded data removed]",
      "text/plain": [
       "<Figure size 864x576 with 2 Axes>"
      ]
     },
     "metadata": {
      "needs_background": "light"
     },
     "output_type": "display_data"
    }
   ],
   "source": [
    "#for column \"avr_rate\"\n",
    "fig, axes = plt.subplots(nrows = 2, ncols = 1, figsize = (12,8))\n",
    "# Plot the PDF\n",
    "data['avr_rate'].plot(ax = axes[0], kind = 'hist', normed = True, bins = 900, range = (0, 5))\n",
    "# Plot the CDF\n",
    "data['avr_rate'].plot(ax = axes[1], kind = 'hist', cumulative = True, bins = 10000, range = (0, 5))"
   ]
  },
  {
   "cell_type": "markdown",
   "metadata": {},
   "source": [
    "#### PDF and CDF for column \"ratings\""
   ]
  },
  {
   "cell_type": "code",
   "execution_count": 9,
   "metadata": {},
   "outputs": [
    {
     "data": {
      "text/plain": [
       "<matplotlib.axes._subplots.AxesSubplot at 0x25fb9c2b080>"
      ]
     },
     "execution_count": 9,
     "metadata": {},
     "output_type": "execute_result"
    },
    {
     "data": {
      "image/png": "[encoded data removed]",
      "text/plain": [
       "<Figure size 864x576 with 2 Axes>"
      ]
     },
     "metadata": {
      "needs_background": "light"
     },
     "output_type": "display_data"
    }
   ],
   "source": [
    "#for column \"ratings\"\n",
    "fig, axes = plt.subplots(nrows = 2, ncols = 1, figsize = (12,8))\n",
    "# Plot the PDF\n",
    "data['ratings'].plot(ax = axes[0], kind = 'hist', normed = True, bins = 100, range = (0, 1000))\n",
    "# Plot the CDF\n",
    "data['ratings'].plot(ax = axes[1], kind = 'hist', cumulative = True, bins = 100, range = (0, 13000))"
   ]
  },
  {
   "cell_type": "markdown",
   "metadata": {},
   "source": [
    "#### PDF and CDF for column \"text_reviews\""
   ]
  },
  {
   "cell_type": "code",
   "execution_count": 10,
   "metadata": {},
   "outputs": [
    {
     "data": {
      "text/plain": [
       "<matplotlib.axes._subplots.AxesSubplot at 0x25fbae006a0>"
      ]
     },
     "execution_count": 10,
     "metadata": {},
     "output_type": "execute_result"
    },
    {
     "data": {
      "image/png": "[encoded data removed]",
      "text/plain": [
       "<Figure size 864x576 with 2 Axes>"
      ]
     },
     "metadata": {
      "needs_background": "light"
     },
     "output_type": "display_data"
    }
   ],
   "source": [
    "#for column \"text_reviews\"\n",
    "fig, axes = plt.subplots(nrows = 2, ncols = 1, figsize = (12,8))\n",
    "# Plot the PDF\n",
    "data['text_reviews'].plot(ax = axes[0], kind = 'hist', normed = True, bins = 100, range = (0, 50000))\n",
    "# Plot the CDF\n",
    "data['text_reviews'].plot(ax = axes[1], kind = 'hist', cumulative = True, bins = 500, range = (0, 90000))"
   ]
  },
  {
   "cell_type": "markdown",
   "metadata": {},
   "source": [
    "### According to exercise\n",
    "the distribution of heights is roughly normal \n",
    "with parameters µ = 3.93 cm and σ = 0.36\n",
    "(as we can see in describe() method output of average ratings)\n",
    "\n",
    "###### mean value 3.93, median - 3.96, standart deviation - 0.36\n",
    "\n",
    "#### scipy.stats.norm represents a normal distribution"
   ]
  },
  {
   "cell_type": "code",
   "execution_count": 11,
   "metadata": {},
   "outputs": [
    {
     "data": {
      "text/plain": [
       "scipy.stats._distn_infrastructure.rv_frozen"
      ]
     },
     "execution_count": 11,
     "metadata": {},
     "output_type": "execute_result"
    }
   ],
   "source": [
    "mu = 3.93  #mean\n",
    "sigma = 0.36  #standart deviation\n",
    "dist = scipy.stats.norm(loc = mu, scale = sigma) #normal distribution\n",
    "type(dist)"
   ]
  },
  {
   "cell_type": "markdown",
   "metadata": {},
   "source": [
    "#### a \"frozen random variable\" can compute its \n",
    "#### mean and standard deviation"
   ]
  },
  {
   "cell_type": "code",
   "execution_count": 12,
   "metadata": {},
   "outputs": [
    {
     "data": {
      "text/plain": [
       "(3.93, 0.36)"
      ]
     },
     "execution_count": 12,
     "metadata": {},
     "output_type": "execute_result"
    }
   ],
   "source": [
    "dist.mean(), dist.std()"
   ]
  },
  {
   "cell_type": "markdown",
   "metadata": {},
   "source": [
    "##### It can also evaluate its CDF"
   ]
  },
  {
   "cell_type": "code",
   "execution_count": 13,
   "metadata": {},
   "outputs": [
    {
     "data": {
      "text/plain": [
       "0.15865525393145713"
      ]
     },
     "execution_count": 13,
     "metadata": {},
     "output_type": "execute_result"
    }
   ],
   "source": [
    "dist.cdf(mu - sigma)"
   ]
  },
  {
   "cell_type": "markdown",
   "metadata": {},
   "source": [
    "##### how many books are between 1.22 and 4.89?\n",
    "##### in general\n",
    "0 - lowest average rating\n",
    "5 - highest average rating"
   ]
  },
  {
   "cell_type": "code",
   "execution_count": 14,
   "metadata": {},
   "outputs": [
    {
     "data": {
      "text/plain": [
       "(2.580556487669266e-14, 0.9961696194324102, 0.9961696194323845)"
      ]
     },
     "execution_count": 14,
     "metadata": {},
     "output_type": "execute_result"
    }
   ],
   "source": [
    "low = dist.cdf(1.22)    # 1.22 - highest average rating I took\n",
    "high = dist.cdf(4.89)   # 4.89 - lowest average rating I took\n",
    "low, high, high -low"
   ]
  },
  {
   "cell_type": "markdown",
   "metadata": {},
   "source": [
    "### Pareto distribution\n",
    "#### the parameters xmin = 1  and α = 5\n",
    "#### we get a distribution with a reasonable minimum 1, \n",
    "#### and median, 1.149 ~ 1.15\n",
    "\n",
    "#### scipy.stats.pareto represents a Pareto distribution"
   ]
  },
  {
   "cell_type": "code",
   "execution_count": 15,
   "metadata": {},
   "outputs": [
    {
     "data": {
      "text/plain": [
       "1.148698354997035"
      ]
     },
     "execution_count": 15,
     "metadata": {},
     "output_type": "execute_result"
    }
   ],
   "source": [
    "alpha = 5 # Highest\n",
    "xmin = 1 # Lowest (I couldn't put zero)\n",
    "dist = scipy.stats.pareto(b = alpha, scale = xmin) #Pareto\n",
    "dist.median() # median in Pareto world"
   ]
  },
  {
   "cell_type": "markdown",
   "metadata": {},
   "source": [
    "##### the mean average rating in Pareto world"
   ]
  },
  {
   "cell_type": "code",
   "execution_count": 16,
   "metadata": {},
   "outputs": [
    {
     "data": {
      "text/plain": [
       "1.25"
      ]
     },
     "execution_count": 16,
     "metadata": {},
     "output_type": "execute_result"
    }
   ],
   "source": [
    "dist.mean()"
   ]
  },
  {
   "cell_type": "markdown",
   "metadata": {},
   "source": [
    "##### the fraction of ratings that are shorter than the mean"
   ]
  },
  {
   "cell_type": "code",
   "execution_count": 17,
   "metadata": {},
   "outputs": [
    {
     "data": {
      "text/plain": [
       "0.67232"
      ]
     },
     "execution_count": 17,
     "metadata": {},
     "output_type": "execute_result"
    }
   ],
   "source": [
    "dist.cdf(dist.mean())"
   ]
  },
  {
   "cell_type": "markdown",
   "metadata": {},
   "source": [
    "### CCDF (bivariate distribution)\n",
    "##### in other words\n",
    "### Scatterplot\n",
    "##### for average ratings values"
   ]
  },
  {
   "cell_type": "code",
   "execution_count": 18,
   "metadata": {},
   "outputs": [
    {
     "data": {
      "text/plain": [
       "<seaborn.axisgrid.JointGrid at 0x25fba477b00>"
      ]
     },
     "execution_count": 18,
     "metadata": {},
     "output_type": "execute_result"
    },
    {
     "data": {
      "image/png": "[encoded data removed]",
      "text/plain": [
       "<Figure size 432x432 with 3 Axes>"
      ]
     },
     "metadata": {
      "needs_background": "light"
     },
     "output_type": "display_data"
    }
   ],
   "source": [
    "col_1 = list(data['avr_rate'])\n",
    "col_2 = list(data['avr_rate']/0.01)\n",
    "\n",
    "sns.jointplot(x=col_2, y=col_1)"
   ]
  },
  {
   "cell_type": "markdown",
   "metadata": {},
   "source": [
    "##### Here I'm gonna show the skewness \n",
    "##### of the average ratings distribution\n",
    "##### using skew() method"
   ]
  },
  {
   "cell_type": "code",
   "execution_count": 19,
   "metadata": {},
   "outputs": [
    {
     "data": {
      "text/plain": [
       "-3.669112125508889"
      ]
     },
     "execution_count": 19,
     "metadata": {},
     "output_type": "execute_result"
    }
   ],
   "source": [
    "avr = data['avr_rate']\n",
    "avr.skew()"
   ]
  },
  {
   "cell_type": "markdown",
   "metadata": {},
   "source": [
    "##### a measure of -3.669112125508889, meaning it's\n",
    "#### skewed to the left."
   ]
  },
  {
   "cell_type": "markdown",
   "metadata": {},
   "source": [
    "### Pearson’s Median Skewness"
   ]
  },
  {
   "cell_type": "code",
   "execution_count": 20,
   "metadata": {},
   "outputs": [
    {
     "data": {
      "text/plain": [
       "-0.24686488471150858"
      ]
     },
     "execution_count": 20,
     "metadata": {},
     "output_type": "execute_result"
    }
   ],
   "source": [
    "P = (3 * (avr.mean() - avr.median()))/avr.std()\n",
    "P"
   ]
  },
  {
   "cell_type": "markdown",
   "metadata": {},
   "source": [
    "##### a Pearson median coefficient of -0.24686488471150858 meaning\n",
    "####  it's left skewed"
   ]
  },
  {
   "cell_type": "markdown",
   "metadata": {},
   "source": [
    "## Multiple pairwise bivariate distribution\n",
    "### shows the relationship for each pair of columns in a dataset\n",
    "### by default, it draws the univariate distribution of each variable"
   ]
  },
  {
   "cell_type": "code",
   "execution_count": null,
   "metadata": {},
   "outputs": [],
   "source": [
    "sns.pairplot(data)"
   ]
  },
  {
   "cell_type": "code",
   "execution_count": 17,
   "metadata": {
    "scrolled": false
   },
   "outputs": [
    {
     "name": "stderr",
     "output_type": "stream",
     "text": [
      "D:\\3 course\\anaconda\\lib\\site-packages\\seaborn\\categorical.py:1324: RuntimeWarning: invalid value encountered in less\n",
      "  off_low = points < low_gutter\n",
      "D:\\3 course\\anaconda\\lib\\site-packages\\seaborn\\categorical.py:1328: RuntimeWarning: invalid value encountered in greater\n",
      "  off_high = points > high_gutter\n"
     ]
    },
    {
     "data": {
      "image/png": "[encoded data removed]",
      "text/plain": [
       "<Figure size 1152x432 with 2 Axes>"
      ]
     },
     "metadata": {
      "needs_background": "light"
     },
     "output_type": "display_data"
    }
   ],
   "source": [
    "# Set up a figure with two axes\n",
    "fig, ax = plt.subplots(1, 2)\n",
    "\n",
    "# Set the size of the figure\n",
    "fig.set_size_inches(16, 6)\n",
    "\n",
    "# Label the axes and title the plot\n",
    "ax[0].set_xlabel('expected mean')\n",
    "ax[0].set_ylabel('samples drawn from gaussian')\n",
    "ax[0].set_title('jitter plot')\n",
    "\n",
    "# Make a jitter plot\n",
    "sns.stripplot(data.ratings, data.text_reviews, ax=ax[0], jitter=True)\n",
    "\n",
    "# Label the axes and title the plot\n",
    "ax[1].set_xlabel('expected mean')\n",
    "ax[1].set_ylabel('samples drawn from gaussian')\n",
    "ax[1].set_title('swarm plot')\n",
    "\n",
    "# Make a swarm plot\n",
    "sns.swarmplot(data.ratings, data.text_reviews, ax=ax[1]);"
   ]
  },
  {
   "cell_type": "code",
   "execution_count": 18,
   "metadata": {},
   "outputs": [],
   "source": [
    "cleaned = data.dropna(subset=['ratings', 'text_reviews'])"
   ]
  },
  {
   "cell_type": "code",
   "execution_count": 19,
   "metadata": {},
   "outputs": [],
   "source": [
    "bins = np.arange(135, 210, 5)\n",
    "indices = np.digitize(cleaned.ratings, bins)\n",
    "groups = cleaned.groupby(indices)"
   ]
  },
  {
   "cell_type": "code",
   "execution_count": 24,
   "metadata": {},
   "outputs": [],
   "source": [
    "mean_ratings = [group.ratings.mean() for i, group in groups]"
   ]
  },
  {
   "cell_type": "code",
   "execution_count": 81,
   "metadata": {},
   "outputs": [
    {
     "ename": "AttributeError",
     "evalue": "'int' object has no attribute 'sum'",
     "output_type": "error",
     "traceback": [
      "\u001b[1;31m---------------------------------------------------------------------------\u001b[0m",
      "\u001b[1;31mAttributeError\u001b[0m                            Traceback (most recent call last)",
      "\u001b[1;32m<ipython-input-81-79bb4913e01d>\u001b[0m in \u001b[0;36m<module>\u001b[1;34m\u001b[0m\n\u001b[1;32m----> 1\u001b[1;33m \u001b[0mgroups\u001b[0m\u001b[1;33m.\u001b[0m\u001b[0mget_group\u001b[0m\u001b[1;33m(\u001b[0m\u001b[1;36m3\u001b[0m\u001b[1;33m)\u001b[0m\u001b[1;33m[\u001b[0m\u001b[1;34m'text_reviews'\u001b[0m\u001b[1;33m]\u001b[0m\u001b[1;33m.\u001b[0m\u001b[0mnunique\u001b[0m\u001b[1;33m(\u001b[0m\u001b[1;33m)\u001b[0m\u001b[1;33m.\u001b[0m\u001b[0msum\u001b[0m\u001b[1;33m(\u001b[0m\u001b[1;33m)\u001b[0m\u001b[1;33m\u001b[0m\u001b[1;33m\u001b[0m\u001b[0m\n\u001b[0m",
      "\u001b[1;31mAttributeError\u001b[0m: 'int' object has no attribute 'sum'"
     ]
    }
   ],
   "source": [
    "groups.get_group(1)['text_reviews'].nunique()"
   ]
  },
  {
   "cell_type": "code",
   "execution_count": 93,
   "metadata": {
    "scrolled": true
   },
   "outputs": [],
   "source": [
    "cdfs = []\n",
    "for group in groups:\n",
    "    for i in group:\n",
    "        data['text_reviews'].value_counts().sort_index() / len(data['text_reviews'])\n",
    "        cdfs.append(group)"
   ]
  },
  {
   "cell_type": "code",
   "execution_count": null,
   "metadata": {},
   "outputs": [],
   "source": []
  },
  {
   "cell_type": "code",
   "execution_count": 94,
   "metadata": {
    "scrolled": true
   },
   "outputs": [
    {
     "data": {
      "text/plain": [
       "32"
      ]
     },
     "execution_count": 94,
     "metadata": {},
     "output_type": "execute_result"
    }
   ],
   "source": [
    "len(cdfs)"
   ]
  },
  {
   "cell_type": "code",
   "execution_count": 33,
   "metadata": {
    "scrolled": true
   },
   "outputs": [
    {
     "data": {
      "text/plain": [
       "[42.18775510204082,\n",
       " 136.84782608695653,\n",
       " 142.09615384615384,\n",
       " 146.86046511627907,\n",
       " 151.87234042553192,\n",
       " 157.0,\n",
       " 162.14814814814815,\n",
       " 166.90740740740742,\n",
       " 172.21818181818182,\n",
       " 177.23076923076923,\n",
       " 181.75925925925927,\n",
       " 187.1,\n",
       " 191.86363636363637,\n",
       " 197.25,\n",
       " 202.06976744186048,\n",
       " 27419.349746478874]"
      ]
     },
     "execution_count": 33,
     "metadata": {},
     "output_type": "execute_result"
    }
   ],
   "source": [
    "mean_ratings"
   ]
  },
  {
   "cell_type": "code",
   "execution_count": 50,
   "metadata": {},
   "outputs": [],
   "source": [
    "#contains a large number of probability distributions\n",
    "from scipy import stats\n",
    "#scipy.stats contains objects that represent analytic distributions\n",
    "import scipy.stats"
   ]
  },
  {
   "cell_type": "code",
   "execution_count": 51,
   "metadata": {
    "scrolled": true
   },
   "outputs": [
    {
     "name": "stderr",
     "output_type": "stream",
     "text": [
      "D:\\3 course\\anaconda\\lib\\site-packages\\scipy\\stats\\_distn_infrastructure.py:877: RuntimeWarning: invalid value encountered in greater\n",
      "  return (self.a < x) & (x < self.b)\n",
      "D:\\3 course\\anaconda\\lib\\site-packages\\scipy\\stats\\_distn_infrastructure.py:877: RuntimeWarning: invalid value encountered in less\n",
      "  return (self.a < x) & (x < self.b)\n",
      "D:\\3 course\\anaconda\\lib\\site-packages\\scipy\\stats\\_distn_infrastructure.py:1748: RuntimeWarning: invalid value encountered in greater_equal\n",
      "  cond2 = (x >= self.b) & cond0\n"
     ]
    }
   ],
   "source": [
    "norm_cdf = scipy.stats.norm.cdf(data['text_reviews']) # calculate the cdf - also discrete"
   ]
  },
  {
   "cell_type": "code",
   "execution_count": 80,
   "metadata": {},
   "outputs": [
    {
     "ename": "TypeError",
     "evalue": "object of type 'numpy.float64' has no len()",
     "output_type": "error",
     "traceback": [
      "\u001b[1;31m---------------------------------------------------------------------------\u001b[0m",
      "\u001b[1;31mTypeError\u001b[0m                                 Traceback (most recent call last)",
      "\u001b[1;32m<ipython-input-80-f7ed32901a93>\u001b[0m in \u001b[0;36m<module>\u001b[1;34m\u001b[0m\n\u001b[1;32m----> 1\u001b[1;33m \u001b[0mlen\u001b[0m\u001b[1;33m(\u001b[0m\u001b[0mnorm_cdf\u001b[0m\u001b[1;33m[\u001b[0m\u001b[1;36m0\u001b[0m\u001b[1;33m]\u001b[0m\u001b[1;33m)\u001b[0m\u001b[1;33m\u001b[0m\u001b[1;33m\u001b[0m\u001b[0m\n\u001b[0m",
      "\u001b[1;31mTypeError\u001b[0m: object of type 'numpy.float64' has no len()"
     ]
    }
   ],
   "source": [
    "len(norm_cdf[0])"
   ]
  }
 ],
 "metadata": {
  "kernelspec": {
   "display_name": "Python 3",
   "language": "python",
   "name": "python3"
  },
  "language_info": {
   "codemirror_mode": {
    "name": "ipython",
    "version": 3
   },
   "file_extension": ".py",
   "mimetype": "text/x-python",
   "name": "python",
   "nbconvert_exporter": "python",
   "pygments_lexer": "ipython3",
   "version": "3.7.3"
  }
 },
 "nbformat": 4,
 "nbformat_minor": 2
}
