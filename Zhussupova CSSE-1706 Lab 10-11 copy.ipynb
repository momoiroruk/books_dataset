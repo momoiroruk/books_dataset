{
 "cells": [
  {
   "cell_type": "markdown",
   "metadata": {},
   "source": [
    "# CHAPTER 10-11"
   ]
  },
  {
   "cell_type": "code",
   "execution_count": 1,
   "metadata": {},
   "outputs": [],
   "source": [
    "import pandas as pd\n",
    "import numpy as np\n",
    "import matplotlib.pyplot as plt\n",
    "import scipy as sp\n",
    "#import scipy.stats as ttest_1samp"
   ]
  },
  {
   "cell_type": "code",
   "execution_count": 2,
   "metadata": {},
   "outputs": [],
   "source": [
    "data = pd.read_csv('books.csv', delimiter = ',')"
   ]
  },
  {
   "cell_type": "code",
   "execution_count": 3,
   "metadata": {},
   "outputs": [],
   "source": [
    "#rename just for convenience\n",
    "data.rename({'average_rating' : 'avr_rate',\n",
    "             '# num_pages' : 'num_pages',\n",
    "             'ratings_count' : 'ratings',\n",
    "             'language_code' : 'language',\n",
    "             'text_reviews_count' : 'text_reviews'}, axis = 'columns', inplace = 'True')"
   ]
  },
  {
   "cell_type": "code",
   "execution_count": 94,
   "metadata": {},
   "outputs": [],
   "source": [
    "#rename just for convenience\n",
    "data_raw.rename({'average_rating' : 'avr_rate',\n",
    "             '# num_pages' : 'num_pages',\n",
    "             'ratings_count' : 'ratings',\n",
    "             'language_code' : 'language',\n",
    "             'text_reviews_count' : 'text_reviews'}, axis = 'columns', inplace = 'True')"
   ]
  },
  {
   "cell_type": "code",
   "execution_count": 4,
   "metadata": {},
   "outputs": [
    {
     "data": {
      "text/html": [
       "<div>\n",
       "<style scoped>\n",
       "    .dataframe tbody tr th:only-of-type {\n",
       "        vertical-align: middle;\n",
       "    }\n",
       "\n",
       "    .dataframe tbody tr th {\n",
       "        vertical-align: top;\n",
       "    }\n",
       "\n",
       "    .dataframe thead th {\n",
       "        text-align: right;\n",
       "    }\n",
       "</style>\n",
       "<table border=\"1\" class=\"dataframe\">\n",
       "  <thead>\n",
       "    <tr style=\"text-align: right;\">\n",
       "      <th></th>\n",
       "      <th>bookID</th>\n",
       "      <th>title</th>\n",
       "      <th>authors</th>\n",
       "      <th>avr_rate</th>\n",
       "      <th>isbn</th>\n",
       "      <th>isbn13</th>\n",
       "      <th>language</th>\n",
       "      <th>num_pages</th>\n",
       "      <th>ratings</th>\n",
       "      <th>text_reviews</th>\n",
       "    </tr>\n",
       "  </thead>\n",
       "  <tbody>\n",
       "    <tr>\n",
       "      <th>0</th>\n",
       "      <td>1</td>\n",
       "      <td>Harry Potter and the Half-Blood Prince (Harry ...</td>\n",
       "      <td>J.K. Rowling-Mary GrandPré</td>\n",
       "      <td>4.56</td>\n",
       "      <td>0439785960</td>\n",
       "      <td>9780439785969</td>\n",
       "      <td>eng</td>\n",
       "      <td>652</td>\n",
       "      <td>1944099</td>\n",
       "      <td>26249.0</td>\n",
       "    </tr>\n",
       "    <tr>\n",
       "      <th>1</th>\n",
       "      <td>2</td>\n",
       "      <td>Harry Potter and the Order of the Phoenix (Har...</td>\n",
       "      <td>J.K. Rowling-Mary GrandPré</td>\n",
       "      <td>4.49</td>\n",
       "      <td>0439358078</td>\n",
       "      <td>9780439358071</td>\n",
       "      <td>eng</td>\n",
       "      <td>870</td>\n",
       "      <td>1996446</td>\n",
       "      <td>27613.0</td>\n",
       "    </tr>\n",
       "    <tr>\n",
       "      <th>2</th>\n",
       "      <td>3</td>\n",
       "      <td>Harry Potter and the Sorcerer's Stone (Harry P...</td>\n",
       "      <td>J.K. Rowling-Mary GrandPré</td>\n",
       "      <td>4.47</td>\n",
       "      <td>0439554934</td>\n",
       "      <td>9780439554930</td>\n",
       "      <td>eng</td>\n",
       "      <td>320</td>\n",
       "      <td>5629932</td>\n",
       "      <td>70390.0</td>\n",
       "    </tr>\n",
       "    <tr>\n",
       "      <th>3</th>\n",
       "      <td>4</td>\n",
       "      <td>Harry Potter and the Chamber of Secrets (Harry...</td>\n",
       "      <td>J.K. Rowling</td>\n",
       "      <td>4.41</td>\n",
       "      <td>0439554896</td>\n",
       "      <td>9780439554893</td>\n",
       "      <td>eng</td>\n",
       "      <td>352</td>\n",
       "      <td>6267</td>\n",
       "      <td>272.0</td>\n",
       "    </tr>\n",
       "    <tr>\n",
       "      <th>4</th>\n",
       "      <td>5</td>\n",
       "      <td>Harry Potter and the Prisoner of Azkaban (Harr...</td>\n",
       "      <td>J.K. Rowling-Mary GrandPré</td>\n",
       "      <td>4.55</td>\n",
       "      <td>043965548X</td>\n",
       "      <td>9780439655484</td>\n",
       "      <td>eng</td>\n",
       "      <td>435</td>\n",
       "      <td>2149872</td>\n",
       "      <td>33964.0</td>\n",
       "    </tr>\n",
       "  </tbody>\n",
       "</table>\n",
       "</div>"
      ],
      "text/plain": [
       "   bookID                                              title  \\\n",
       "0       1  Harry Potter and the Half-Blood Prince (Harry ...   \n",
       "1       2  Harry Potter and the Order of the Phoenix (Har...   \n",
       "2       3  Harry Potter and the Sorcerer's Stone (Harry P...   \n",
       "3       4  Harry Potter and the Chamber of Secrets (Harry...   \n",
       "4       5  Harry Potter and the Prisoner of Azkaban (Harr...   \n",
       "\n",
       "                      authors  avr_rate        isbn         isbn13 language  \\\n",
       "0  J.K. Rowling-Mary GrandPré      4.56  0439785960  9780439785969      eng   \n",
       "1  J.K. Rowling-Mary GrandPré      4.49  0439358078  9780439358071      eng   \n",
       "2  J.K. Rowling-Mary GrandPré      4.47  0439554934  9780439554930      eng   \n",
       "3                J.K. Rowling      4.41  0439554896  9780439554893      eng   \n",
       "4  J.K. Rowling-Mary GrandPré      4.55  043965548X  9780439655484      eng   \n",
       "\n",
       "   num_pages  ratings  text_reviews  \n",
       "0        652  1944099       26249.0  \n",
       "1        870  1996446       27613.0  \n",
       "2        320  5629932       70390.0  \n",
       "3        352     6267         272.0  \n",
       "4        435  2149872       33964.0  "
      ]
     },
     "execution_count": 4,
     "metadata": {},
     "output_type": "execute_result"
    }
   ],
   "source": [
    "data.head()"
   ]
  },
  {
   "cell_type": "code",
   "execution_count": 5,
   "metadata": {},
   "outputs": [
    {
     "name": "stderr",
     "output_type": "stream",
     "text": [
      "D:\\3 course\\anaconda\\lib\\site-packages\\ipykernel_launcher.py:5: SettingWithCopyWarning: \n",
      "A value is trying to be set on a copy of a slice from a DataFrame\n",
      "\n",
      "See the caveats in the documentation: http://pandas.pydata.org/pandas-docs/stable/indexing.html#indexing-view-versus-copy\n",
      "  \"\"\"\n"
     ]
    }
   ],
   "source": [
    "summary = sum(data['num_pages'])\n",
    "total = len(data['num_pages'])\n",
    "for i in range(total):\n",
    "    if (data['num_pages'][i] == 0):\n",
    "        data['num_pages'][i] = summary/total"
   ]
  },
  {
   "cell_type": "code",
   "execution_count": 6,
   "metadata": {},
   "outputs": [],
   "source": [
    "data = data.drop([10666])"
   ]
  },
  {
   "cell_type": "code",
   "execution_count": 7,
   "metadata": {},
   "outputs": [
    {
     "data": {
      "text/html": [
       "<div>\n",
       "<style scoped>\n",
       "    .dataframe tbody tr th:only-of-type {\n",
       "        vertical-align: middle;\n",
       "    }\n",
       "\n",
       "    .dataframe tbody tr th {\n",
       "        vertical-align: top;\n",
       "    }\n",
       "\n",
       "    .dataframe thead th {\n",
       "        text-align: right;\n",
       "    }\n",
       "</style>\n",
       "<table border=\"1\" class=\"dataframe\">\n",
       "  <thead>\n",
       "    <tr style=\"text-align: right;\">\n",
       "      <th></th>\n",
       "      <th>bookID</th>\n",
       "      <th>title</th>\n",
       "      <th>authors</th>\n",
       "      <th>avr_rate</th>\n",
       "      <th>isbn</th>\n",
       "      <th>isbn13</th>\n",
       "      <th>language</th>\n",
       "      <th>num_pages</th>\n",
       "      <th>ratings</th>\n",
       "      <th>text_reviews</th>\n",
       "    </tr>\n",
       "  </thead>\n",
       "  <tbody>\n",
       "    <tr>\n",
       "      <th>10875</th>\n",
       "      <td>35722</td>\n",
       "      <td>Mad Cowboy: Plain Truth from the Cattle Ranche...</td>\n",
       "      <td>Howard F. Lyman-Glen Merzer</td>\n",
       "      <td>4.13</td>\n",
       "      <td>0684854465</td>\n",
       "      <td>9780684854465</td>\n",
       "      <td>en-US</td>\n",
       "      <td>224</td>\n",
       "      <td>1804</td>\n",
       "      <td>165.0</td>\n",
       "    </tr>\n",
       "    <tr>\n",
       "      <th>9994</th>\n",
       "      <td>32276</td>\n",
       "      <td>Dragons of Eden: Speculations on the Evolution...</td>\n",
       "      <td>Carl Sagan</td>\n",
       "      <td>4.17</td>\n",
       "      <td>0345346297</td>\n",
       "      <td>9780345346292</td>\n",
       "      <td>eng</td>\n",
       "      <td>271</td>\n",
       "      <td>14974</td>\n",
       "      <td>452.0</td>\n",
       "    </tr>\n",
       "    <tr>\n",
       "      <th>11004</th>\n",
       "      <td>36334</td>\n",
       "      <td>Doomed Queen Anne (Young Royals  #3)</td>\n",
       "      <td>Carolyn Meyer</td>\n",
       "      <td>3.87</td>\n",
       "      <td>0152050868</td>\n",
       "      <td>9780152050863</td>\n",
       "      <td>en-GB</td>\n",
       "      <td>240</td>\n",
       "      <td>3478</td>\n",
       "      <td>190.0</td>\n",
       "    </tr>\n",
       "    <tr>\n",
       "      <th>4004</th>\n",
       "      <td>12203</td>\n",
       "      <td>Frost</td>\n",
       "      <td>Thomas Bernhard-Michael Hofmann</td>\n",
       "      <td>3.88</td>\n",
       "      <td>1400040663</td>\n",
       "      <td>9781400040667</td>\n",
       "      <td>eng</td>\n",
       "      <td>342</td>\n",
       "      <td>690</td>\n",
       "      <td>63.0</td>\n",
       "    </tr>\n",
       "    <tr>\n",
       "      <th>11246</th>\n",
       "      <td>37574</td>\n",
       "      <td>The Mirror Crack'd</td>\n",
       "      <td>Agatha Christie</td>\n",
       "      <td>3.91</td>\n",
       "      <td>0553350153</td>\n",
       "      <td>9780553350159</td>\n",
       "      <td>eng</td>\n",
       "      <td>212</td>\n",
       "      <td>62</td>\n",
       "      <td>10.0</td>\n",
       "    </tr>\n",
       "    <tr>\n",
       "      <th>1379</th>\n",
       "      <td>4042</td>\n",
       "      <td>Godless: The Church of Liberalism</td>\n",
       "      <td>Ann Coulter</td>\n",
       "      <td>3.31</td>\n",
       "      <td>1400054206</td>\n",
       "      <td>9781400054206</td>\n",
       "      <td>eng</td>\n",
       "      <td>310</td>\n",
       "      <td>2681</td>\n",
       "      <td>350.0</td>\n",
       "    </tr>\n",
       "    <tr>\n",
       "      <th>10829</th>\n",
       "      <td>35454</td>\n",
       "      <td>The Dharma of Star Wars</td>\n",
       "      <td>Matthew Bortolin</td>\n",
       "      <td>4.03</td>\n",
       "      <td>0861714970</td>\n",
       "      <td>9780861714971</td>\n",
       "      <td>eng</td>\n",
       "      <td>224</td>\n",
       "      <td>343</td>\n",
       "      <td>35.0</td>\n",
       "    </tr>\n",
       "  </tbody>\n",
       "</table>\n",
       "</div>"
      ],
      "text/plain": [
       "       bookID                                              title  \\\n",
       "10875   35722  Mad Cowboy: Plain Truth from the Cattle Ranche...   \n",
       "9994    32276  Dragons of Eden: Speculations on the Evolution...   \n",
       "11004   36334               Doomed Queen Anne (Young Royals  #3)   \n",
       "4004    12203                                              Frost   \n",
       "11246   37574                                 The Mirror Crack'd   \n",
       "1379     4042                  Godless: The Church of Liberalism   \n",
       "10829   35454                            The Dharma of Star Wars   \n",
       "\n",
       "                               authors  avr_rate        isbn         isbn13  \\\n",
       "10875      Howard F. Lyman-Glen Merzer      4.13  0684854465  9780684854465   \n",
       "9994                        Carl Sagan      4.17  0345346297  9780345346292   \n",
       "11004                    Carolyn Meyer      3.87  0152050868  9780152050863   \n",
       "4004   Thomas Bernhard-Michael Hofmann      3.88  1400040663  9781400040667   \n",
       "11246                  Agatha Christie      3.91  0553350153  9780553350159   \n",
       "1379                       Ann Coulter      3.31  1400054206  9781400054206   \n",
       "10829                 Matthew Bortolin      4.03  0861714970  9780861714971   \n",
       "\n",
       "      language  num_pages  ratings  text_reviews  \n",
       "10875    en-US        224     1804         165.0  \n",
       "9994       eng        271    14974         452.0  \n",
       "11004    en-GB        240     3478         190.0  \n",
       "4004       eng        342      690          63.0  \n",
       "11246      eng        212       62          10.0  \n",
       "1379       eng        310     2681         350.0  \n",
       "10829      eng        224      343          35.0  "
      ]
     },
     "execution_count": 7,
     "metadata": {},
     "output_type": "execute_result"
    }
   ],
   "source": [
    "data.sample(7)"
   ]
  },
  {
   "cell_type": "code",
   "execution_count": 8,
   "metadata": {
    "scrolled": true
   },
   "outputs": [
    {
     "data": {
      "text/html": [
       "<div>\n",
       "<style scoped>\n",
       "    .dataframe tbody tr th:only-of-type {\n",
       "        vertical-align: middle;\n",
       "    }\n",
       "\n",
       "    .dataframe tbody tr th {\n",
       "        vertical-align: top;\n",
       "    }\n",
       "\n",
       "    .dataframe thead th {\n",
       "        text-align: right;\n",
       "    }\n",
       "</style>\n",
       "<table border=\"1\" class=\"dataframe\">\n",
       "  <thead>\n",
       "    <tr style=\"text-align: right;\">\n",
       "      <th></th>\n",
       "      <th>bookID</th>\n",
       "      <th>avr_rate</th>\n",
       "      <th>num_pages</th>\n",
       "      <th>ratings</th>\n",
       "      <th>text_reviews</th>\n",
       "    </tr>\n",
       "  </thead>\n",
       "  <tbody>\n",
       "    <tr>\n",
       "      <th>count</th>\n",
       "      <td>13718.000000</td>\n",
       "      <td>13718.000000</td>\n",
       "      <td>13718.000000</td>\n",
       "      <td>1.371800e+04</td>\n",
       "      <td>13718.000000</td>\n",
       "    </tr>\n",
       "    <tr>\n",
       "      <th>mean</th>\n",
       "      <td>22159.651407</td>\n",
       "      <td>3.930551</td>\n",
       "      <td>344.521213</td>\n",
       "      <td>1.776039e+04</td>\n",
       "      <td>533.478787</td>\n",
       "    </tr>\n",
       "    <tr>\n",
       "      <th>std</th>\n",
       "      <td>13699.671611</td>\n",
       "      <td>0.357875</td>\n",
       "      <td>251.164675</td>\n",
       "      <td>1.129411e+05</td>\n",
       "      <td>2528.653867</td>\n",
       "    </tr>\n",
       "    <tr>\n",
       "      <th>min</th>\n",
       "      <td>1.000000</td>\n",
       "      <td>0.000000</td>\n",
       "      <td>1.000000</td>\n",
       "      <td>0.000000e+00</td>\n",
       "      <td>0.000000</td>\n",
       "    </tr>\n",
       "    <tr>\n",
       "      <th>25%</th>\n",
       "      <td>10620.500000</td>\n",
       "      <td>3.770000</td>\n",
       "      <td>199.000000</td>\n",
       "      <td>8.300000e+01</td>\n",
       "      <td>7.000000</td>\n",
       "    </tr>\n",
       "    <tr>\n",
       "      <th>50%</th>\n",
       "      <td>21321.500000</td>\n",
       "      <td>3.960000</td>\n",
       "      <td>304.000000</td>\n",
       "      <td>6.300000e+02</td>\n",
       "      <td>40.000000</td>\n",
       "    </tr>\n",
       "    <tr>\n",
       "      <th>75%</th>\n",
       "      <td>33311.750000</td>\n",
       "      <td>4.130000</td>\n",
       "      <td>421.000000</td>\n",
       "      <td>4.738500e+03</td>\n",
       "      <td>222.000000</td>\n",
       "    </tr>\n",
       "    <tr>\n",
       "      <th>max</th>\n",
       "      <td>47709.000000</td>\n",
       "      <td>5.000000</td>\n",
       "      <td>6576.000000</td>\n",
       "      <td>5.629932e+06</td>\n",
       "      <td>93619.000000</td>\n",
       "    </tr>\n",
       "  </tbody>\n",
       "</table>\n",
       "</div>"
      ],
      "text/plain": [
       "             bookID      avr_rate     num_pages       ratings  text_reviews\n",
       "count  13718.000000  13718.000000  13718.000000  1.371800e+04  13718.000000\n",
       "mean   22159.651407      3.930551    344.521213  1.776039e+04    533.478787\n",
       "std    13699.671611      0.357875    251.164675  1.129411e+05   2528.653867\n",
       "min        1.000000      0.000000      1.000000  0.000000e+00      0.000000\n",
       "25%    10620.500000      3.770000    199.000000  8.300000e+01      7.000000\n",
       "50%    21321.500000      3.960000    304.000000  6.300000e+02     40.000000\n",
       "75%    33311.750000      4.130000    421.000000  4.738500e+03    222.000000\n",
       "max    47709.000000      5.000000   6576.000000  5.629932e+06  93619.000000"
      ]
     },
     "execution_count": 8,
     "metadata": {},
     "output_type": "execute_result"
    }
   ],
   "source": [
    "data.describe()"
   ]
  },
  {
   "cell_type": "code",
   "execution_count": 9,
   "metadata": {
    "scrolled": false
   },
   "outputs": [
    {
     "data": {
      "text/plain": [
       "Index(['bookID', 'title', 'authors', 'avr_rate', 'isbn', 'isbn13', 'language',\n",
       "       'num_pages', 'ratings', 'text_reviews'],\n",
       "      dtype='object')"
      ]
     },
     "execution_count": 9,
     "metadata": {},
     "output_type": "execute_result"
    }
   ],
   "source": [
    "data.columns"
   ]
  },
  {
   "cell_type": "code",
   "execution_count": 10,
   "metadata": {},
   "outputs": [],
   "source": [
    "%matplotlib inline"
   ]
  },
  {
   "cell_type": "code",
   "execution_count": 11,
   "metadata": {},
   "outputs": [],
   "source": [
    "plt.rcParams['figure.figsize'] = (12.0, 9.0)"
   ]
  },
  {
   "cell_type": "markdown",
   "metadata": {},
   "source": [
    "# Linear Regression using Least Squares"
   ]
  },
  {
   "cell_type": "markdown",
   "metadata": {},
   "source": [
    "### Implementing data\n",
    "##### Preprocessing Input data."
   ]
  },
  {
   "cell_type": "code",
   "execution_count": 12,
   "metadata": {},
   "outputs": [],
   "source": [
    "import seaborn as sns"
   ]
  },
  {
   "cell_type": "code",
   "execution_count": 13,
   "metadata": {},
   "outputs": [],
   "source": [
    "sns.set_style(\"darkgrid\")"
   ]
  },
  {
   "cell_type": "code",
   "execution_count": 14,
   "metadata": {},
   "outputs": [],
   "source": [
    "X = data.text_reviews.values\n",
    "Y = data.avr_rate.values"
   ]
  },
  {
   "cell_type": "code",
   "execution_count": 15,
   "metadata": {
    "scrolled": true
   },
   "outputs": [
    {
     "data": {
      "image/png": "[encoded data removed]",
      "text/plain": [
       "<Figure size 864x648 with 1 Axes>"
      ]
     },
     "metadata": {},
     "output_type": "display_data"
    }
   ],
   "source": [
    "#X = data.iloc[:, 0]\n",
    "#Y = data.iloc[:, 1]\n",
    "plt.scatter(X, Y)\n",
    "plt.show()"
   ]
  },
  {
   "cell_type": "markdown",
   "metadata": {},
   "source": [
    "A scatter plot of the two variables is created. Because we contrived the dataset, we know there is a relationship between the two variables. This is clear when we review the generated scatter plot where we can see an increasing trend."
   ]
  },
  {
   "cell_type": "code",
   "execution_count": 16,
   "metadata": {},
   "outputs": [
    {
     "data": {
      "text/plain": [
       "<matplotlib.axes._subplots.AxesSubplot at 0x20bd07aa400>"
      ]
     },
     "execution_count": 16,
     "metadata": {},
     "output_type": "execute_result"
    },
    {
     "data": {
      "image/png": "[encoded data removed]",
      "text/plain": [
       "<Figure size 864x648 with 1 Axes>"
      ]
     },
     "metadata": {},
     "output_type": "display_data"
    }
   ],
   "source": [
    "sns.regplot(X,Y)"
   ]
  },
  {
   "cell_type": "markdown",
   "metadata": {},
   "source": [
    "df = data.drop(labels = ['title', 'authors', 'language'], axis = 1)"
   ]
  },
  {
   "cell_type": "markdown",
   "metadata": {},
   "source": [
    "##### Building the model"
   ]
  },
  {
   "cell_type": "code",
   "execution_count": 17,
   "metadata": {},
   "outputs": [
    {
     "name": "stdout",
     "output_type": "stream",
     "text": [
      "Text reviews: mean=533.479 stdv=2528.562\n",
      "Average rating: mean=3.931 stdv=0.358\n"
     ]
    }
   ],
   "source": [
    "print('Text reviews: mean=%.3f stdv=%.3f' % (np.mean(X), np.std(X)))\n",
    "print('Average rating: mean=%.3f stdv=%.3f' % (np.mean(Y), np.std(Y)))"
   ]
  },
  {
   "cell_type": "code",
   "execution_count": 18,
   "metadata": {},
   "outputs": [
    {
     "data": {
      "text/plain": [
       "[<matplotlib.lines.Line2D at 0x20bd1d65d30>]"
      ]
     },
     "execution_count": 18,
     "metadata": {},
     "output_type": "execute_result"
    },
    {
     "data": {
      "image/png": "[encoded data removed]",
      "text/plain": [
       "<Figure size 864x648 with 1 Axes>"
      ]
     },
     "metadata": {},
     "output_type": "display_data"
    }
   ],
   "source": [
    "plt.plot(np.unique(X), np.poly1d(np.polyfit(X, Y, 1))(np.unique(X)))"
   ]
  },
  {
   "cell_type": "markdown",
   "metadata": {},
   "source": [
    "### Estimate intercept and slope"
   ]
  },
  {
   "cell_type": "code",
   "execution_count": 19,
   "metadata": {},
   "outputs": [],
   "source": [
    "from scipy.stats import linregress"
   ]
  },
  {
   "cell_type": "markdown",
   "metadata": {},
   "source": [
    "slope : slope of the regression line\n",
    "\n",
    "intercept : intercept of the regression line\n",
    "\n",
    "r-value : correlation coefficient\n",
    "\n",
    "p-value : two-sided p-value for a hypothesis test whose null hypothesis is that the slope is zero\n",
    "\n",
    "stderr : Standard error of the estimate"
   ]
  },
  {
   "cell_type": "code",
   "execution_count": 20,
   "metadata": {
    "scrolled": false
   },
   "outputs": [
    {
     "data": {
      "text/plain": [
       "LinregressResult(slope=5.198572581404209e-06, intercept=3.927777772548715, rvalue=0.036731823953878966, pvalue=1.683234521631894e-05, stderr=1.2076322453891596e-06)"
      ]
     },
     "execution_count": 20,
     "metadata": {},
     "output_type": "execute_result"
    }
   ],
   "source": [
    "linregress(X, Y)"
   ]
  },
  {
   "cell_type": "code",
   "execution_count": 21,
   "metadata": {},
   "outputs": [],
   "source": [
    "from scipy.stats import mstats"
   ]
  },
  {
   "cell_type": "code",
   "execution_count": 22,
   "metadata": {},
   "outputs": [],
   "source": [
    "df1 = data[['avr_rate','text_reviews']]"
   ]
  },
  {
   "cell_type": "code",
   "execution_count": 23,
   "metadata": {},
   "outputs": [
    {
     "data": {
      "text/html": [
       "<div>\n",
       "<style scoped>\n",
       "    .dataframe tbody tr th:only-of-type {\n",
       "        vertical-align: middle;\n",
       "    }\n",
       "\n",
       "    .dataframe tbody tr th {\n",
       "        vertical-align: top;\n",
       "    }\n",
       "\n",
       "    .dataframe thead th {\n",
       "        text-align: right;\n",
       "    }\n",
       "</style>\n",
       "<table border=\"1\" class=\"dataframe\">\n",
       "  <thead>\n",
       "    <tr style=\"text-align: right;\">\n",
       "      <th></th>\n",
       "      <th>avr_rate</th>\n",
       "      <th>text_reviews</th>\n",
       "    </tr>\n",
       "  </thead>\n",
       "  <tbody>\n",
       "    <tr>\n",
       "      <th>0</th>\n",
       "      <td>4.56</td>\n",
       "      <td>26249.0</td>\n",
       "    </tr>\n",
       "    <tr>\n",
       "      <th>1</th>\n",
       "      <td>4.49</td>\n",
       "      <td>27613.0</td>\n",
       "    </tr>\n",
       "    <tr>\n",
       "      <th>2</th>\n",
       "      <td>4.47</td>\n",
       "      <td>70390.0</td>\n",
       "    </tr>\n",
       "    <tr>\n",
       "      <th>3</th>\n",
       "      <td>4.41</td>\n",
       "      <td>272.0</td>\n",
       "    </tr>\n",
       "    <tr>\n",
       "      <th>4</th>\n",
       "      <td>4.55</td>\n",
       "      <td>33964.0</td>\n",
       "    </tr>\n",
       "  </tbody>\n",
       "</table>\n",
       "</div>"
      ],
      "text/plain": [
       "   avr_rate  text_reviews\n",
       "0      4.56       26249.0\n",
       "1      4.49       27613.0\n",
       "2      4.47       70390.0\n",
       "3      4.41         272.0\n",
       "4      4.55       33964.0"
      ]
     },
     "execution_count": 23,
     "metadata": {},
     "output_type": "execute_result"
    }
   ],
   "source": [
    "df1.head()"
   ]
  },
  {
   "cell_type": "code",
   "execution_count": 24,
   "metadata": {},
   "outputs": [],
   "source": [
    "# Calculate the quantiles column wise\n",
    "quantiles = mstats.mquantiles(df1, axis=0)"
   ]
  },
  {
   "cell_type": "code",
   "execution_count": 25,
   "metadata": {
    "scrolled": true
   },
   "outputs": [
    {
     "data": {
      "text/plain": [
       "<matplotlib.legend.Legend at 0x20bd1f99668>"
      ]
     },
     "execution_count": 25,
     "metadata": {},
     "output_type": "execute_result"
    },
    {
     "data": {
      "image/png": "[encoded data removed]",
      "text/plain": [
       "<Figure size 864x648 with 1 Axes>"
      ]
     },
     "metadata": {},
     "output_type": "display_data"
    }
   ],
   "source": [
    "# Plot it\n",
    "labels = ['25%', '50%', '75%']\n",
    "for i, q in enumerate(quantiles):\n",
    "    plt.plot(q, label=labels[i])\n",
    "plt.legend()"
   ]
  },
  {
   "cell_type": "markdown",
   "metadata": {},
   "source": [
    "### Plotting residuals of a regression"
   ]
  },
  {
   "cell_type": "code",
   "execution_count": 26,
   "metadata": {},
   "outputs": [
    {
     "data": {
      "text/plain": [
       "<matplotlib.axes._subplots.AxesSubplot at 0x20bd1fee518>"
      ]
     },
     "execution_count": 26,
     "metadata": {},
     "output_type": "execute_result"
    },
    {
     "data": {
      "image/png": "[encoded data removed]",
      "text/plain": [
       "<Figure size 864x648 with 1 Axes>"
      ]
     },
     "metadata": {},
     "output_type": "display_data"
    }
   ],
   "source": [
    "sns.residplot(X, Y, color = 'red')"
   ]
  },
  {
   "cell_type": "markdown",
   "metadata": {},
   "source": [
    "### Covariance"
   ]
  },
  {
   "cell_type": "code",
   "execution_count": 27,
   "metadata": {
    "scrolled": true
   },
   "outputs": [
    {
     "name": "stdout",
     "output_type": "stream",
     "text": [
      "[[6.39409038e+06 3.32401429e+01]\n",
      " [3.32401429e+01 1.28074304e-01]]\n"
     ]
    }
   ],
   "source": [
    "covariance = np.cov(X, Y)\n",
    "print(covariance)"
   ]
  },
  {
   "cell_type": "markdown",
   "metadata": {},
   "source": [
    "The covariance between the two variables is 3.324. We can see that it is negative, suggesting the variables change in the same direction. The Pearson’s correlation coefficient next"
   ]
  },
  {
   "cell_type": "markdown",
   "metadata": {},
   "source": [
    "Compute correlation."
   ]
  },
  {
   "cell_type": "code",
   "execution_count": 28,
   "metadata": {},
   "outputs": [],
   "source": [
    "from scipy.stats import pearsonr"
   ]
  },
  {
   "cell_type": "markdown",
   "metadata": {},
   "source": [
    "#### Pearson’s Correlation"
   ]
  },
  {
   "cell_type": "code",
   "execution_count": 29,
   "metadata": {
    "scrolled": true
   },
   "outputs": [
    {
     "name": "stdout",
     "output_type": "stream",
     "text": [
      "Pearsons correlation: 0.037\n"
     ]
    }
   ],
   "source": [
    "corr, _ = pearsonr(X, Y)\n",
    "print('Pearsons correlation: %.3f' % corr)"
   ]
  },
  {
   "cell_type": "markdown",
   "metadata": {},
   "source": [
    "We can see that the two variables are positively correlated and that the correlation is 0.037. This suggests a low level of correlation, a value above 0 and close to 0.5."
   ]
  },
  {
   "cell_type": "code",
   "execution_count": 30,
   "metadata": {},
   "outputs": [],
   "source": [
    "from scipy.stats import spearmanr"
   ]
  },
  {
   "cell_type": "markdown",
   "metadata": {},
   "source": [
    "#### Spearman’s Correlation"
   ]
  },
  {
   "cell_type": "code",
   "execution_count": 31,
   "metadata": {},
   "outputs": [
    {
     "name": "stdout",
     "output_type": "stream",
     "text": [
      "Spearmans correlation: 0.029\n"
     ]
    }
   ],
   "source": [
    "corr, _ = spearmanr(X, Y)\n",
    "print('Spearmans correlation: %.3f' % corr)"
   ]
  },
  {
   "cell_type": "markdown",
   "metadata": {},
   "source": [
    "We know that the data is Gaussian and that the relationship between the variables is linear. Nevertheless, the nonparametric rank-based approach shows a really weak correlation between the variables of 0.03."
   ]
  },
  {
   "cell_type": "markdown",
   "metadata": {},
   "source": [
    "### Coefficient of determination"
   ]
  },
  {
   "cell_type": "code",
   "execution_count": 32,
   "metadata": {},
   "outputs": [],
   "source": [
    "def r2_corrcoef(x, y):\n",
    "    return np.corrcoef(x, y)[0, 1]**2"
   ]
  },
  {
   "cell_type": "code",
   "execution_count": 33,
   "metadata": {},
   "outputs": [
    {
     "name": "stdout",
     "output_type": "stream",
     "text": [
      "Coefficient of dertermination R^2:  0.0013492268909787576\n"
     ]
    }
   ],
   "source": [
    "r2 = r2_corrcoef(X,Y)\n",
    "print('Coefficient of dertermination R^2: ', r2)"
   ]
  },
  {
   "cell_type": "code",
   "execution_count": 34,
   "metadata": {
    "scrolled": true
   },
   "outputs": [
    {
     "name": "stdout",
     "output_type": "stream",
     "text": [
      "Correlation rho^2:\n",
      " [[1.         0.03673182]\n",
      " [0.03673182 1.        ]]\n"
     ]
    }
   ],
   "source": [
    "rho = np.corrcoef(X,Y)\n",
    "print('Correlation rho^2:\\n', rho)"
   ]
  },
  {
   "cell_type": "markdown",
   "metadata": {},
   "source": [
    "Difference of rho**2 and r**2"
   ]
  },
  {
   "cell_type": "code",
   "execution_count": 35,
   "metadata": {},
   "outputs": [
    {
     "data": {
      "text/plain": [
       "array([[0.99865077, 0.        ],\n",
       "       [0.        , 0.99865077]])"
      ]
     },
     "execution_count": 35,
     "metadata": {},
     "output_type": "execute_result"
    }
   ],
   "source": [
    "rho**2 - r2"
   ]
  },
  {
   "cell_type": "markdown",
   "metadata": {},
   "source": [
    "# Multiple Regression"
   ]
  },
  {
   "cell_type": "code",
   "execution_count": 91,
   "metadata": {},
   "outputs": [],
   "source": [
    "data_raw = pd.read_csv('books.csv',delimiter = ',')"
   ]
  },
  {
   "cell_type": "code",
   "execution_count": 36,
   "metadata": {},
   "outputs": [],
   "source": [
    "import statsmodels.api as sm"
   ]
  },
  {
   "cell_type": "code",
   "execution_count": 37,
   "metadata": {},
   "outputs": [],
   "source": [
    "import statsmodels.formula.api as smf"
   ]
  },
  {
   "cell_type": "code",
   "execution_count": 92,
   "metadata": {},
   "outputs": [
    {
     "data": {
      "text/html": [
       "<div>\n",
       "<style scoped>\n",
       "    .dataframe tbody tr th:only-of-type {\n",
       "        vertical-align: middle;\n",
       "    }\n",
       "\n",
       "    .dataframe tbody tr th {\n",
       "        vertical-align: top;\n",
       "    }\n",
       "\n",
       "    .dataframe thead th {\n",
       "        text-align: right;\n",
       "    }\n",
       "</style>\n",
       "<table border=\"1\" class=\"dataframe\">\n",
       "  <thead>\n",
       "    <tr style=\"text-align: right;\">\n",
       "      <th></th>\n",
       "      <th>bookID</th>\n",
       "      <th>title</th>\n",
       "      <th>authors</th>\n",
       "      <th>avr_rate</th>\n",
       "      <th>isbn</th>\n",
       "      <th>isbn13</th>\n",
       "      <th>language</th>\n",
       "      <th>num_pages</th>\n",
       "      <th>ratings</th>\n",
       "      <th>text_reviews</th>\n",
       "      <th>ratings2</th>\n",
       "      <th>text_reviews2</th>\n",
       "      <th>num_pages2</th>\n",
       "    </tr>\n",
       "  </thead>\n",
       "  <tbody>\n",
       "    <tr>\n",
       "      <th>0</th>\n",
       "      <td>1</td>\n",
       "      <td>Harry Potter and the Half-Blood Prince (Harry ...</td>\n",
       "      <td>J.K. Rowling-Mary GrandPré</td>\n",
       "      <td>5.0</td>\n",
       "      <td>0439785960</td>\n",
       "      <td>9780439785969</td>\n",
       "      <td>eng</td>\n",
       "      <td>652</td>\n",
       "      <td>1944099</td>\n",
       "      <td>26249.0</td>\n",
       "      <td>3779520921801</td>\n",
       "      <td>6.890100e+08</td>\n",
       "      <td>425104</td>\n",
       "    </tr>\n",
       "    <tr>\n",
       "      <th>1</th>\n",
       "      <td>2</td>\n",
       "      <td>Harry Potter and the Order of the Phoenix (Har...</td>\n",
       "      <td>J.K. Rowling-Mary GrandPré</td>\n",
       "      <td>4.0</td>\n",
       "      <td>0439358078</td>\n",
       "      <td>9780439358071</td>\n",
       "      <td>eng</td>\n",
       "      <td>870</td>\n",
       "      <td>1996446</td>\n",
       "      <td>27613.0</td>\n",
       "      <td>3985796630916</td>\n",
       "      <td>7.624778e+08</td>\n",
       "      <td>756900</td>\n",
       "    </tr>\n",
       "    <tr>\n",
       "      <th>2</th>\n",
       "      <td>3</td>\n",
       "      <td>Harry Potter and the Sorcerer's Stone (Harry P...</td>\n",
       "      <td>J.K. Rowling-Mary GrandPré</td>\n",
       "      <td>4.0</td>\n",
       "      <td>0439554934</td>\n",
       "      <td>9780439554930</td>\n",
       "      <td>eng</td>\n",
       "      <td>320</td>\n",
       "      <td>5629932</td>\n",
       "      <td>70390.0</td>\n",
       "      <td>31696134324624</td>\n",
       "      <td>4.954752e+09</td>\n",
       "      <td>102400</td>\n",
       "    </tr>\n",
       "    <tr>\n",
       "      <th>3</th>\n",
       "      <td>4</td>\n",
       "      <td>Harry Potter and the Chamber of Secrets (Harry...</td>\n",
       "      <td>J.K. Rowling</td>\n",
       "      <td>4.0</td>\n",
       "      <td>0439554896</td>\n",
       "      <td>9780439554893</td>\n",
       "      <td>eng</td>\n",
       "      <td>352</td>\n",
       "      <td>6267</td>\n",
       "      <td>272.0</td>\n",
       "      <td>39275289</td>\n",
       "      <td>7.398400e+04</td>\n",
       "      <td>123904</td>\n",
       "    </tr>\n",
       "    <tr>\n",
       "      <th>4</th>\n",
       "      <td>5</td>\n",
       "      <td>Harry Potter and the Prisoner of Azkaban (Harr...</td>\n",
       "      <td>J.K. Rowling-Mary GrandPré</td>\n",
       "      <td>5.0</td>\n",
       "      <td>043965548X</td>\n",
       "      <td>9780439655484</td>\n",
       "      <td>eng</td>\n",
       "      <td>435</td>\n",
       "      <td>2149872</td>\n",
       "      <td>33964.0</td>\n",
       "      <td>4621949616384</td>\n",
       "      <td>1.153553e+09</td>\n",
       "      <td>189225</td>\n",
       "    </tr>\n",
       "    <tr>\n",
       "      <th>5</th>\n",
       "      <td>8</td>\n",
       "      <td>Harry Potter Boxed Set  Books 1-5 (Harry Potte...</td>\n",
       "      <td>J.K. Rowling-Mary GrandPré</td>\n",
       "      <td>5.0</td>\n",
       "      <td>0439682584</td>\n",
       "      <td>9780439682589</td>\n",
       "      <td>eng</td>\n",
       "      <td>2690</td>\n",
       "      <td>38872</td>\n",
       "      <td>154.0</td>\n",
       "      <td>1511032384</td>\n",
       "      <td>2.371600e+04</td>\n",
       "      <td>7236100</td>\n",
       "    </tr>\n",
       "    <tr>\n",
       "      <th>6</th>\n",
       "      <td>9</td>\n",
       "      <td>Unauthorized Harry Potter Book Seven News: \"Ha...</td>\n",
       "      <td>W. Frederick Zimmerman</td>\n",
       "      <td>4.0</td>\n",
       "      <td>0976540606</td>\n",
       "      <td>9780976540601</td>\n",
       "      <td>en-US</td>\n",
       "      <td>152</td>\n",
       "      <td>18</td>\n",
       "      <td>1.0</td>\n",
       "      <td>324</td>\n",
       "      <td>1.000000e+00</td>\n",
       "      <td>23104</td>\n",
       "    </tr>\n",
       "    <tr>\n",
       "      <th>7</th>\n",
       "      <td>10</td>\n",
       "      <td>Harry Potter Collection (Harry Potter  #1-6)</td>\n",
       "      <td>J.K. Rowling</td>\n",
       "      <td>5.0</td>\n",
       "      <td>0439827604</td>\n",
       "      <td>9780439827607</td>\n",
       "      <td>eng</td>\n",
       "      <td>3342</td>\n",
       "      <td>27410</td>\n",
       "      <td>820.0</td>\n",
       "      <td>751308100</td>\n",
       "      <td>6.724000e+05</td>\n",
       "      <td>11168964</td>\n",
       "    </tr>\n",
       "    <tr>\n",
       "      <th>8</th>\n",
       "      <td>12</td>\n",
       "      <td>The Ultimate Hitchhiker's Guide: Five Complete...</td>\n",
       "      <td>Douglas Adams</td>\n",
       "      <td>4.0</td>\n",
       "      <td>0517226952</td>\n",
       "      <td>9780517226957</td>\n",
       "      <td>eng</td>\n",
       "      <td>815</td>\n",
       "      <td>3602</td>\n",
       "      <td>258.0</td>\n",
       "      <td>12974404</td>\n",
       "      <td>6.656400e+04</td>\n",
       "      <td>664225</td>\n",
       "    </tr>\n",
       "    <tr>\n",
       "      <th>9</th>\n",
       "      <td>13</td>\n",
       "      <td>The Ultimate Hitchhiker's Guide to the Galaxy</td>\n",
       "      <td>Douglas Adams</td>\n",
       "      <td>4.0</td>\n",
       "      <td>0345453743</td>\n",
       "      <td>9780345453747</td>\n",
       "      <td>eng</td>\n",
       "      <td>815</td>\n",
       "      <td>240189</td>\n",
       "      <td>3954.0</td>\n",
       "      <td>57690755721</td>\n",
       "      <td>1.563412e+07</td>\n",
       "      <td>664225</td>\n",
       "    </tr>\n",
       "    <tr>\n",
       "      <th>10</th>\n",
       "      <td>14</td>\n",
       "      <td>The Hitchhiker's Guide to the Galaxy (Hitchhik...</td>\n",
       "      <td>Douglas Adams</td>\n",
       "      <td>4.0</td>\n",
       "      <td>1400052920</td>\n",
       "      <td>9781400052929</td>\n",
       "      <td>eng</td>\n",
       "      <td>215</td>\n",
       "      <td>4416</td>\n",
       "      <td>408.0</td>\n",
       "      <td>19501056</td>\n",
       "      <td>1.664640e+05</td>\n",
       "      <td>46225</td>\n",
       "    </tr>\n",
       "    <tr>\n",
       "      <th>11</th>\n",
       "      <td>16</td>\n",
       "      <td>The Hitchhiker's Guide to the Galaxy (Hitchhik...</td>\n",
       "      <td>Douglas Adams-Stephen Fry</td>\n",
       "      <td>4.0</td>\n",
       "      <td>0739322206</td>\n",
       "      <td>9780739322208</td>\n",
       "      <td>eng</td>\n",
       "      <td>6</td>\n",
       "      <td>1222</td>\n",
       "      <td>253.0</td>\n",
       "      <td>1493284</td>\n",
       "      <td>6.400900e+04</td>\n",
       "      <td>36</td>\n",
       "    </tr>\n",
       "    <tr>\n",
       "      <th>12</th>\n",
       "      <td>18</td>\n",
       "      <td>The Ultimate Hitchhiker's Guide (Hitchhiker's ...</td>\n",
       "      <td>Douglas Adams</td>\n",
       "      <td>4.0</td>\n",
       "      <td>0517149257</td>\n",
       "      <td>9780517149256</td>\n",
       "      <td>en-US</td>\n",
       "      <td>815</td>\n",
       "      <td>2801</td>\n",
       "      <td>192.0</td>\n",
       "      <td>7845601</td>\n",
       "      <td>3.686400e+04</td>\n",
       "      <td>664225</td>\n",
       "    </tr>\n",
       "    <tr>\n",
       "      <th>13</th>\n",
       "      <td>21</td>\n",
       "      <td>A Short History of Nearly Everything</td>\n",
       "      <td>Bill Bryson-William Roberts</td>\n",
       "      <td>4.0</td>\n",
       "      <td>076790818X</td>\n",
       "      <td>9780767908184</td>\n",
       "      <td>eng</td>\n",
       "      <td>544</td>\n",
       "      <td>228522</td>\n",
       "      <td>8840.0</td>\n",
       "      <td>52222304484</td>\n",
       "      <td>7.814560e+07</td>\n",
       "      <td>295936</td>\n",
       "    </tr>\n",
       "    <tr>\n",
       "      <th>14</th>\n",
       "      <td>22</td>\n",
       "      <td>Bill Bryson's African Diary</td>\n",
       "      <td>Bill Bryson</td>\n",
       "      <td>3.0</td>\n",
       "      <td>0767915062</td>\n",
       "      <td>9780767915069</td>\n",
       "      <td>eng</td>\n",
       "      <td>55</td>\n",
       "      <td>6993</td>\n",
       "      <td>470.0</td>\n",
       "      <td>48902049</td>\n",
       "      <td>2.209000e+05</td>\n",
       "      <td>3025</td>\n",
       "    </tr>\n",
       "    <tr>\n",
       "      <th>15</th>\n",
       "      <td>23</td>\n",
       "      <td>Bryson's Dictionary of Troublesome Words: A Wr...</td>\n",
       "      <td>Bill Bryson</td>\n",
       "      <td>4.0</td>\n",
       "      <td>0767910435</td>\n",
       "      <td>9780767910439</td>\n",
       "      <td>eng</td>\n",
       "      <td>256</td>\n",
       "      <td>2020</td>\n",
       "      <td>124.0</td>\n",
       "      <td>4080400</td>\n",
       "      <td>1.537600e+04</td>\n",
       "      <td>65536</td>\n",
       "    </tr>\n",
       "    <tr>\n",
       "      <th>16</th>\n",
       "      <td>24</td>\n",
       "      <td>In a Sunburned Country</td>\n",
       "      <td>Bill Bryson</td>\n",
       "      <td>4.0</td>\n",
       "      <td>0767903862</td>\n",
       "      <td>9780767903868</td>\n",
       "      <td>eng</td>\n",
       "      <td>335</td>\n",
       "      <td>68213</td>\n",
       "      <td>4077.0</td>\n",
       "      <td>4653013369</td>\n",
       "      <td>1.662193e+07</td>\n",
       "      <td>112225</td>\n",
       "    </tr>\n",
       "    <tr>\n",
       "      <th>17</th>\n",
       "      <td>25</td>\n",
       "      <td>I'm a Stranger Here Myself: Notes on Returning...</td>\n",
       "      <td>Bill Bryson</td>\n",
       "      <td>4.0</td>\n",
       "      <td>076790382X</td>\n",
       "      <td>9780767903820</td>\n",
       "      <td>eng</td>\n",
       "      <td>304</td>\n",
       "      <td>47490</td>\n",
       "      <td>2153.0</td>\n",
       "      <td>2255300100</td>\n",
       "      <td>4.635409e+06</td>\n",
       "      <td>92416</td>\n",
       "    </tr>\n",
       "    <tr>\n",
       "      <th>18</th>\n",
       "      <td>26</td>\n",
       "      <td>The Lost Continent: Travels in Small Town America</td>\n",
       "      <td>Bill Bryson</td>\n",
       "      <td>4.0</td>\n",
       "      <td>0060920084</td>\n",
       "      <td>9780060920081</td>\n",
       "      <td>en-US</td>\n",
       "      <td>299</td>\n",
       "      <td>43779</td>\n",
       "      <td>2146.0</td>\n",
       "      <td>1916600841</td>\n",
       "      <td>4.605316e+06</td>\n",
       "      <td>89401</td>\n",
       "    </tr>\n",
       "    <tr>\n",
       "      <th>19</th>\n",
       "      <td>27</td>\n",
       "      <td>Neither Here nor There: Travels in Europe</td>\n",
       "      <td>Bill Bryson</td>\n",
       "      <td>4.0</td>\n",
       "      <td>0380713802</td>\n",
       "      <td>9780380713806</td>\n",
       "      <td>eng</td>\n",
       "      <td>254</td>\n",
       "      <td>46397</td>\n",
       "      <td>2127.0</td>\n",
       "      <td>2152681609</td>\n",
       "      <td>4.524129e+06</td>\n",
       "      <td>64516</td>\n",
       "    </tr>\n",
       "    <tr>\n",
       "      <th>20</th>\n",
       "      <td>28</td>\n",
       "      <td>Notes from a Small Island</td>\n",
       "      <td>Bill Bryson</td>\n",
       "      <td>4.0</td>\n",
       "      <td>0380727501</td>\n",
       "      <td>9780380727506</td>\n",
       "      <td>eng</td>\n",
       "      <td>324</td>\n",
       "      <td>76476</td>\n",
       "      <td>3159.0</td>\n",
       "      <td>5848578576</td>\n",
       "      <td>9.979281e+06</td>\n",
       "      <td>104976</td>\n",
       "    </tr>\n",
       "    <tr>\n",
       "      <th>21</th>\n",
       "      <td>29</td>\n",
       "      <td>The Mother Tongue: English and How It Got That...</td>\n",
       "      <td>Bill Bryson</td>\n",
       "      <td>4.0</td>\n",
       "      <td>0380715430</td>\n",
       "      <td>9780380715435</td>\n",
       "      <td>eng</td>\n",
       "      <td>270</td>\n",
       "      <td>26672</td>\n",
       "      <td>1986.0</td>\n",
       "      <td>711395584</td>\n",
       "      <td>3.944196e+06</td>\n",
       "      <td>72900</td>\n",
       "    </tr>\n",
       "    <tr>\n",
       "      <th>22</th>\n",
       "      <td>30</td>\n",
       "      <td>J.R.R. Tolkien 4-Book Boxed Set: The Hobbit an...</td>\n",
       "      <td>J.R.R. Tolkien</td>\n",
       "      <td>5.0</td>\n",
       "      <td>0345538374</td>\n",
       "      <td>9780345538376</td>\n",
       "      <td>eng</td>\n",
       "      <td>1728</td>\n",
       "      <td>97731</td>\n",
       "      <td>1536.0</td>\n",
       "      <td>9551348361</td>\n",
       "      <td>2.359296e+06</td>\n",
       "      <td>2985984</td>\n",
       "    </tr>\n",
       "    <tr>\n",
       "      <th>23</th>\n",
       "      <td>31</td>\n",
       "      <td>The Lord of the Rings (The Lord of the Rings  ...</td>\n",
       "      <td>J.R.R. Tolkien</td>\n",
       "      <td>4.0</td>\n",
       "      <td>0618517650</td>\n",
       "      <td>9780618517657</td>\n",
       "      <td>eng</td>\n",
       "      <td>1184</td>\n",
       "      <td>1670</td>\n",
       "      <td>91.0</td>\n",
       "      <td>2788900</td>\n",
       "      <td>8.281000e+03</td>\n",
       "      <td>1401856</td>\n",
       "    </tr>\n",
       "    <tr>\n",
       "      <th>24</th>\n",
       "      <td>32</td>\n",
       "      <td>The Lord of the Rings (The Lord of the Rings  ...</td>\n",
       "      <td>J.R.R. Tolkien</td>\n",
       "      <td>4.0</td>\n",
       "      <td>0618346244</td>\n",
       "      <td>9780618346240</td>\n",
       "      <td>eng</td>\n",
       "      <td>1137</td>\n",
       "      <td>2819</td>\n",
       "      <td>139.0</td>\n",
       "      <td>7946761</td>\n",
       "      <td>1.932100e+04</td>\n",
       "      <td>1292769</td>\n",
       "    </tr>\n",
       "    <tr>\n",
       "      <th>25</th>\n",
       "      <td>34</td>\n",
       "      <td>The Fellowship of the Ring (The Lord of the Ri...</td>\n",
       "      <td>J.R.R. Tolkien</td>\n",
       "      <td>4.0</td>\n",
       "      <td>0618346252</td>\n",
       "      <td>9780618346257</td>\n",
       "      <td>eng</td>\n",
       "      <td>398</td>\n",
       "      <td>2009749</td>\n",
       "      <td>12784.0</td>\n",
       "      <td>4039091043001</td>\n",
       "      <td>1.634307e+08</td>\n",
       "      <td>158404</td>\n",
       "    </tr>\n",
       "    <tr>\n",
       "      <th>26</th>\n",
       "      <td>35</td>\n",
       "      <td>The Lord of the Rings (The Lord of the Rings  ...</td>\n",
       "      <td>J.R.R. Tolkien-Alan  Lee</td>\n",
       "      <td>4.0</td>\n",
       "      <td>0618260587</td>\n",
       "      <td>9780618260584</td>\n",
       "      <td>en-US</td>\n",
       "      <td>1216</td>\n",
       "      <td>1606</td>\n",
       "      <td>139.0</td>\n",
       "      <td>2579236</td>\n",
       "      <td>1.932100e+04</td>\n",
       "      <td>1478656</td>\n",
       "    </tr>\n",
       "    <tr>\n",
       "      <th>27</th>\n",
       "      <td>36</td>\n",
       "      <td>The Lord of the Rings: Weapons and Warfare</td>\n",
       "      <td>Chris   Smith-Christopher  Lee-Richard Taylor</td>\n",
       "      <td>5.0</td>\n",
       "      <td>0618391002</td>\n",
       "      <td>9780618391004</td>\n",
       "      <td>eng</td>\n",
       "      <td>218</td>\n",
       "      <td>18934</td>\n",
       "      <td>43.0</td>\n",
       "      <td>358496356</td>\n",
       "      <td>1.849000e+03</td>\n",
       "      <td>47524</td>\n",
       "    </tr>\n",
       "    <tr>\n",
       "      <th>28</th>\n",
       "      <td>37</td>\n",
       "      <td>The Lord of the Rings: Complete Visual Companion</td>\n",
       "      <td>Jude Fisher</td>\n",
       "      <td>4.0</td>\n",
       "      <td>0618510826</td>\n",
       "      <td>9780618510825</td>\n",
       "      <td>eng</td>\n",
       "      <td>224</td>\n",
       "      <td>343</td>\n",
       "      <td>6.0</td>\n",
       "      <td>117649</td>\n",
       "      <td>3.600000e+01</td>\n",
       "      <td>50176</td>\n",
       "    </tr>\n",
       "    <tr>\n",
       "      <th>29</th>\n",
       "      <td>38</td>\n",
       "      <td>The Lord of the Rings Box Set</td>\n",
       "      <td>J.R.R. Tolkien</td>\n",
       "      <td>4.0</td>\n",
       "      <td>0618153977</td>\n",
       "      <td>9780618153978</td>\n",
       "      <td>eng</td>\n",
       "      <td>1223</td>\n",
       "      <td>216</td>\n",
       "      <td>19.0</td>\n",
       "      <td>46656</td>\n",
       "      <td>3.610000e+02</td>\n",
       "      <td>1495729</td>\n",
       "    </tr>\n",
       "    <tr>\n",
       "      <th>...</th>\n",
       "      <td>...</td>\n",
       "      <td>...</td>\n",
       "      <td>...</td>\n",
       "      <td>...</td>\n",
       "      <td>...</td>\n",
       "      <td>...</td>\n",
       "      <td>...</td>\n",
       "      <td>...</td>\n",
       "      <td>...</td>\n",
       "      <td>...</td>\n",
       "      <td>...</td>\n",
       "      <td>...</td>\n",
       "      <td>...</td>\n",
       "    </tr>\n",
       "    <tr>\n",
       "      <th>13689</th>\n",
       "      <td>47626</td>\n",
       "      <td>Shade's Children</td>\n",
       "      <td>Garth Nix</td>\n",
       "      <td>4.0</td>\n",
       "      <td>0064471969</td>\n",
       "      <td>9780064471961</td>\n",
       "      <td>eng</td>\n",
       "      <td>345</td>\n",
       "      <td>10368</td>\n",
       "      <td>459.0</td>\n",
       "      <td>107495424</td>\n",
       "      <td>2.106810e+05</td>\n",
       "      <td>119025</td>\n",
       "    </tr>\n",
       "    <tr>\n",
       "      <th>13690</th>\n",
       "      <td>47627</td>\n",
       "      <td>Into Battle (The Seventh Tower  #5)</td>\n",
       "      <td>Garth Nix-Steve Rawlings</td>\n",
       "      <td>4.0</td>\n",
       "      <td>0439176867</td>\n",
       "      <td>9780439176866</td>\n",
       "      <td>en-GB</td>\n",
       "      <td>208</td>\n",
       "      <td>4887</td>\n",
       "      <td>43.0</td>\n",
       "      <td>23882769</td>\n",
       "      <td>1.849000e+03</td>\n",
       "      <td>43264</td>\n",
       "    </tr>\n",
       "    <tr>\n",
       "      <th>13691</th>\n",
       "      <td>47629</td>\n",
       "      <td>Lirael (Abhorsen  #2)</td>\n",
       "      <td>Garth Nix</td>\n",
       "      <td>4.0</td>\n",
       "      <td>0007137338</td>\n",
       "      <td>9780007137336</td>\n",
       "      <td>en-GB</td>\n",
       "      <td>527</td>\n",
       "      <td>1339</td>\n",
       "      <td>122.0</td>\n",
       "      <td>1792921</td>\n",
       "      <td>1.488400e+04</td>\n",
       "      <td>277729</td>\n",
       "    </tr>\n",
       "    <tr>\n",
       "      <th>13692</th>\n",
       "      <td>47630</td>\n",
       "      <td>Serena and the Sea Serpent (Aussie Bites)</td>\n",
       "      <td>Garth Nix-Stephen Michael King</td>\n",
       "      <td>4.0</td>\n",
       "      <td>0141309407</td>\n",
       "      <td>9780141309408</td>\n",
       "      <td>eng</td>\n",
       "      <td>79</td>\n",
       "      <td>33</td>\n",
       "      <td>5.0</td>\n",
       "      <td>1089</td>\n",
       "      <td>2.500000e+01</td>\n",
       "      <td>6241</td>\n",
       "    </tr>\n",
       "    <tr>\n",
       "      <th>13693</th>\n",
       "      <td>47631</td>\n",
       "      <td>The Abhorsen Trilogy (The Abhorsen Trilogy  #1-3)</td>\n",
       "      <td>Garth Nix</td>\n",
       "      <td>5.0</td>\n",
       "      <td>0739432176</td>\n",
       "      <td>9780739432174</td>\n",
       "      <td>eng</td>\n",
       "      <td>777</td>\n",
       "      <td>89</td>\n",
       "      <td>8.0</td>\n",
       "      <td>7921</td>\n",
       "      <td>6.400000e+01</td>\n",
       "      <td>603729</td>\n",
       "    </tr>\n",
       "    <tr>\n",
       "      <th>13694</th>\n",
       "      <td>47632</td>\n",
       "      <td>Born in Blood and Fire: A Concise History of L...</td>\n",
       "      <td>John Charles Chasteen</td>\n",
       "      <td>4.0</td>\n",
       "      <td>0393927695</td>\n",
       "      <td>9780393927696</td>\n",
       "      <td>eng</td>\n",
       "      <td>372</td>\n",
       "      <td>1089</td>\n",
       "      <td>74.0</td>\n",
       "      <td>1185921</td>\n",
       "      <td>5.476000e+03</td>\n",
       "      <td>138384</td>\n",
       "    </tr>\n",
       "    <tr>\n",
       "      <th>13695</th>\n",
       "      <td>47633</td>\n",
       "      <td>The Teahouse Fire</td>\n",
       "      <td>Ellis Avery</td>\n",
       "      <td>3.0</td>\n",
       "      <td>1594489300</td>\n",
       "      <td>9781594489303</td>\n",
       "      <td>en-US</td>\n",
       "      <td>391</td>\n",
       "      <td>2791</td>\n",
       "      <td>372.0</td>\n",
       "      <td>7789681</td>\n",
       "      <td>1.383840e+05</td>\n",
       "      <td>152881</td>\n",
       "    </tr>\n",
       "    <tr>\n",
       "      <th>13696</th>\n",
       "      <td>47642</td>\n",
       "      <td>Castle (The Seventh Tower  #2)</td>\n",
       "      <td>Garth Nix-Steve Rawlings</td>\n",
       "      <td>4.0</td>\n",
       "      <td>0439176832</td>\n",
       "      <td>9780439176835</td>\n",
       "      <td>eng</td>\n",
       "      <td>215</td>\n",
       "      <td>5656</td>\n",
       "      <td>81.0</td>\n",
       "      <td>31990336</td>\n",
       "      <td>6.561000e+03</td>\n",
       "      <td>46225</td>\n",
       "    </tr>\n",
       "    <tr>\n",
       "      <th>13697</th>\n",
       "      <td>47643</td>\n",
       "      <td>The Seventh Tower (The Seventh Tower  #1-3)</td>\n",
       "      <td>Garth Nix</td>\n",
       "      <td>4.0</td>\n",
       "      <td>0439485878</td>\n",
       "      <td>9780439485876</td>\n",
       "      <td>en-US</td>\n",
       "      <td>649</td>\n",
       "      <td>61</td>\n",
       "      <td>2.0</td>\n",
       "      <td>3721</td>\n",
       "      <td>4.000000e+00</td>\n",
       "      <td>421201</td>\n",
       "    </tr>\n",
       "    <tr>\n",
       "      <th>13698</th>\n",
       "      <td>47644</td>\n",
       "      <td>Lirael: Daughter of the Clayr (The Abhorsen Tr...</td>\n",
       "      <td>Garth Nix-Tim Curry</td>\n",
       "      <td>4.0</td>\n",
       "      <td>0807205583</td>\n",
       "      <td>9780807205587</td>\n",
       "      <td>eng</td>\n",
       "      <td>15</td>\n",
       "      <td>23</td>\n",
       "      <td>3.0</td>\n",
       "      <td>529</td>\n",
       "      <td>9.000000e+00</td>\n",
       "      <td>225</td>\n",
       "    </tr>\n",
       "    <tr>\n",
       "      <th>13699</th>\n",
       "      <td>47645</td>\n",
       "      <td>Lirael (Abhorsen  #2)</td>\n",
       "      <td>Garth Nix</td>\n",
       "      <td>4.0</td>\n",
       "      <td>0060005424</td>\n",
       "      <td>9780060005429</td>\n",
       "      <td>en-CA</td>\n",
       "      <td>705</td>\n",
       "      <td>3325</td>\n",
       "      <td>351.0</td>\n",
       "      <td>11055625</td>\n",
       "      <td>1.232010e+05</td>\n",
       "      <td>497025</td>\n",
       "    </tr>\n",
       "    <tr>\n",
       "      <th>13700</th>\n",
       "      <td>47648</td>\n",
       "      <td>Abhorsen: La novena puerta (The Abhorsen Trilo...</td>\n",
       "      <td>Garth Nix</td>\n",
       "      <td>4.0</td>\n",
       "      <td>8478715088</td>\n",
       "      <td>9788478715084</td>\n",
       "      <td>spa</td>\n",
       "      <td>315</td>\n",
       "      <td>13</td>\n",
       "      <td>2.0</td>\n",
       "      <td>169</td>\n",
       "      <td>4.000000e+00</td>\n",
       "      <td>99225</td>\n",
       "    </tr>\n",
       "    <tr>\n",
       "      <th>13701</th>\n",
       "      <td>47649</td>\n",
       "      <td>Point Clear</td>\n",
       "      <td>Jennifer Paddock</td>\n",
       "      <td>3.0</td>\n",
       "      <td>0743287827</td>\n",
       "      <td>9780743287821</td>\n",
       "      <td>eng</td>\n",
       "      <td>240</td>\n",
       "      <td>179</td>\n",
       "      <td>32.0</td>\n",
       "      <td>32041</td>\n",
       "      <td>1.024000e+03</td>\n",
       "      <td>57600</td>\n",
       "    </tr>\n",
       "    <tr>\n",
       "      <th>13702</th>\n",
       "      <td>47658</td>\n",
       "      <td>Lake Forest: Estates  People and Culture (Imag...</td>\n",
       "      <td>Arthur H. Miller-Shirley M. Paddock</td>\n",
       "      <td>3.0</td>\n",
       "      <td>0738507938</td>\n",
       "      <td>9780738507934</td>\n",
       "      <td>eng</td>\n",
       "      <td>128</td>\n",
       "      <td>2</td>\n",
       "      <td>0.0</td>\n",
       "      <td>4</td>\n",
       "      <td>0.000000e+00</td>\n",
       "      <td>16384</td>\n",
       "    </tr>\n",
       "    <tr>\n",
       "      <th>13703</th>\n",
       "      <td>47660</td>\n",
       "      <td>Rebeca</td>\n",
       "      <td>Daphne du Maurier</td>\n",
       "      <td>4.0</td>\n",
       "      <td>840146272X</td>\n",
       "      <td>9788401462726</td>\n",
       "      <td>spa</td>\n",
       "      <td>544</td>\n",
       "      <td>67</td>\n",
       "      <td>8.0</td>\n",
       "      <td>4489</td>\n",
       "      <td>6.400000e+01</td>\n",
       "      <td>295936</td>\n",
       "    </tr>\n",
       "    <tr>\n",
       "      <th>13704</th>\n",
       "      <td>47666</td>\n",
       "      <td>Abhorsen (Abhorsen  #3)</td>\n",
       "      <td>Garth Nix</td>\n",
       "      <td>4.0</td>\n",
       "      <td>0007137354</td>\n",
       "      <td>9780007137350</td>\n",
       "      <td>en-GB</td>\n",
       "      <td>396</td>\n",
       "      <td>1830</td>\n",
       "      <td>156.0</td>\n",
       "      <td>3348900</td>\n",
       "      <td>2.433600e+04</td>\n",
       "      <td>156816</td>\n",
       "    </tr>\n",
       "    <tr>\n",
       "      <th>13705</th>\n",
       "      <td>47667</td>\n",
       "      <td>Seeing</td>\n",
       "      <td>José Saramago-Margaret Jull Costa</td>\n",
       "      <td>4.0</td>\n",
       "      <td>0156032732</td>\n",
       "      <td>9780156032735</td>\n",
       "      <td>eng</td>\n",
       "      <td>307</td>\n",
       "      <td>8480</td>\n",
       "      <td>625.0</td>\n",
       "      <td>71910400</td>\n",
       "      <td>3.906250e+05</td>\n",
       "      <td>94249</td>\n",
       "    </tr>\n",
       "    <tr>\n",
       "      <th>13706</th>\n",
       "      <td>47668</td>\n",
       "      <td>Ensayo sobre la ceguera</td>\n",
       "      <td>José Saramago</td>\n",
       "      <td>4.0</td>\n",
       "      <td>9707311150</td>\n",
       "      <td>9789707311152</td>\n",
       "      <td>spa</td>\n",
       "      <td>329</td>\n",
       "      <td>10296</td>\n",
       "      <td>686.0</td>\n",
       "      <td>106007616</td>\n",
       "      <td>4.705960e+05</td>\n",
       "      <td>108241</td>\n",
       "    </tr>\n",
       "    <tr>\n",
       "      <th>13707</th>\n",
       "      <td>47674</td>\n",
       "      <td>Papa  Please Get the Moon for Me</td>\n",
       "      <td>Eric Carle</td>\n",
       "      <td>4.0</td>\n",
       "      <td>0887081770</td>\n",
       "      <td>9780887081774</td>\n",
       "      <td>eng</td>\n",
       "      <td>40</td>\n",
       "      <td>4359</td>\n",
       "      <td>209.0</td>\n",
       "      <td>19000881</td>\n",
       "      <td>4.368100e+04</td>\n",
       "      <td>1600</td>\n",
       "    </tr>\n",
       "    <tr>\n",
       "      <th>13708</th>\n",
       "      <td>47683</td>\n",
       "      <td>The Cinderella Pact</td>\n",
       "      <td>Sarah Strohmeyer-Katarína Repatá</td>\n",
       "      <td>4.0</td>\n",
       "      <td>0525949577</td>\n",
       "      <td>9780525949572</td>\n",
       "      <td>eng</td>\n",
       "      <td>304</td>\n",
       "      <td>10322</td>\n",
       "      <td>616.0</td>\n",
       "      <td>106543684</td>\n",
       "      <td>3.794560e+05</td>\n",
       "      <td>92416</td>\n",
       "    </tr>\n",
       "    <tr>\n",
       "      <th>13709</th>\n",
       "      <td>47687</td>\n",
       "      <td>Peace Pact: The Lost World of the American Fou...</td>\n",
       "      <td>David C. Hendrickson</td>\n",
       "      <td>3.0</td>\n",
       "      <td>0700614931</td>\n",
       "      <td>9780700614936</td>\n",
       "      <td>eng</td>\n",
       "      <td>402</td>\n",
       "      <td>21</td>\n",
       "      <td>0.0</td>\n",
       "      <td>441</td>\n",
       "      <td>0.000000e+00</td>\n",
       "      <td>161604</td>\n",
       "    </tr>\n",
       "    <tr>\n",
       "      <th>13710</th>\n",
       "      <td>47692</td>\n",
       "      <td>American Gods</td>\n",
       "      <td>Neil Gaiman</td>\n",
       "      <td>4.0</td>\n",
       "      <td>1594970998</td>\n",
       "      <td>9781594970993</td>\n",
       "      <td>spa</td>\n",
       "      <td>477</td>\n",
       "      <td>58</td>\n",
       "      <td>6.0</td>\n",
       "      <td>3364</td>\n",
       "      <td>3.600000e+01</td>\n",
       "      <td>227529</td>\n",
       "    </tr>\n",
       "    <tr>\n",
       "      <th>13711</th>\n",
       "      <td>47693</td>\n",
       "      <td>The Day I Swapped My Dad for Two Goldfish</td>\n",
       "      <td>Neil Gaiman-Dave McKean</td>\n",
       "      <td>4.0</td>\n",
       "      <td>0060587016</td>\n",
       "      <td>9780060587017</td>\n",
       "      <td>en-US</td>\n",
       "      <td>64</td>\n",
       "      <td>8744</td>\n",
       "      <td>524.0</td>\n",
       "      <td>76457536</td>\n",
       "      <td>2.745760e+05</td>\n",
       "      <td>4096</td>\n",
       "    </tr>\n",
       "    <tr>\n",
       "      <th>13712</th>\n",
       "      <td>47695</td>\n",
       "      <td>Harlequin Valentine</td>\n",
       "      <td>Neil Gaiman-John Bolton</td>\n",
       "      <td>4.0</td>\n",
       "      <td>1840234113</td>\n",
       "      <td>9781840234114</td>\n",
       "      <td>eng</td>\n",
       "      <td>40</td>\n",
       "      <td>2441</td>\n",
       "      <td>68.0</td>\n",
       "      <td>5958481</td>\n",
       "      <td>4.624000e+03</td>\n",
       "      <td>1600</td>\n",
       "    </tr>\n",
       "    <tr>\n",
       "      <th>13713</th>\n",
       "      <td>47697</td>\n",
       "      <td>The Sandman: King of Dreams</td>\n",
       "      <td>Alisa Kwitney-Neil Gaiman</td>\n",
       "      <td>5.0</td>\n",
       "      <td>0811835928</td>\n",
       "      <td>9780811835923</td>\n",
       "      <td>eng</td>\n",
       "      <td>180</td>\n",
       "      <td>12775</td>\n",
       "      <td>34.0</td>\n",
       "      <td>163200625</td>\n",
       "      <td>1.156000e+03</td>\n",
       "      <td>32400</td>\n",
       "    </tr>\n",
       "    <tr>\n",
       "      <th>13714</th>\n",
       "      <td>47699</td>\n",
       "      <td>M Is for Magic</td>\n",
       "      <td>Neil Gaiman-Teddy Kristiansen</td>\n",
       "      <td>4.0</td>\n",
       "      <td>0061186422</td>\n",
       "      <td>9780061186424</td>\n",
       "      <td>eng</td>\n",
       "      <td>260</td>\n",
       "      <td>11317</td>\n",
       "      <td>1060.0</td>\n",
       "      <td>128074489</td>\n",
       "      <td>1.123600e+06</td>\n",
       "      <td>67600</td>\n",
       "    </tr>\n",
       "    <tr>\n",
       "      <th>13715</th>\n",
       "      <td>47700</td>\n",
       "      <td>Black Orchid</td>\n",
       "      <td>Neil Gaiman-Dave McKean</td>\n",
       "      <td>4.0</td>\n",
       "      <td>0930289552</td>\n",
       "      <td>9780930289553</td>\n",
       "      <td>eng</td>\n",
       "      <td>160</td>\n",
       "      <td>8710</td>\n",
       "      <td>361.0</td>\n",
       "      <td>75864100</td>\n",
       "      <td>1.303210e+05</td>\n",
       "      <td>25600</td>\n",
       "    </tr>\n",
       "    <tr>\n",
       "      <th>13716</th>\n",
       "      <td>47701</td>\n",
       "      <td>InterWorld (InterWorld  #1)</td>\n",
       "      <td>Neil Gaiman-Michael Reaves</td>\n",
       "      <td>4.0</td>\n",
       "      <td>0061238961</td>\n",
       "      <td>9780061238963</td>\n",
       "      <td>en-US</td>\n",
       "      <td>239</td>\n",
       "      <td>14334</td>\n",
       "      <td>1485.0</td>\n",
       "      <td>205463556</td>\n",
       "      <td>2.205225e+06</td>\n",
       "      <td>57121</td>\n",
       "    </tr>\n",
       "    <tr>\n",
       "      <th>13717</th>\n",
       "      <td>47708</td>\n",
       "      <td>The Faeries' Oracle</td>\n",
       "      <td>Brian Froud-Jessica Macbeth</td>\n",
       "      <td>4.0</td>\n",
       "      <td>0743201116</td>\n",
       "      <td>9780743201117</td>\n",
       "      <td>eng</td>\n",
       "      <td>224</td>\n",
       "      <td>1550</td>\n",
       "      <td>38.0</td>\n",
       "      <td>2402500</td>\n",
       "      <td>1.444000e+03</td>\n",
       "      <td>50176</td>\n",
       "    </tr>\n",
       "    <tr>\n",
       "      <th>13718</th>\n",
       "      <td>47709</td>\n",
       "      <td>The World of The Dark Crystal</td>\n",
       "      <td>Brian Froud</td>\n",
       "      <td>4.0</td>\n",
       "      <td>1862056242</td>\n",
       "      <td>9781862056244</td>\n",
       "      <td>eng</td>\n",
       "      <td>132</td>\n",
       "      <td>3572</td>\n",
       "      <td>33.0</td>\n",
       "      <td>12759184</td>\n",
       "      <td>1.089000e+03</td>\n",
       "      <td>17424</td>\n",
       "    </tr>\n",
       "  </tbody>\n",
       "</table>\n",
       "<p>13718 rows × 13 columns</p>\n",
       "</div>"
      ],
      "text/plain": [
       "       bookID                                              title  \\\n",
       "0           1  Harry Potter and the Half-Blood Prince (Harry ...   \n",
       "1           2  Harry Potter and the Order of the Phoenix (Har...   \n",
       "2           3  Harry Potter and the Sorcerer's Stone (Harry P...   \n",
       "3           4  Harry Potter and the Chamber of Secrets (Harry...   \n",
       "4           5  Harry Potter and the Prisoner of Azkaban (Harr...   \n",
       "5           8  Harry Potter Boxed Set  Books 1-5 (Harry Potte...   \n",
       "6           9  Unauthorized Harry Potter Book Seven News: \"Ha...   \n",
       "7          10       Harry Potter Collection (Harry Potter  #1-6)   \n",
       "8          12  The Ultimate Hitchhiker's Guide: Five Complete...   \n",
       "9          13      The Ultimate Hitchhiker's Guide to the Galaxy   \n",
       "10         14  The Hitchhiker's Guide to the Galaxy (Hitchhik...   \n",
       "11         16  The Hitchhiker's Guide to the Galaxy (Hitchhik...   \n",
       "12         18  The Ultimate Hitchhiker's Guide (Hitchhiker's ...   \n",
       "13         21               A Short History of Nearly Everything   \n",
       "14         22                        Bill Bryson's African Diary   \n",
       "15         23  Bryson's Dictionary of Troublesome Words: A Wr...   \n",
       "16         24                             In a Sunburned Country   \n",
       "17         25  I'm a Stranger Here Myself: Notes on Returning...   \n",
       "18         26  The Lost Continent: Travels in Small Town America   \n",
       "19         27          Neither Here nor There: Travels in Europe   \n",
       "20         28                          Notes from a Small Island   \n",
       "21         29  The Mother Tongue: English and How It Got That...   \n",
       "22         30  J.R.R. Tolkien 4-Book Boxed Set: The Hobbit an...   \n",
       "23         31  The Lord of the Rings (The Lord of the Rings  ...   \n",
       "24         32  The Lord of the Rings (The Lord of the Rings  ...   \n",
       "25         34  The Fellowship of the Ring (The Lord of the Ri...   \n",
       "26         35  The Lord of the Rings (The Lord of the Rings  ...   \n",
       "27         36         The Lord of the Rings: Weapons and Warfare   \n",
       "28         37   The Lord of the Rings: Complete Visual Companion   \n",
       "29         38                      The Lord of the Rings Box Set   \n",
       "...       ...                                                ...   \n",
       "13689   47626                                   Shade's Children   \n",
       "13690   47627                Into Battle (The Seventh Tower  #5)   \n",
       "13691   47629                              Lirael (Abhorsen  #2)   \n",
       "13692   47630          Serena and the Sea Serpent (Aussie Bites)   \n",
       "13693   47631  The Abhorsen Trilogy (The Abhorsen Trilogy  #1-3)   \n",
       "13694   47632  Born in Blood and Fire: A Concise History of L...   \n",
       "13695   47633                                  The Teahouse Fire   \n",
       "13696   47642                     Castle (The Seventh Tower  #2)   \n",
       "13697   47643        The Seventh Tower (The Seventh Tower  #1-3)   \n",
       "13698   47644  Lirael: Daughter of the Clayr (The Abhorsen Tr...   \n",
       "13699   47645                              Lirael (Abhorsen  #2)   \n",
       "13700   47648  Abhorsen: La novena puerta (The Abhorsen Trilo...   \n",
       "13701   47649                                        Point Clear   \n",
       "13702   47658  Lake Forest: Estates  People and Culture (Imag...   \n",
       "13703   47660                                             Rebeca   \n",
       "13704   47666                            Abhorsen (Abhorsen  #3)   \n",
       "13705   47667                                             Seeing   \n",
       "13706   47668                            Ensayo sobre la ceguera   \n",
       "13707   47674                   Papa  Please Get the Moon for Me   \n",
       "13708   47683                                The Cinderella Pact   \n",
       "13709   47687  Peace Pact: The Lost World of the American Fou...   \n",
       "13710   47692                                      American Gods   \n",
       "13711   47693          The Day I Swapped My Dad for Two Goldfish   \n",
       "13712   47695                                Harlequin Valentine   \n",
       "13713   47697                        The Sandman: King of Dreams   \n",
       "13714   47699                                     M Is for Magic   \n",
       "13715   47700                                       Black Orchid   \n",
       "13716   47701                        InterWorld (InterWorld  #1)   \n",
       "13717   47708                                The Faeries' Oracle   \n",
       "13718   47709                      The World of The Dark Crystal   \n",
       "\n",
       "                                             authors  avr_rate        isbn  \\\n",
       "0                         J.K. Rowling-Mary GrandPré       5.0  0439785960   \n",
       "1                         J.K. Rowling-Mary GrandPré       4.0  0439358078   \n",
       "2                         J.K. Rowling-Mary GrandPré       4.0  0439554934   \n",
       "3                                       J.K. Rowling       4.0  0439554896   \n",
       "4                         J.K. Rowling-Mary GrandPré       5.0  043965548X   \n",
       "5                         J.K. Rowling-Mary GrandPré       5.0  0439682584   \n",
       "6                             W. Frederick Zimmerman       4.0  0976540606   \n",
       "7                                       J.K. Rowling       5.0  0439827604   \n",
       "8                                      Douglas Adams       4.0  0517226952   \n",
       "9                                      Douglas Adams       4.0  0345453743   \n",
       "10                                     Douglas Adams       4.0  1400052920   \n",
       "11                         Douglas Adams-Stephen Fry       4.0  0739322206   \n",
       "12                                     Douglas Adams       4.0  0517149257   \n",
       "13                       Bill Bryson-William Roberts       4.0  076790818X   \n",
       "14                                       Bill Bryson       3.0  0767915062   \n",
       "15                                       Bill Bryson       4.0  0767910435   \n",
       "16                                       Bill Bryson       4.0  0767903862   \n",
       "17                                       Bill Bryson       4.0  076790382X   \n",
       "18                                       Bill Bryson       4.0  0060920084   \n",
       "19                                       Bill Bryson       4.0  0380713802   \n",
       "20                                       Bill Bryson       4.0  0380727501   \n",
       "21                                       Bill Bryson       4.0  0380715430   \n",
       "22                                    J.R.R. Tolkien       5.0  0345538374   \n",
       "23                                    J.R.R. Tolkien       4.0  0618517650   \n",
       "24                                    J.R.R. Tolkien       4.0  0618346244   \n",
       "25                                    J.R.R. Tolkien       4.0  0618346252   \n",
       "26                          J.R.R. Tolkien-Alan  Lee       4.0  0618260587   \n",
       "27     Chris   Smith-Christopher  Lee-Richard Taylor       5.0  0618391002   \n",
       "28                                       Jude Fisher       4.0  0618510826   \n",
       "29                                    J.R.R. Tolkien       4.0  0618153977   \n",
       "...                                              ...       ...         ...   \n",
       "13689                                      Garth Nix       4.0  0064471969   \n",
       "13690                       Garth Nix-Steve Rawlings       4.0  0439176867   \n",
       "13691                                      Garth Nix       4.0  0007137338   \n",
       "13692                 Garth Nix-Stephen Michael King       4.0  0141309407   \n",
       "13693                                      Garth Nix       5.0  0739432176   \n",
       "13694                          John Charles Chasteen       4.0  0393927695   \n",
       "13695                                    Ellis Avery       3.0  1594489300   \n",
       "13696                       Garth Nix-Steve Rawlings       4.0  0439176832   \n",
       "13697                                      Garth Nix       4.0  0439485878   \n",
       "13698                            Garth Nix-Tim Curry       4.0  0807205583   \n",
       "13699                                      Garth Nix       4.0  0060005424   \n",
       "13700                                      Garth Nix       4.0  8478715088   \n",
       "13701                               Jennifer Paddock       3.0  0743287827   \n",
       "13702            Arthur H. Miller-Shirley M. Paddock       3.0  0738507938   \n",
       "13703                              Daphne du Maurier       4.0  840146272X   \n",
       "13704                                      Garth Nix       4.0  0007137354   \n",
       "13705              José Saramago-Margaret Jull Costa       4.0  0156032732   \n",
       "13706                                  José Saramago       4.0  9707311150   \n",
       "13707                                     Eric Carle       4.0  0887081770   \n",
       "13708               Sarah Strohmeyer-Katarína Repatá       4.0  0525949577   \n",
       "13709                           David C. Hendrickson       3.0  0700614931   \n",
       "13710                                    Neil Gaiman       4.0  1594970998   \n",
       "13711                        Neil Gaiman-Dave McKean       4.0  0060587016   \n",
       "13712                        Neil Gaiman-John Bolton       4.0  1840234113   \n",
       "13713                      Alisa Kwitney-Neil Gaiman       5.0  0811835928   \n",
       "13714                  Neil Gaiman-Teddy Kristiansen       4.0  0061186422   \n",
       "13715                        Neil Gaiman-Dave McKean       4.0  0930289552   \n",
       "13716                     Neil Gaiman-Michael Reaves       4.0  0061238961   \n",
       "13717                    Brian Froud-Jessica Macbeth       4.0  0743201116   \n",
       "13718                                    Brian Froud       4.0  1862056242   \n",
       "\n",
       "              isbn13 language  num_pages  ratings  text_reviews  \\\n",
       "0      9780439785969      eng        652  1944099       26249.0   \n",
       "1      9780439358071      eng        870  1996446       27613.0   \n",
       "2      9780439554930      eng        320  5629932       70390.0   \n",
       "3      9780439554893      eng        352     6267         272.0   \n",
       "4      9780439655484      eng        435  2149872       33964.0   \n",
       "5      9780439682589      eng       2690    38872         154.0   \n",
       "6      9780976540601    en-US        152       18           1.0   \n",
       "7      9780439827607      eng       3342    27410         820.0   \n",
       "8      9780517226957      eng        815     3602         258.0   \n",
       "9      9780345453747      eng        815   240189        3954.0   \n",
       "10     9781400052929      eng        215     4416         408.0   \n",
       "11     9780739322208      eng          6     1222         253.0   \n",
       "12     9780517149256    en-US        815     2801         192.0   \n",
       "13     9780767908184      eng        544   228522        8840.0   \n",
       "14     9780767915069      eng         55     6993         470.0   \n",
       "15     9780767910439      eng        256     2020         124.0   \n",
       "16     9780767903868      eng        335    68213        4077.0   \n",
       "17     9780767903820      eng        304    47490        2153.0   \n",
       "18     9780060920081    en-US        299    43779        2146.0   \n",
       "19     9780380713806      eng        254    46397        2127.0   \n",
       "20     9780380727506      eng        324    76476        3159.0   \n",
       "21     9780380715435      eng        270    26672        1986.0   \n",
       "22     9780345538376      eng       1728    97731        1536.0   \n",
       "23     9780618517657      eng       1184     1670          91.0   \n",
       "24     9780618346240      eng       1137     2819         139.0   \n",
       "25     9780618346257      eng        398  2009749       12784.0   \n",
       "26     9780618260584    en-US       1216     1606         139.0   \n",
       "27     9780618391004      eng        218    18934          43.0   \n",
       "28     9780618510825      eng        224      343           6.0   \n",
       "29     9780618153978      eng       1223      216          19.0   \n",
       "...              ...      ...        ...      ...           ...   \n",
       "13689  9780064471961      eng        345    10368         459.0   \n",
       "13690  9780439176866    en-GB        208     4887          43.0   \n",
       "13691  9780007137336    en-GB        527     1339         122.0   \n",
       "13692  9780141309408      eng         79       33           5.0   \n",
       "13693  9780739432174      eng        777       89           8.0   \n",
       "13694  9780393927696      eng        372     1089          74.0   \n",
       "13695  9781594489303    en-US        391     2791         372.0   \n",
       "13696  9780439176835      eng        215     5656          81.0   \n",
       "13697  9780439485876    en-US        649       61           2.0   \n",
       "13698  9780807205587      eng         15       23           3.0   \n",
       "13699  9780060005429    en-CA        705     3325         351.0   \n",
       "13700  9788478715084      spa        315       13           2.0   \n",
       "13701  9780743287821      eng        240      179          32.0   \n",
       "13702  9780738507934      eng        128        2           0.0   \n",
       "13703  9788401462726      spa        544       67           8.0   \n",
       "13704  9780007137350    en-GB        396     1830         156.0   \n",
       "13705  9780156032735      eng        307     8480         625.0   \n",
       "13706  9789707311152      spa        329    10296         686.0   \n",
       "13707  9780887081774      eng         40     4359         209.0   \n",
       "13708  9780525949572      eng        304    10322         616.0   \n",
       "13709  9780700614936      eng        402       21           0.0   \n",
       "13710  9781594970993      spa        477       58           6.0   \n",
       "13711  9780060587017    en-US         64     8744         524.0   \n",
       "13712  9781840234114      eng         40     2441          68.0   \n",
       "13713  9780811835923      eng        180    12775          34.0   \n",
       "13714  9780061186424      eng        260    11317        1060.0   \n",
       "13715  9780930289553      eng        160     8710         361.0   \n",
       "13716  9780061238963    en-US        239    14334        1485.0   \n",
       "13717  9780743201117      eng        224     1550          38.0   \n",
       "13718  9781862056244      eng        132     3572          33.0   \n",
       "\n",
       "             ratings2  text_reviews2  num_pages2  \n",
       "0       3779520921801   6.890100e+08      425104  \n",
       "1       3985796630916   7.624778e+08      756900  \n",
       "2      31696134324624   4.954752e+09      102400  \n",
       "3            39275289   7.398400e+04      123904  \n",
       "4       4621949616384   1.153553e+09      189225  \n",
       "5          1511032384   2.371600e+04     7236100  \n",
       "6                 324   1.000000e+00       23104  \n",
       "7           751308100   6.724000e+05    11168964  \n",
       "8            12974404   6.656400e+04      664225  \n",
       "9         57690755721   1.563412e+07      664225  \n",
       "10           19501056   1.664640e+05       46225  \n",
       "11            1493284   6.400900e+04          36  \n",
       "12            7845601   3.686400e+04      664225  \n",
       "13        52222304484   7.814560e+07      295936  \n",
       "14           48902049   2.209000e+05        3025  \n",
       "15            4080400   1.537600e+04       65536  \n",
       "16         4653013369   1.662193e+07      112225  \n",
       "17         2255300100   4.635409e+06       92416  \n",
       "18         1916600841   4.605316e+06       89401  \n",
       "19         2152681609   4.524129e+06       64516  \n",
       "20         5848578576   9.979281e+06      104976  \n",
       "21          711395584   3.944196e+06       72900  \n",
       "22         9551348361   2.359296e+06     2985984  \n",
       "23            2788900   8.281000e+03     1401856  \n",
       "24            7946761   1.932100e+04     1292769  \n",
       "25      4039091043001   1.634307e+08      158404  \n",
       "26            2579236   1.932100e+04     1478656  \n",
       "27          358496356   1.849000e+03       47524  \n",
       "28             117649   3.600000e+01       50176  \n",
       "29              46656   3.610000e+02     1495729  \n",
       "...               ...            ...         ...  \n",
       "13689       107495424   2.106810e+05      119025  \n",
       "13690        23882769   1.849000e+03       43264  \n",
       "13691         1792921   1.488400e+04      277729  \n",
       "13692            1089   2.500000e+01        6241  \n",
       "13693            7921   6.400000e+01      603729  \n",
       "13694         1185921   5.476000e+03      138384  \n",
       "13695         7789681   1.383840e+05      152881  \n",
       "13696        31990336   6.561000e+03       46225  \n",
       "13697            3721   4.000000e+00      421201  \n",
       "13698             529   9.000000e+00         225  \n",
       "13699        11055625   1.232010e+05      497025  \n",
       "13700             169   4.000000e+00       99225  \n",
       "13701           32041   1.024000e+03       57600  \n",
       "13702               4   0.000000e+00       16384  \n",
       "13703            4489   6.400000e+01      295936  \n",
       "13704         3348900   2.433600e+04      156816  \n",
       "13705        71910400   3.906250e+05       94249  \n",
       "13706       106007616   4.705960e+05      108241  \n",
       "13707        19000881   4.368100e+04        1600  \n",
       "13708       106543684   3.794560e+05       92416  \n",
       "13709             441   0.000000e+00      161604  \n",
       "13710            3364   3.600000e+01      227529  \n",
       "13711        76457536   2.745760e+05        4096  \n",
       "13712         5958481   4.624000e+03        1600  \n",
       "13713       163200625   1.156000e+03       32400  \n",
       "13714       128074489   1.123600e+06       67600  \n",
       "13715        75864100   1.303210e+05       25600  \n",
       "13716       205463556   2.205225e+06       57121  \n",
       "13717         2402500   1.444000e+03       50176  \n",
       "13718        12759184   1.089000e+03       17424  \n",
       "\n",
       "[13718 rows x 13 columns]"
      ]
     },
     "execution_count": 92,
     "metadata": {},
     "output_type": "execute_result"
    }
   ],
   "source": [
    "data"
   ]
  },
  {
   "cell_type": "code",
   "execution_count": 95,
   "metadata": {
    "scrolled": true
   },
   "outputs": [
    {
     "data": {
      "text/plain": [
       "<matplotlib.axes._subplots.AxesSubplot at 0x20bd8e5c940>"
      ]
     },
     "execution_count": 95,
     "metadata": {},
     "output_type": "execute_result"
    },
    {
     "data": {
      "image/png": "[encoded data removed]",
      "text/plain": [
       "<Figure size 864x648 with 1 Axes>"
      ]
     },
     "metadata": {},
     "output_type": "display_data"
    }
   ],
   "source": [
    "sns.regplot(data_raw.text_reviews, data_raw.avr_rate)"
   ]
  },
  {
   "cell_type": "code",
   "execution_count": 106,
   "metadata": {
    "scrolled": false
   },
   "outputs": [
    {
     "data": {
      "text/html": [
       "<table class=\"simpletable\">\n",
       "<caption>OLS Regression Results</caption>\n",
       "<tr>\n",
       "  <th>Dep. Variable:</th>        <td>avr_rate</td>     <th>  R-squared:         </th> <td>   0.001</td> \n",
       "</tr>\n",
       "<tr>\n",
       "  <th>Model:</th>                   <td>OLS</td>       <th>  Adj. R-squared:    </th> <td>   0.001</td> \n",
       "</tr>\n",
       "<tr>\n",
       "  <th>Method:</th>             <td>Least Squares</td>  <th>  F-statistic:       </th> <td>   18.53</td> \n",
       "</tr>\n",
       "<tr>\n",
       "  <th>Date:</th>             <td>Fri, 15 Nov 2019</td> <th>  Prob (F-statistic):</th> <td>1.68e-05</td> \n",
       "</tr>\n",
       "<tr>\n",
       "  <th>Time:</th>                 <td>12:17:32</td>     <th>  Log-Likelihood:    </th> <td> -5359.0</td> \n",
       "</tr>\n",
       "<tr>\n",
       "  <th>No. Observations:</th>      <td> 13718</td>      <th>  AIC:               </th> <td>1.072e+04</td>\n",
       "</tr>\n",
       "<tr>\n",
       "  <th>Df Residuals:</th>          <td> 13716</td>      <th>  BIC:               </th> <td>1.074e+04</td>\n",
       "</tr>\n",
       "<tr>\n",
       "  <th>Df Model:</th>              <td>     1</td>      <th>                     </th>     <td> </td>    \n",
       "</tr>\n",
       "<tr>\n",
       "  <th>Covariance Type:</th>      <td>nonrobust</td>    <th>                     </th>     <td> </td>    \n",
       "</tr>\n",
       "</table>\n",
       "<table class=\"simpletable\">\n",
       "<tr>\n",
       "        <td></td>          <th>coef</th>     <th>std err</th>      <th>t</th>      <th>P>|t|</th>  <th>[0.025</th>    <th>0.975]</th>  \n",
       "</tr>\n",
       "<tr>\n",
       "  <th>Intercept</th>    <td>    3.9278</td> <td>    0.003</td> <td> 1258.583</td> <td> 0.000</td> <td>    3.922</td> <td>    3.934</td>\n",
       "</tr>\n",
       "<tr>\n",
       "  <th>text_reviews</th> <td> 5.199e-06</td> <td> 1.21e-06</td> <td>    4.305</td> <td> 0.000</td> <td> 2.83e-06</td> <td> 7.57e-06</td>\n",
       "</tr>\n",
       "</table>\n",
       "<table class=\"simpletable\">\n",
       "<tr>\n",
       "  <th>Omnibus:</th>       <td>11587.874</td> <th>  Durbin-Watson:     </th>  <td>   1.618</td> \n",
       "</tr>\n",
       "<tr>\n",
       "  <th>Prob(Omnibus):</th>  <td> 0.000</td>   <th>  Jarque-Bera (JB):  </th> <td>787509.920</td>\n",
       "</tr>\n",
       "<tr>\n",
       "  <th>Skew:</th>           <td>-3.664</td>   <th>  Prob(JB):          </th>  <td>    0.00</td> \n",
       "</tr>\n",
       "<tr>\n",
       "  <th>Kurtosis:</th>       <td>39.388</td>   <th>  Cond. No.          </th>  <td>2.64e+03</td> \n",
       "</tr>\n",
       "</table><br/><br/>Warnings:<br/>[1] Standard Errors assume that the covariance matrix of the errors is correctly specified.<br/>[2] The condition number is large, 2.64e+03. This might indicate that there are<br/>strong multicollinearity or other numerical problems."
      ],
      "text/plain": [
       "<class 'statsmodels.iolib.summary.Summary'>\n",
       "\"\"\"\n",
       "                            OLS Regression Results                            \n",
       "==============================================================================\n",
       "Dep. Variable:               avr_rate   R-squared:                       0.001\n",
       "Model:                            OLS   Adj. R-squared:                  0.001\n",
       "Method:                 Least Squares   F-statistic:                     18.53\n",
       "Date:                Fri, 15 Nov 2019   Prob (F-statistic):           1.68e-05\n",
       "Time:                        12:17:32   Log-Likelihood:                -5359.0\n",
       "No. Observations:               13718   AIC:                         1.072e+04\n",
       "Df Residuals:                   13716   BIC:                         1.074e+04\n",
       "Df Model:                           1                                         \n",
       "Covariance Type:            nonrobust                                         \n",
       "================================================================================\n",
       "                   coef    std err          t      P>|t|      [0.025      0.975]\n",
       "--------------------------------------------------------------------------------\n",
       "Intercept        3.9278      0.003   1258.583      0.000       3.922       3.934\n",
       "text_reviews  5.199e-06   1.21e-06      4.305      0.000    2.83e-06    7.57e-06\n",
       "==============================================================================\n",
       "Omnibus:                    11587.874   Durbin-Watson:                   1.618\n",
       "Prob(Omnibus):                  0.000   Jarque-Bera (JB):           787509.920\n",
       "Skew:                          -3.664   Prob(JB):                         0.00\n",
       "Kurtosis:                      39.388   Cond. No.                     2.64e+03\n",
       "==============================================================================\n",
       "\n",
       "Warnings:\n",
       "[1] Standard Errors assume that the covariance matrix of the errors is correctly specified.\n",
       "[2] The condition number is large, 2.64e+03. This might indicate that there are\n",
       "strong multicollinearity or other numerical problems.\n",
       "\"\"\""
      ]
     },
     "execution_count": 106,
     "metadata": {},
     "output_type": "execute_result"
    }
   ],
   "source": [
    "formula = 'avr_rate ~ text_reviews'\n",
    "model = smf.ols(formula, data = data_raw)\n",
    "results = model.fit()\n",
    "results.summary()"
   ]
  },
  {
   "cell_type": "code",
   "execution_count": 105,
   "metadata": {
    "scrolled": true
   },
   "outputs": [
    {
     "data": {
      "text/html": [
       "<table class=\"simpletable\">\n",
       "<caption>OLS Regression Results</caption>\n",
       "<tr>\n",
       "  <th>Dep. Variable:</th>        <td>avr_rate</td>     <th>  R-squared:         </th>  <td>   0.000</td>  \n",
       "</tr>\n",
       "<tr>\n",
       "  <th>Model:</th>                   <td>OLS</td>       <th>  Adj. R-squared:    </th>  <td>  -0.000</td>  \n",
       "</tr>\n",
       "<tr>\n",
       "  <th>Method:</th>             <td>Least Squares</td>  <th>  F-statistic:       </th>  <td> 0.02473</td>  \n",
       "</tr>\n",
       "<tr>\n",
       "  <th>Date:</th>             <td>Fri, 15 Nov 2019</td> <th>  Prob (F-statistic):</th>   <td> 0.875</td>   \n",
       "</tr>\n",
       "<tr>\n",
       "  <th>Time:</th>                 <td>12:17:27</td>     <th>  Log-Likelihood:    </th> <td>-2.3622e+05</td>\n",
       "</tr>\n",
       "<tr>\n",
       "  <th>No. Observations:</th>      <td> 13719</td>      <th>  AIC:               </th>  <td>4.724e+05</td> \n",
       "</tr>\n",
       "<tr>\n",
       "  <th>Df Residuals:</th>          <td> 13717</td>      <th>  BIC:               </th>  <td>4.725e+05</td> \n",
       "</tr>\n",
       "<tr>\n",
       "  <th>Df Model:</th>              <td>     1</td>      <th>                     </th>      <td> </td>     \n",
       "</tr>\n",
       "<tr>\n",
       "  <th>Covariance Type:</th>      <td>nonrobust</td>    <th>                     </th>      <td> </td>     \n",
       "</tr>\n",
       "</table>\n",
       "<table class=\"simpletable\">\n",
       "<tr>\n",
       "      <td></td>         <th>coef</th>     <th>std err</th>      <th>t</th>      <th>P>|t|</th>  <th>[0.025</th>    <th>0.975]</th>  \n",
       "</tr>\n",
       "<tr>\n",
       "  <th>Intercept</th> <td> 6.362e+04</td> <td> 6.29e+04</td> <td>    1.012</td> <td> 0.311</td> <td>-5.96e+04</td> <td> 1.87e+05</td>\n",
       "</tr>\n",
       "<tr>\n",
       "  <th>ratings</th>   <td>   -0.0864</td> <td>    0.550</td> <td>   -0.157</td> <td> 0.875</td> <td>   -1.164</td> <td>    0.991</td>\n",
       "</tr>\n",
       "</table>\n",
       "<table class=\"simpletable\">\n",
       "<tr>\n",
       "  <th>Omnibus:</th>       <td>57308.399</td> <th>  Durbin-Watson:     </th>     <td>   2.000</td>    \n",
       "</tr>\n",
       "<tr>\n",
       "  <th>Prob(Omnibus):</th>  <td> 0.000</td>   <th>  Jarque-Bera (JB):  </th> <td>107538270888.096</td>\n",
       "</tr>\n",
       "<tr>\n",
       "  <th>Skew:</th>           <td>117.115</td>  <th>  Prob(JB):          </th>     <td>    0.00</td>    \n",
       "</tr>\n",
       "<tr>\n",
       "  <th>Kurtosis:</th>      <td>13716.951</td> <th>  Cond. No.          </th>     <td>1.16e+05</td>    \n",
       "</tr>\n",
       "</table><br/><br/>Warnings:<br/>[1] Standard Errors assume that the covariance matrix of the errors is correctly specified.<br/>[2] The condition number is large, 1.16e+05. This might indicate that there are<br/>strong multicollinearity or other numerical problems."
      ],
      "text/plain": [
       "<class 'statsmodels.iolib.summary.Summary'>\n",
       "\"\"\"\n",
       "                            OLS Regression Results                            \n",
       "==============================================================================\n",
       "Dep. Variable:               avr_rate   R-squared:                       0.000\n",
       "Model:                            OLS   Adj. R-squared:                 -0.000\n",
       "Method:                 Least Squares   F-statistic:                   0.02473\n",
       "Date:                Fri, 15 Nov 2019   Prob (F-statistic):              0.875\n",
       "Time:                        12:17:27   Log-Likelihood:            -2.3622e+05\n",
       "No. Observations:               13719   AIC:                         4.724e+05\n",
       "Df Residuals:                   13717   BIC:                         4.725e+05\n",
       "Df Model:                           1                                         \n",
       "Covariance Type:            nonrobust                                         \n",
       "==============================================================================\n",
       "                 coef    std err          t      P>|t|      [0.025      0.975]\n",
       "------------------------------------------------------------------------------\n",
       "Intercept   6.362e+04   6.29e+04      1.012      0.311   -5.96e+04    1.87e+05\n",
       "ratings       -0.0864      0.550     -0.157      0.875      -1.164       0.991\n",
       "==============================================================================\n",
       "Omnibus:                    57308.399   Durbin-Watson:                   2.000\n",
       "Prob(Omnibus):                  0.000   Jarque-Bera (JB):     107538270888.096\n",
       "Skew:                         117.115   Prob(JB):                         0.00\n",
       "Kurtosis:                   13716.951   Cond. No.                     1.16e+05\n",
       "==============================================================================\n",
       "\n",
       "Warnings:\n",
       "[1] Standard Errors assume that the covariance matrix of the errors is correctly specified.\n",
       "[2] The condition number is large, 1.16e+05. This might indicate that there are\n",
       "strong multicollinearity or other numerical problems.\n",
       "\"\"\""
      ]
     },
     "execution_count": 105,
     "metadata": {},
     "output_type": "execute_result"
    }
   ],
   "source": [
    "formula = 'avr_rate ~ ratings'\n",
    "model = smf.ols(formula, data = data_raw)\n",
    "results = model.fit()\n",
    "results.summary()"
   ]
  },
  {
   "cell_type": "code",
   "execution_count": 104,
   "metadata": {},
   "outputs": [
    {
     "data": {
      "text/html": [
       "<table class=\"simpletable\">\n",
       "<caption>OLS Regression Results</caption>\n",
       "<tr>\n",
       "  <th>Dep. Variable:</th>        <td>avr_rate</td>     <th>  R-squared:         </th>  <td>   0.000</td>  \n",
       "</tr>\n",
       "<tr>\n",
       "  <th>Model:</th>                   <td>OLS</td>       <th>  Adj. R-squared:    </th>  <td>   0.000</td>  \n",
       "</tr>\n",
       "<tr>\n",
       "  <th>Method:</th>             <td>Least Squares</td>  <th>  F-statistic:       </th>  <td>   1.837</td>  \n",
       "</tr>\n",
       "<tr>\n",
       "  <th>Date:</th>             <td>Fri, 15 Nov 2019</td> <th>  Prob (F-statistic):</th>   <td> 0.175</td>   \n",
       "</tr>\n",
       "<tr>\n",
       "  <th>Time:</th>                 <td>12:17:18</td>     <th>  Log-Likelihood:    </th> <td>-2.3622e+05</td>\n",
       "</tr>\n",
       "<tr>\n",
       "  <th>No. Observations:</th>      <td> 13719</td>      <th>  AIC:               </th>  <td>4.724e+05</td> \n",
       "</tr>\n",
       "<tr>\n",
       "  <th>Df Residuals:</th>          <td> 13717</td>      <th>  BIC:               </th>  <td>4.725e+05</td> \n",
       "</tr>\n",
       "<tr>\n",
       "  <th>Df Model:</th>              <td>     1</td>      <th>                     </th>      <td> </td>     \n",
       "</tr>\n",
       "<tr>\n",
       "  <th>Covariance Type:</th>      <td>nonrobust</td>    <th>                     </th>      <td> </td>     \n",
       "</tr>\n",
       "</table>\n",
       "<table class=\"simpletable\">\n",
       "<tr>\n",
       "      <td></td>         <th>coef</th>     <th>std err</th>      <th>t</th>      <th>P>|t|</th>  <th>[0.025</th>    <th>0.975]</th>  \n",
       "</tr>\n",
       "<tr>\n",
       "  <th>Intercept</th> <td> 1.761e+05</td> <td> 1.05e+05</td> <td>    1.684</td> <td> 0.092</td> <td>-2.88e+04</td> <td> 3.81e+05</td>\n",
       "</tr>\n",
       "<tr>\n",
       "  <th>num_pages</th> <td> -333.1003</td> <td>  245.762</td> <td>   -1.355</td> <td> 0.175</td> <td> -814.828</td> <td>  148.627</td>\n",
       "</tr>\n",
       "</table>\n",
       "<table class=\"simpletable\">\n",
       "<tr>\n",
       "  <th>Omnibus:</th>       <td>57304.901</td> <th>  Durbin-Watson:     </th>     <td>   2.000</td>    \n",
       "</tr>\n",
       "<tr>\n",
       "  <th>Prob(Omnibus):</th>  <td> 0.000</td>   <th>  Jarque-Bera (JB):  </th> <td>107481448679.049</td>\n",
       "</tr>\n",
       "<tr>\n",
       "  <th>Skew:</th>           <td>117.092</td>  <th>  Prob(JB):          </th>     <td>    0.00</td>    \n",
       "</tr>\n",
       "<tr>\n",
       "  <th>Kurtosis:</th>      <td>13713.327</td> <th>  Cond. No.          </th>     <td>    717.</td>    \n",
       "</tr>\n",
       "</table><br/><br/>Warnings:<br/>[1] Standard Errors assume that the covariance matrix of the errors is correctly specified."
      ],
      "text/plain": [
       "<class 'statsmodels.iolib.summary.Summary'>\n",
       "\"\"\"\n",
       "                            OLS Regression Results                            \n",
       "==============================================================================\n",
       "Dep. Variable:               avr_rate   R-squared:                       0.000\n",
       "Model:                            OLS   Adj. R-squared:                  0.000\n",
       "Method:                 Least Squares   F-statistic:                     1.837\n",
       "Date:                Fri, 15 Nov 2019   Prob (F-statistic):              0.175\n",
       "Time:                        12:17:18   Log-Likelihood:            -2.3622e+05\n",
       "No. Observations:               13719   AIC:                         4.724e+05\n",
       "Df Residuals:                   13717   BIC:                         4.725e+05\n",
       "Df Model:                           1                                         \n",
       "Covariance Type:            nonrobust                                         \n",
       "==============================================================================\n",
       "                 coef    std err          t      P>|t|      [0.025      0.975]\n",
       "------------------------------------------------------------------------------\n",
       "Intercept   1.761e+05   1.05e+05      1.684      0.092   -2.88e+04    3.81e+05\n",
       "num_pages   -333.1003    245.762     -1.355      0.175    -814.828     148.627\n",
       "==============================================================================\n",
       "Omnibus:                    57304.901   Durbin-Watson:                   2.000\n",
       "Prob(Omnibus):                  0.000   Jarque-Bera (JB):     107481448679.049\n",
       "Skew:                         117.092   Prob(JB):                         0.00\n",
       "Kurtosis:                   13713.327   Cond. No.                         717.\n",
       "==============================================================================\n",
       "\n",
       "Warnings:\n",
       "[1] Standard Errors assume that the covariance matrix of the errors is correctly specified.\n",
       "\"\"\""
      ]
     },
     "execution_count": 104,
     "metadata": {},
     "output_type": "execute_result"
    }
   ],
   "source": [
    "formula = 'avr_rate ~ num_pages'\n",
    "model = smf.ols(formula, data = data_raw)\n",
    "results = model.fit()\n",
    "results.summary()"
   ]
  },
  {
   "cell_type": "markdown",
   "metadata": {},
   "source": [
    "We can extract the parameters"
   ]
  },
  {
   "cell_type": "markdown",
   "metadata": {},
   "source": [
    "inter = results.params['Intercept']\n",
    "slope = results.params['text_reviews']\n",
    "inter, slope"
   ]
  },
  {
   "cell_type": "code",
   "execution_count": 61,
   "metadata": {},
   "outputs": [
    {
     "data": {
      "text/plain": [
       "(3.9282290857229474, 1.3074124858963043e-07)"
      ]
     },
     "execution_count": 61,
     "metadata": {},
     "output_type": "execute_result"
    }
   ],
   "source": [
    "inter = results.params['Intercept']\n",
    "slope = results.params['ratings']\n",
    "inter, slope1"
   ]
  },
  {
   "cell_type": "markdown",
   "metadata": {},
   "source": [
    "And the p-value of the slope estimate"
   ]
  },
  {
   "cell_type": "markdown",
   "metadata": {},
   "source": [
    "slope_pvalue = results.pvalues['text_reviews']\n",
    "slope_pvalue"
   ]
  },
  {
   "cell_type": "code",
   "execution_count": 62,
   "metadata": {},
   "outputs": [
    {
     "data": {
      "text/plain": [
       "1.3368243497115117e-06"
      ]
     },
     "execution_count": 62,
     "metadata": {},
     "output_type": "execute_result"
    }
   ],
   "source": [
    "slope_pvalue = results.pvalues['ratings']\n",
    "slope_pvalue"
   ]
  },
  {
   "cell_type": "markdown",
   "metadata": {},
   "source": [
    "And the coefficient of determination"
   ]
  },
  {
   "cell_type": "code",
   "execution_count": 46,
   "metadata": {},
   "outputs": [
    {
     "data": {
      "text/plain": [
       "0.001702423329278946"
      ]
     },
     "execution_count": 46,
     "metadata": {},
     "output_type": "execute_result"
    }
   ],
   "source": [
    "#for ratings\n",
    "results.rsquared"
   ]
  },
  {
   "cell_type": "markdown",
   "metadata": {},
   "source": [
    "The difference in rates"
   ]
  },
  {
   "cell_type": "code",
   "execution_count": 63,
   "metadata": {
    "scrolled": true
   },
   "outputs": [
    {
     "data": {
      "text/html": [
       "<div>\n",
       "<style scoped>\n",
       "    .dataframe tbody tr th:only-of-type {\n",
       "        vertical-align: middle;\n",
       "    }\n",
       "\n",
       "    .dataframe tbody tr th {\n",
       "        vertical-align: top;\n",
       "    }\n",
       "\n",
       "    .dataframe thead th {\n",
       "        text-align: right;\n",
       "    }\n",
       "</style>\n",
       "<table border=\"1\" class=\"dataframe\">\n",
       "  <thead>\n",
       "    <tr style=\"text-align: right;\">\n",
       "      <th></th>\n",
       "      <th>avr_rate</th>\n",
       "      <th>text_reviews</th>\n",
       "    </tr>\n",
       "  </thead>\n",
       "  <tbody>\n",
       "    <tr>\n",
       "      <th>0</th>\n",
       "      <td>(0, 1]</td>\n",
       "      <td>0.0</td>\n",
       "    </tr>\n",
       "    <tr>\n",
       "      <th>1</th>\n",
       "      <td>(1, 2]</td>\n",
       "      <td>584.0</td>\n",
       "    </tr>\n",
       "    <tr>\n",
       "      <th>2</th>\n",
       "      <td>(2, 3]</td>\n",
       "      <td>194661.0</td>\n",
       "    </tr>\n",
       "    <tr>\n",
       "      <th>3</th>\n",
       "      <td>(3, 4]</td>\n",
       "      <td>7033343.0</td>\n",
       "    </tr>\n",
       "    <tr>\n",
       "      <th>4</th>\n",
       "      <td>(4, 5]</td>\n",
       "      <td>89673.0</td>\n",
       "    </tr>\n",
       "  </tbody>\n",
       "</table>\n",
       "</div>"
      ],
      "text/plain": [
       "  avr_rate  text_reviews\n",
       "0   (0, 1]           0.0\n",
       "1   (1, 2]         584.0\n",
       "2   (2, 3]      194661.0\n",
       "3   (3, 4]     7033343.0\n",
       "4   (4, 5]       89673.0"
      ]
     },
     "execution_count": 63,
     "metadata": {},
     "output_type": "execute_result"
    }
   ],
   "source": [
    "req = data.groupby(pd.cut(data['avr_rate'], [0,1,2,3,4,5]))\n",
    "req = req[['text_reviews']]\n",
    "req.sum().reset_index()"
   ]
  },
  {
   "cell_type": "code",
   "execution_count": 64,
   "metadata": {
    "scrolled": true
   },
   "outputs": [
    {
     "name": "stdout",
     "output_type": "stream",
     "text": [
      "Mean value of text reviews with average rating  0  is  0.029411764705882353\n",
      "Mean value of text reviews with average rating  1  is  0.0\n",
      "Mean value of text reviews with average rating  2  is  29.2\n",
      "Mean value of text reviews with average rating  3  is  223.23509174311926\n",
      "Mean value of text reviews with average rating  4  is  560.5597353949152\n",
      "Mean value of text reviews with average rating  5  is  369.0246913580247\n"
     ]
    }
   ],
   "source": [
    "for i in range(6):\n",
    "    print('Mean value of text reviews with average rating ', i, ' is ', data[data['avr_rate'] == i]['text_reviews'].mean())"
   ]
  },
  {
   "cell_type": "code",
   "execution_count": 65,
   "metadata": {},
   "outputs": [],
   "source": [
    "data['avr_rate'] = data['avr_rate'].apply(lambda x: round(x,0))"
   ]
  },
  {
   "cell_type": "code",
   "execution_count": 66,
   "metadata": {},
   "outputs": [],
   "source": [
    "groupby_avr = data.groupby('avr_rate')"
   ]
  },
  {
   "cell_type": "code",
   "execution_count": 67,
   "metadata": {},
   "outputs": [
    {
     "data": {
      "text/plain": [
       "avr_rate\n",
       "0.0        0.000000\n",
       "1.0        1.500000\n",
       "2.0      270.000000\n",
       "3.0     4398.354358\n",
       "4.0    18661.636327\n",
       "5.0    23245.489712\n",
       "Name: ratings, dtype: float64"
      ]
     },
     "execution_count": 67,
     "metadata": {},
     "output_type": "execute_result"
    }
   ],
   "source": [
    "groupby_avr['ratings'].mean()"
   ]
  },
  {
   "cell_type": "code",
   "execution_count": 68,
   "metadata": {
    "scrolled": false
   },
   "outputs": [
    {
     "name": "stdout",
     "output_type": "stream",
     "text": [
      "0.0 ----- 0.029411764705882353\n",
      "1.0 ----- 0.0\n",
      "2.0 ----- 29.2\n",
      "3.0 ----- 223.23509174311926\n",
      "4.0 ----- 560.5597353949152\n",
      "5.0 ----- 369.0246913580247\n"
     ]
    }
   ],
   "source": [
    "for rate, value in groupby_avr['text_reviews']:\n",
    "    print(rate,'-----', value.mean())"
   ]
  },
  {
   "cell_type": "code",
   "execution_count": 69,
   "metadata": {},
   "outputs": [],
   "source": [
    "zero_rate = data[data['avr_rate'] == 0]['text_reviews']\n",
    "one_rate = data[data['avr_rate'] == 1]['text_reviews']\n",
    "two_rate = data[data['avr_rate'] == 2]['text_reviews']\n",
    "three_rate = data[data['avr_rate'] == 3]['text_reviews']\n",
    "four_rate = data[data['avr_rate'] == 4]['text_reviews']\n",
    "five_rate = data[data['avr_rate'] == 5]['text_reviews']"
   ]
  },
  {
   "cell_type": "code",
   "execution_count": 70,
   "metadata": {},
   "outputs": [],
   "source": [
    "mean_zero_rate = data[data['avr_rate'] == 0]['text_reviews'].mean()\n",
    "mean_one_rate = data[data['avr_rate'] == 1]['text_reviews'].mean()\n",
    "mean_two_rate = data[data['avr_rate'] == 2]['text_reviews'].mean()\n",
    "mean_three_rate = data[data['avr_rate'] == 3]['text_reviews'].mean()\n",
    "mean_four_rate = data[data['avr_rate'] == 4]['text_reviews'].mean()\n",
    "mean_five_rate = data[data['avr_rate'] == 5]['text_reviews'].mean()"
   ]
  },
  {
   "cell_type": "code",
   "execution_count": 71,
   "metadata": {},
   "outputs": [],
   "source": [
    "mean_zero_rew = data[data['avr_rate'] == 0]['ratings'].mean()\n",
    "mean_one_rew = data[data['avr_rate'] == 1]['ratings'].mean()\n",
    "mean_two_rew = data[data['avr_rate'] == 2]['ratings'].mean()\n",
    "mean_three_rew = data[data['avr_rate'] == 3]['ratings'].mean()\n",
    "mean_four_rew = data[data['avr_rate'] == 4]['ratings'].mean()\n",
    "mean_five_rew = data[data['avr_rate'] == 5]['ratings'].mean()"
   ]
  },
  {
   "cell_type": "code",
   "execution_count": 72,
   "metadata": {},
   "outputs": [
    {
     "data": {
      "text/plain": [
       "-1181.990106731353"
      ]
     },
     "execution_count": 72,
     "metadata": {},
     "output_type": "execute_result"
    }
   ],
   "source": [
    "diff_rate = mean_zero_rate - mean_one_rate - mean_two_rate - mean_three_rate - mean_four_rate - mean_five_rate\n",
    "diff_rate"
   ]
  },
  {
   "cell_type": "code",
   "execution_count": 73,
   "metadata": {},
   "outputs": [
    {
     "data": {
      "text/plain": [
       "-46576.98039714126"
      ]
     },
     "execution_count": 73,
     "metadata": {},
     "output_type": "execute_result"
    }
   ],
   "source": [
    "diff_rew = mean_zero_rew - mean_one_rew - mean_two_rew - mean_three_rew - mean_four_rew - mean_five_rew\n",
    "diff_rew"
   ]
  },
  {
   "cell_type": "code",
   "execution_count": 74,
   "metadata": {},
   "outputs": [
    {
     "data": {
      "text/plain": [
       "-0.00015453486237464764"
      ]
     },
     "execution_count": 74,
     "metadata": {},
     "output_type": "execute_result"
    }
   ],
   "source": [
    "slope * diff_rate"
   ]
  },
  {
   "cell_type": "code",
   "execution_count": 103,
   "metadata": {
    "scrolled": false
   },
   "outputs": [
    {
     "data": {
      "text/html": [
       "<table class=\"simpletable\">\n",
       "<caption>OLS Regression Results</caption>\n",
       "<tr>\n",
       "  <th>Dep. Variable:</th>        <td>avr_rate</td>     <th>  R-squared:         </th> <td>   0.002</td> \n",
       "</tr>\n",
       "<tr>\n",
       "  <th>Model:</th>                   <td>OLS</td>       <th>  Adj. R-squared:    </th> <td>   0.002</td> \n",
       "</tr>\n",
       "<tr>\n",
       "  <th>Method:</th>             <td>Least Squares</td>  <th>  F-statistic:       </th> <td>   11.73</td> \n",
       "</tr>\n",
       "<tr>\n",
       "  <th>Date:</th>             <td>Fri, 15 Nov 2019</td> <th>  Prob (F-statistic):</th> <td>8.15e-06</td> \n",
       "</tr>\n",
       "<tr>\n",
       "  <th>Time:</th>                 <td>12:17:08</td>     <th>  Log-Likelihood:    </th> <td> -5356.5</td> \n",
       "</tr>\n",
       "<tr>\n",
       "  <th>No. Observations:</th>      <td> 13718</td>      <th>  AIC:               </th> <td>1.072e+04</td>\n",
       "</tr>\n",
       "<tr>\n",
       "  <th>Df Residuals:</th>          <td> 13715</td>      <th>  BIC:               </th> <td>1.074e+04</td>\n",
       "</tr>\n",
       "<tr>\n",
       "  <th>Df Model:</th>              <td>     2</td>      <th>                     </th>     <td> </td>    \n",
       "</tr>\n",
       "<tr>\n",
       "  <th>Covariance Type:</th>      <td>nonrobust</td>    <th>                     </th>     <td> </td>    \n",
       "</tr>\n",
       "</table>\n",
       "<table class=\"simpletable\">\n",
       "<tr>\n",
       "        <td></td>          <th>coef</th>     <th>std err</th>      <th>t</th>      <th>P>|t|</th>  <th>[0.025</th>    <th>0.975]</th>  \n",
       "</tr>\n",
       "<tr>\n",
       "  <th>Intercept</th>    <td>    3.9281</td> <td>    0.003</td> <td> 1257.402</td> <td> 0.000</td> <td>    3.922</td> <td>    3.934</td>\n",
       "</tr>\n",
       "<tr>\n",
       "  <th>text_reviews</th> <td> 6.145e-07</td> <td> 2.39e-06</td> <td>    0.257</td> <td> 0.797</td> <td>-4.08e-06</td> <td> 5.31e-06</td>\n",
       "</tr>\n",
       "<tr>\n",
       "  <th>ratings</th>      <td> 1.189e-07</td> <td> 5.36e-08</td> <td>    2.218</td> <td> 0.027</td> <td> 1.38e-08</td> <td> 2.24e-07</td>\n",
       "</tr>\n",
       "</table>\n",
       "<table class=\"simpletable\">\n",
       "<tr>\n",
       "  <th>Omnibus:</th>       <td>11596.160</td> <th>  Durbin-Watson:     </th>  <td>   1.620</td> \n",
       "</tr>\n",
       "<tr>\n",
       "  <th>Prob(Omnibus):</th>  <td> 0.000</td>   <th>  Jarque-Bera (JB):  </th> <td>789248.967</td>\n",
       "</tr>\n",
       "<tr>\n",
       "  <th>Skew:</th>           <td>-3.668</td>   <th>  Prob(JB):          </th>  <td>    0.00</td> \n",
       "</tr>\n",
       "<tr>\n",
       "  <th>Kurtosis:</th>       <td>39.428</td>   <th>  Cond. No.          </th>  <td>1.17e+05</td> \n",
       "</tr>\n",
       "</table><br/><br/>Warnings:<br/>[1] Standard Errors assume that the covariance matrix of the errors is correctly specified.<br/>[2] The condition number is large, 1.17e+05. This might indicate that there are<br/>strong multicollinearity or other numerical problems."
      ],
      "text/plain": [
       "<class 'statsmodels.iolib.summary.Summary'>\n",
       "\"\"\"\n",
       "                            OLS Regression Results                            \n",
       "==============================================================================\n",
       "Dep. Variable:               avr_rate   R-squared:                       0.002\n",
       "Model:                            OLS   Adj. R-squared:                  0.002\n",
       "Method:                 Least Squares   F-statistic:                     11.73\n",
       "Date:                Fri, 15 Nov 2019   Prob (F-statistic):           8.15e-06\n",
       "Time:                        12:17:08   Log-Likelihood:                -5356.5\n",
       "No. Observations:               13718   AIC:                         1.072e+04\n",
       "Df Residuals:                   13715   BIC:                         1.074e+04\n",
       "Df Model:                           2                                         \n",
       "Covariance Type:            nonrobust                                         \n",
       "================================================================================\n",
       "                   coef    std err          t      P>|t|      [0.025      0.975]\n",
       "--------------------------------------------------------------------------------\n",
       "Intercept        3.9281      0.003   1257.402      0.000       3.922       3.934\n",
       "text_reviews  6.145e-07   2.39e-06      0.257      0.797   -4.08e-06    5.31e-06\n",
       "ratings       1.189e-07   5.36e-08      2.218      0.027    1.38e-08    2.24e-07\n",
       "==============================================================================\n",
       "Omnibus:                    11596.160   Durbin-Watson:                   1.620\n",
       "Prob(Omnibus):                  0.000   Jarque-Bera (JB):           789248.967\n",
       "Skew:                          -3.668   Prob(JB):                         0.00\n",
       "Kurtosis:                      39.428   Cond. No.                     1.17e+05\n",
       "==============================================================================\n",
       "\n",
       "Warnings:\n",
       "[1] Standard Errors assume that the covariance matrix of the errors is correctly specified.\n",
       "[2] The condition number is large, 1.17e+05. This might indicate that there are\n",
       "strong multicollinearity or other numerical problems.\n",
       "\"\"\""
      ]
     },
     "execution_count": 103,
     "metadata": {},
     "output_type": "execute_result"
    }
   ],
   "source": [
    "formula = 'avr_rate ~ text_reviews + ratings'\n",
    "results = smf.ols(formula, data = data_raw).fit()\n",
    "results.summary()"
   ]
  },
  {
   "cell_type": "code",
   "execution_count": 101,
   "metadata": {},
   "outputs": [
    {
     "data": {
      "text/html": [
       "<table class=\"simpletable\">\n",
       "<caption>OLS Regression Results</caption>\n",
       "<tr>\n",
       "  <th>Dep. Variable:</th>        <td>avr_rate</td>     <th>  R-squared:         </th> <td>   0.029</td> \n",
       "</tr>\n",
       "<tr>\n",
       "  <th>Model:</th>                   <td>OLS</td>       <th>  Adj. R-squared:    </th> <td>   0.029</td> \n",
       "</tr>\n",
       "<tr>\n",
       "  <th>Method:</th>             <td>Least Squares</td>  <th>  F-statistic:       </th> <td>   204.7</td> \n",
       "</tr>\n",
       "<tr>\n",
       "  <th>Date:</th>             <td>Fri, 15 Nov 2019</td> <th>  Prob (F-statistic):</th> <td>2.58e-88</td> \n",
       "</tr>\n",
       "<tr>\n",
       "  <th>Time:</th>                 <td>12:16:01</td>     <th>  Log-Likelihood:    </th> <td> -5166.5</td> \n",
       "</tr>\n",
       "<tr>\n",
       "  <th>No. Observations:</th>      <td> 13718</td>      <th>  AIC:               </th> <td>1.034e+04</td>\n",
       "</tr>\n",
       "<tr>\n",
       "  <th>Df Residuals:</th>          <td> 13715</td>      <th>  BIC:               </th> <td>1.036e+04</td>\n",
       "</tr>\n",
       "<tr>\n",
       "  <th>Df Model:</th>              <td>     2</td>      <th>                     </th>     <td> </td>    \n",
       "</tr>\n",
       "<tr>\n",
       "  <th>Covariance Type:</th>      <td>nonrobust</td>    <th>                     </th>     <td> </td>    \n",
       "</tr>\n",
       "</table>\n",
       "<table class=\"simpletable\">\n",
       "<tr>\n",
       "        <td></td>          <th>coef</th>     <th>std err</th>      <th>t</th>      <th>P>|t|</th>  <th>[0.025</th>    <th>0.975]</th>  \n",
       "</tr>\n",
       "<tr>\n",
       "  <th>Intercept</th>    <td>    3.8475</td> <td>    0.005</td> <td>  754.969</td> <td> 0.000</td> <td>    3.838</td> <td>    3.858</td>\n",
       "</tr>\n",
       "<tr>\n",
       "  <th>text_reviews</th> <td> 4.394e-06</td> <td> 1.19e-06</td> <td>    3.688</td> <td> 0.000</td> <td> 2.06e-06</td> <td> 6.73e-06</td>\n",
       "</tr>\n",
       "<tr>\n",
       "  <th>num_pages</th>    <td>    0.0002</td> <td> 1.19e-05</td> <td>   19.756</td> <td> 0.000</td> <td>    0.000</td> <td>    0.000</td>\n",
       "</tr>\n",
       "</table>\n",
       "<table class=\"simpletable\">\n",
       "<tr>\n",
       "  <th>Omnibus:</th>       <td>11683.107</td> <th>  Durbin-Watson:     </th>  <td>   1.611</td> \n",
       "</tr>\n",
       "<tr>\n",
       "  <th>Prob(Omnibus):</th>  <td> 0.000</td>   <th>  Jarque-Bera (JB):  </th> <td>823866.795</td>\n",
       "</tr>\n",
       "<tr>\n",
       "  <th>Skew:</th>           <td>-3.701</td>   <th>  Prob(JB):          </th>  <td>    0.00</td> \n",
       "</tr>\n",
       "<tr>\n",
       "  <th>Kurtosis:</th>       <td>40.237</td>   <th>  Cond. No.          </th>  <td>4.38e+03</td> \n",
       "</tr>\n",
       "</table><br/><br/>Warnings:<br/>[1] Standard Errors assume that the covariance matrix of the errors is correctly specified.<br/>[2] The condition number is large, 4.38e+03. This might indicate that there are<br/>strong multicollinearity or other numerical problems."
      ],
      "text/plain": [
       "<class 'statsmodels.iolib.summary.Summary'>\n",
       "\"\"\"\n",
       "                            OLS Regression Results                            \n",
       "==============================================================================\n",
       "Dep. Variable:               avr_rate   R-squared:                       0.029\n",
       "Model:                            OLS   Adj. R-squared:                  0.029\n",
       "Method:                 Least Squares   F-statistic:                     204.7\n",
       "Date:                Fri, 15 Nov 2019   Prob (F-statistic):           2.58e-88\n",
       "Time:                        12:16:01   Log-Likelihood:                -5166.5\n",
       "No. Observations:               13718   AIC:                         1.034e+04\n",
       "Df Residuals:                   13715   BIC:                         1.036e+04\n",
       "Df Model:                           2                                         \n",
       "Covariance Type:            nonrobust                                         \n",
       "================================================================================\n",
       "                   coef    std err          t      P>|t|      [0.025      0.975]\n",
       "--------------------------------------------------------------------------------\n",
       "Intercept        3.8475      0.005    754.969      0.000       3.838       3.858\n",
       "text_reviews  4.394e-06   1.19e-06      3.688      0.000    2.06e-06    6.73e-06\n",
       "num_pages        0.0002   1.19e-05     19.756      0.000       0.000       0.000\n",
       "==============================================================================\n",
       "Omnibus:                    11683.107   Durbin-Watson:                   1.611\n",
       "Prob(Omnibus):                  0.000   Jarque-Bera (JB):           823866.795\n",
       "Skew:                          -3.701   Prob(JB):                         0.00\n",
       "Kurtosis:                      40.237   Cond. No.                     4.38e+03\n",
       "==============================================================================\n",
       "\n",
       "Warnings:\n",
       "[1] Standard Errors assume that the covariance matrix of the errors is correctly specified.\n",
       "[2] The condition number is large, 4.38e+03. This might indicate that there are\n",
       "strong multicollinearity or other numerical problems.\n",
       "\"\"\""
      ]
     },
     "execution_count": 101,
     "metadata": {},
     "output_type": "execute_result"
    }
   ],
   "source": [
    "formula = 'avr_rate ~ text_reviews + num_pages'\n",
    "results = smf.ols(formula, data = data_raw).fit()\n",
    "results.summary()"
   ]
  },
  {
   "cell_type": "markdown",
   "metadata": {},
   "source": [
    "formula = 'avr_rate ~ ratings + num_pages'\n",
    "results = smf.ols(formula, data = data_raw).fit()\n",
    "results.summary()"
   ]
  },
  {
   "cell_type": "code",
   "execution_count": 110,
   "metadata": {},
   "outputs": [],
   "source": [
    "data_raw['num_pages2'] = data_raw.num_pages**2"
   ]
  },
  {
   "cell_type": "code",
   "execution_count": 111,
   "metadata": {
    "scrolled": true
   },
   "outputs": [
    {
     "data": {
      "text/html": [
       "<table class=\"simpletable\">\n",
       "<caption>OLS Regression Results</caption>\n",
       "<tr>\n",
       "  <th>Dep. Variable:</th>        <td>avr_rate</td>     <th>  R-squared:         </th> <td>   0.029</td> \n",
       "</tr>\n",
       "<tr>\n",
       "  <th>Model:</th>                   <td>OLS</td>       <th>  Adj. R-squared:    </th> <td>   0.029</td> \n",
       "</tr>\n",
       "<tr>\n",
       "  <th>Method:</th>             <td>Least Squares</td>  <th>  F-statistic:       </th> <td>   137.9</td> \n",
       "</tr>\n",
       "<tr>\n",
       "  <th>Date:</th>             <td>Fri, 15 Nov 2019</td> <th>  Prob (F-statistic):</th> <td>5.16e-88</td> \n",
       "</tr>\n",
       "<tr>\n",
       "  <th>Time:</th>                 <td>12:19:03</td>     <th>  Log-Likelihood:    </th> <td> -5164.4</td> \n",
       "</tr>\n",
       "<tr>\n",
       "  <th>No. Observations:</th>      <td> 13718</td>      <th>  AIC:               </th> <td>1.034e+04</td>\n",
       "</tr>\n",
       "<tr>\n",
       "  <th>Df Residuals:</th>          <td> 13714</td>      <th>  BIC:               </th> <td>1.037e+04</td>\n",
       "</tr>\n",
       "<tr>\n",
       "  <th>Df Model:</th>              <td>     3</td>      <th>                     </th>     <td> </td>    \n",
       "</tr>\n",
       "<tr>\n",
       "  <th>Covariance Type:</th>      <td>nonrobust</td>    <th>                     </th>     <td> </td>    \n",
       "</tr>\n",
       "</table>\n",
       "<table class=\"simpletable\">\n",
       "<tr>\n",
       "        <td></td>          <th>coef</th>     <th>std err</th>      <th>t</th>      <th>P>|t|</th>  <th>[0.025</th>    <th>0.975]</th>  \n",
       "</tr>\n",
       "<tr>\n",
       "  <th>Intercept</th>    <td>    3.8409</td> <td>    0.006</td> <td>  635.068</td> <td> 0.000</td> <td>    3.829</td> <td>    3.853</td>\n",
       "</tr>\n",
       "<tr>\n",
       "  <th>text_reviews</th> <td> 4.317e-06</td> <td> 1.19e-06</td> <td>    3.621</td> <td> 0.000</td> <td> 1.98e-06</td> <td> 6.65e-06</td>\n",
       "</tr>\n",
       "<tr>\n",
       "  <th>num_pages</th>    <td>    0.0003</td> <td> 1.81e-05</td> <td>   14.563</td> <td> 0.000</td> <td>    0.000</td> <td>    0.000</td>\n",
       "</tr>\n",
       "<tr>\n",
       "  <th>num_pages2</th>   <td>-1.562e-08</td> <td> 7.63e-09</td> <td>   -2.048</td> <td> 0.041</td> <td>-3.06e-08</td> <td>-6.68e-10</td>\n",
       "</tr>\n",
       "</table>\n",
       "<table class=\"simpletable\">\n",
       "<tr>\n",
       "  <th>Omnibus:</th>       <td>11666.446</td> <th>  Durbin-Watson:     </th>  <td>   1.609</td> \n",
       "</tr>\n",
       "<tr>\n",
       "  <th>Prob(Omnibus):</th>  <td> 0.000</td>   <th>  Jarque-Bera (JB):  </th> <td>821317.325</td>\n",
       "</tr>\n",
       "<tr>\n",
       "  <th>Skew:</th>           <td>-3.693</td>   <th>  Prob(JB):          </th>  <td>    0.00</td> \n",
       "</tr>\n",
       "<tr>\n",
       "  <th>Kurtosis:</th>       <td>40.180</td>   <th>  Cond. No.          </th>  <td>1.26e+06</td> \n",
       "</tr>\n",
       "</table><br/><br/>Warnings:<br/>[1] Standard Errors assume that the covariance matrix of the errors is correctly specified.<br/>[2] The condition number is large, 1.26e+06. This might indicate that there are<br/>strong multicollinearity or other numerical problems."
      ],
      "text/plain": [
       "<class 'statsmodels.iolib.summary.Summary'>\n",
       "\"\"\"\n",
       "                            OLS Regression Results                            \n",
       "==============================================================================\n",
       "Dep. Variable:               avr_rate   R-squared:                       0.029\n",
       "Model:                            OLS   Adj. R-squared:                  0.029\n",
       "Method:                 Least Squares   F-statistic:                     137.9\n",
       "Date:                Fri, 15 Nov 2019   Prob (F-statistic):           5.16e-88\n",
       "Time:                        12:19:03   Log-Likelihood:                -5164.4\n",
       "No. Observations:               13718   AIC:                         1.034e+04\n",
       "Df Residuals:                   13714   BIC:                         1.037e+04\n",
       "Df Model:                           3                                         \n",
       "Covariance Type:            nonrobust                                         \n",
       "================================================================================\n",
       "                   coef    std err          t      P>|t|      [0.025      0.975]\n",
       "--------------------------------------------------------------------------------\n",
       "Intercept        3.8409      0.006    635.068      0.000       3.829       3.853\n",
       "text_reviews  4.317e-06   1.19e-06      3.621      0.000    1.98e-06    6.65e-06\n",
       "num_pages        0.0003   1.81e-05     14.563      0.000       0.000       0.000\n",
       "num_pages2   -1.562e-08   7.63e-09     -2.048      0.041   -3.06e-08   -6.68e-10\n",
       "==============================================================================\n",
       "Omnibus:                    11666.446   Durbin-Watson:                   1.609\n",
       "Prob(Omnibus):                  0.000   Jarque-Bera (JB):           821317.325\n",
       "Skew:                          -3.693   Prob(JB):                         0.00\n",
       "Kurtosis:                      40.180   Cond. No.                     1.26e+06\n",
       "==============================================================================\n",
       "\n",
       "Warnings:\n",
       "[1] Standard Errors assume that the covariance matrix of the errors is correctly specified.\n",
       "[2] The condition number is large, 1.26e+06. This might indicate that there are\n",
       "strong multicollinearity or other numerical problems.\n",
       "\"\"\""
      ]
     },
     "execution_count": 111,
     "metadata": {},
     "output_type": "execute_result"
    }
   ],
   "source": [
    "formula = 'avr_rate ~ text_reviews + num_pages + num_pages2'\n",
    "results = smf.ols(formula, data = data_raw).fit()\n",
    "results.summary()"
   ]
  },
  {
   "cell_type": "code",
   "execution_count": 113,
   "metadata": {},
   "outputs": [],
   "source": [
    "data_raw['text_reviews2'] = data_raw.text_reviews**2"
   ]
  },
  {
   "cell_type": "code",
   "execution_count": 115,
   "metadata": {},
   "outputs": [
    {
     "data": {
      "text/html": [
       "<table class=\"simpletable\">\n",
       "<caption>OLS Regression Results</caption>\n",
       "<tr>\n",
       "  <th>Dep. Variable:</th>        <td>avr_rate</td>     <th>  R-squared:         </th> <td>   0.029</td> \n",
       "</tr>\n",
       "<tr>\n",
       "  <th>Model:</th>                   <td>OLS</td>       <th>  Adj. R-squared:    </th> <td>   0.029</td> \n",
       "</tr>\n",
       "<tr>\n",
       "  <th>Method:</th>             <td>Least Squares</td>  <th>  F-statistic:       </th> <td>   138.0</td> \n",
       "</tr>\n",
       "<tr>\n",
       "  <th>Date:</th>             <td>Fri, 15 Nov 2019</td> <th>  Prob (F-statistic):</th> <td>4.07e-88</td> \n",
       "</tr>\n",
       "<tr>\n",
       "  <th>Time:</th>                 <td>12:20:50</td>     <th>  Log-Likelihood:    </th> <td> -5164.2</td> \n",
       "</tr>\n",
       "<tr>\n",
       "  <th>No. Observations:</th>      <td> 13718</td>      <th>  AIC:               </th> <td>1.034e+04</td>\n",
       "</tr>\n",
       "<tr>\n",
       "  <th>Df Residuals:</th>          <td> 13714</td>      <th>  BIC:               </th> <td>1.037e+04</td>\n",
       "</tr>\n",
       "<tr>\n",
       "  <th>Df Model:</th>              <td>     3</td>      <th>                     </th>     <td> </td>    \n",
       "</tr>\n",
       "<tr>\n",
       "  <th>Covariance Type:</th>      <td>nonrobust</td>    <th>                     </th>     <td> </td>    \n",
       "</tr>\n",
       "</table>\n",
       "<table class=\"simpletable\">\n",
       "<tr>\n",
       "        <td></td>           <th>coef</th>     <th>std err</th>      <th>t</th>      <th>P>|t|</th>  <th>[0.025</th>    <th>0.975]</th>  \n",
       "</tr>\n",
       "<tr>\n",
       "  <th>Intercept</th>     <td>    3.8464</td> <td>    0.005</td> <td>  751.029</td> <td> 0.000</td> <td>    3.836</td> <td>    3.856</td>\n",
       "</tr>\n",
       "<tr>\n",
       "  <th>num_pages</th>     <td>    0.0002</td> <td> 1.19e-05</td> <td>   19.699</td> <td> 0.000</td> <td>    0.000</td> <td>    0.000</td>\n",
       "</tr>\n",
       "<tr>\n",
       "  <th>text_reviews</th>  <td> 7.998e-06</td> <td> 2.05e-06</td> <td>    3.903</td> <td> 0.000</td> <td> 3.98e-06</td> <td>  1.2e-05</td>\n",
       "</tr>\n",
       "<tr>\n",
       "  <th>text_reviews2</th> <td>-8.866e-11</td> <td>  4.1e-11</td> <td>   -2.161</td> <td> 0.031</td> <td>-1.69e-10</td> <td>-8.25e-12</td>\n",
       "</tr>\n",
       "</table>\n",
       "<table class=\"simpletable\">\n",
       "<tr>\n",
       "  <th>Omnibus:</th>       <td>11673.621</td> <th>  Durbin-Watson:     </th>  <td>   1.610</td> \n",
       "</tr>\n",
       "<tr>\n",
       "  <th>Prob(Omnibus):</th>  <td> 0.000</td>   <th>  Jarque-Bera (JB):  </th> <td>822723.284</td>\n",
       "</tr>\n",
       "<tr>\n",
       "  <th>Skew:</th>           <td>-3.696</td>   <th>  Prob(JB):          </th>  <td>    0.00</td> \n",
       "</tr>\n",
       "<tr>\n",
       "  <th>Kurtosis:</th>       <td>40.212</td>   <th>  Cond. No.          </th>  <td>2.15e+08</td> \n",
       "</tr>\n",
       "</table><br/><br/>Warnings:<br/>[1] Standard Errors assume that the covariance matrix of the errors is correctly specified.<br/>[2] The condition number is large, 2.15e+08. This might indicate that there are<br/>strong multicollinearity or other numerical problems."
      ],
      "text/plain": [
       "<class 'statsmodels.iolib.summary.Summary'>\n",
       "\"\"\"\n",
       "                            OLS Regression Results                            \n",
       "==============================================================================\n",
       "Dep. Variable:               avr_rate   R-squared:                       0.029\n",
       "Model:                            OLS   Adj. R-squared:                  0.029\n",
       "Method:                 Least Squares   F-statistic:                     138.0\n",
       "Date:                Fri, 15 Nov 2019   Prob (F-statistic):           4.07e-88\n",
       "Time:                        12:20:50   Log-Likelihood:                -5164.2\n",
       "No. Observations:               13718   AIC:                         1.034e+04\n",
       "Df Residuals:                   13714   BIC:                         1.037e+04\n",
       "Df Model:                           3                                         \n",
       "Covariance Type:            nonrobust                                         \n",
       "=================================================================================\n",
       "                    coef    std err          t      P>|t|      [0.025      0.975]\n",
       "---------------------------------------------------------------------------------\n",
       "Intercept         3.8464      0.005    751.029      0.000       3.836       3.856\n",
       "num_pages         0.0002   1.19e-05     19.699      0.000       0.000       0.000\n",
       "text_reviews   7.998e-06   2.05e-06      3.903      0.000    3.98e-06     1.2e-05\n",
       "text_reviews2 -8.866e-11    4.1e-11     -2.161      0.031   -1.69e-10   -8.25e-12\n",
       "==============================================================================\n",
       "Omnibus:                    11673.621   Durbin-Watson:                   1.610\n",
       "Prob(Omnibus):                  0.000   Jarque-Bera (JB):           822723.284\n",
       "Skew:                          -3.696   Prob(JB):                         0.00\n",
       "Kurtosis:                      40.212   Cond. No.                     2.15e+08\n",
       "==============================================================================\n",
       "\n",
       "Warnings:\n",
       "[1] Standard Errors assume that the covariance matrix of the errors is correctly specified.\n",
       "[2] The condition number is large, 2.15e+08. This might indicate that there are\n",
       "strong multicollinearity or other numerical problems.\n",
       "\"\"\""
      ]
     },
     "execution_count": 115,
     "metadata": {},
     "output_type": "execute_result"
    }
   ],
   "source": [
    "formula = 'avr_rate ~ num_pages + text_reviews + text_reviews2'\n",
    "results = smf.ols(formula, data = data_raw).fit()\n",
    "results.summary()"
   ]
  },
  {
   "cell_type": "markdown",
   "metadata": {},
   "source": [
    "Sometimes I'm completely confused about what I'm doing and lose the logic thread"
   ]
  }
 ],
 "metadata": {
  "kernelspec": {
   "display_name": "Python 3",
   "language": "python",
   "name": "python3"
  },
  "language_info": {
   "codemirror_mode": {
    "name": "ipython",
    "version": 3
   },
   "file_extension": ".py",
   "mimetype": "text/x-python",
   "name": "python",
   "nbconvert_exporter": "python",
   "pygments_lexer": "ipython3",
   "version": "3.7.3"
  }
 },
 "nbformat": 4,
 "nbformat_minor": 2
}
