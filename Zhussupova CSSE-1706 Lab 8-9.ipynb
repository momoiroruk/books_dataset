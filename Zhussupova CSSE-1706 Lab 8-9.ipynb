{
 "cells": [
  {
   "cell_type": "markdown",
   "metadata": {},
   "source": [
    "# CHAPTER 8-9"
   ]
  },
  {
   "cell_type": "code",
   "execution_count": 68,
   "metadata": {},
   "outputs": [],
   "source": [
    "import pandas as pd\n",
    "import numpy as np\n",
    "import matplotlib.pyplot as plt\n",
    "import scipy as sp\n",
    "#import scipy.stats as ttest_1samp"
   ]
  },
  {
   "cell_type": "code",
   "execution_count": 3,
   "metadata": {},
   "outputs": [],
   "source": [
    "data = pd.read_csv('books.csv', delimiter = ',')"
   ]
  },
  {
   "cell_type": "code",
   "execution_count": 4,
   "metadata": {},
   "outputs": [],
   "source": [
    "#rename just for convenience\n",
    "data.rename({'average_rating' : 'avr_rate',\n",
    "             '# num_pages' : 'num_pages',\n",
    "             'ratings_count' : 'ratings',\n",
    "             'language_code' : 'language',\n",
    "             'text_reviews_count' : 'text_reviews'}, axis = 'columns', inplace = 'True')"
   ]
  },
  {
   "cell_type": "code",
   "execution_count": 5,
   "metadata": {},
   "outputs": [
    {
     "data": {
      "text/html": [
       "<div>\n",
       "<style scoped>\n",
       "    .dataframe tbody tr th:only-of-type {\n",
       "        vertical-align: middle;\n",
       "    }\n",
       "\n",
       "    .dataframe tbody tr th {\n",
       "        vertical-align: top;\n",
       "    }\n",
       "\n",
       "    .dataframe thead th {\n",
       "        text-align: right;\n",
       "    }\n",
       "</style>\n",
       "<table border=\"1\" class=\"dataframe\">\n",
       "  <thead>\n",
       "    <tr style=\"text-align: right;\">\n",
       "      <th></th>\n",
       "      <th>bookID</th>\n",
       "      <th>title</th>\n",
       "      <th>authors</th>\n",
       "      <th>avr_rate</th>\n",
       "      <th>isbn</th>\n",
       "      <th>isbn13</th>\n",
       "      <th>language</th>\n",
       "      <th>num_pages</th>\n",
       "      <th>ratings</th>\n",
       "      <th>text_reviews</th>\n",
       "    </tr>\n",
       "  </thead>\n",
       "  <tbody>\n",
       "    <tr>\n",
       "      <th>0</th>\n",
       "      <td>1</td>\n",
       "      <td>Harry Potter and the Half-Blood Prince (Harry ...</td>\n",
       "      <td>J.K. Rowling-Mary GrandPré</td>\n",
       "      <td>4.56</td>\n",
       "      <td>0439785960</td>\n",
       "      <td>9780439785969</td>\n",
       "      <td>eng</td>\n",
       "      <td>652</td>\n",
       "      <td>1944099</td>\n",
       "      <td>26249.0</td>\n",
       "    </tr>\n",
       "    <tr>\n",
       "      <th>1</th>\n",
       "      <td>2</td>\n",
       "      <td>Harry Potter and the Order of the Phoenix (Har...</td>\n",
       "      <td>J.K. Rowling-Mary GrandPré</td>\n",
       "      <td>4.49</td>\n",
       "      <td>0439358078</td>\n",
       "      <td>9780439358071</td>\n",
       "      <td>eng</td>\n",
       "      <td>870</td>\n",
       "      <td>1996446</td>\n",
       "      <td>27613.0</td>\n",
       "    </tr>\n",
       "    <tr>\n",
       "      <th>2</th>\n",
       "      <td>3</td>\n",
       "      <td>Harry Potter and the Sorcerer's Stone (Harry P...</td>\n",
       "      <td>J.K. Rowling-Mary GrandPré</td>\n",
       "      <td>4.47</td>\n",
       "      <td>0439554934</td>\n",
       "      <td>9780439554930</td>\n",
       "      <td>eng</td>\n",
       "      <td>320</td>\n",
       "      <td>5629932</td>\n",
       "      <td>70390.0</td>\n",
       "    </tr>\n",
       "    <tr>\n",
       "      <th>3</th>\n",
       "      <td>4</td>\n",
       "      <td>Harry Potter and the Chamber of Secrets (Harry...</td>\n",
       "      <td>J.K. Rowling</td>\n",
       "      <td>4.41</td>\n",
       "      <td>0439554896</td>\n",
       "      <td>9780439554893</td>\n",
       "      <td>eng</td>\n",
       "      <td>352</td>\n",
       "      <td>6267</td>\n",
       "      <td>272.0</td>\n",
       "    </tr>\n",
       "    <tr>\n",
       "      <th>4</th>\n",
       "      <td>5</td>\n",
       "      <td>Harry Potter and the Prisoner of Azkaban (Harr...</td>\n",
       "      <td>J.K. Rowling-Mary GrandPré</td>\n",
       "      <td>4.55</td>\n",
       "      <td>043965548X</td>\n",
       "      <td>9780439655484</td>\n",
       "      <td>eng</td>\n",
       "      <td>435</td>\n",
       "      <td>2149872</td>\n",
       "      <td>33964.0</td>\n",
       "    </tr>\n",
       "  </tbody>\n",
       "</table>\n",
       "</div>"
      ],
      "text/plain": [
       "   bookID                                              title  \\\n",
       "0       1  Harry Potter and the Half-Blood Prince (Harry ...   \n",
       "1       2  Harry Potter and the Order of the Phoenix (Har...   \n",
       "2       3  Harry Potter and the Sorcerer's Stone (Harry P...   \n",
       "3       4  Harry Potter and the Chamber of Secrets (Harry...   \n",
       "4       5  Harry Potter and the Prisoner of Azkaban (Harr...   \n",
       "\n",
       "                      authors  avr_rate        isbn         isbn13 language  \\\n",
       "0  J.K. Rowling-Mary GrandPré      4.56  0439785960  9780439785969      eng   \n",
       "1  J.K. Rowling-Mary GrandPré      4.49  0439358078  9780439358071      eng   \n",
       "2  J.K. Rowling-Mary GrandPré      4.47  0439554934  9780439554930      eng   \n",
       "3                J.K. Rowling      4.41  0439554896  9780439554893      eng   \n",
       "4  J.K. Rowling-Mary GrandPré      4.55  043965548X  9780439655484      eng   \n",
       "\n",
       "   num_pages  ratings  text_reviews  \n",
       "0        652  1944099       26249.0  \n",
       "1        870  1996446       27613.0  \n",
       "2        320  5629932       70390.0  \n",
       "3        352     6267         272.0  \n",
       "4        435  2149872       33964.0  "
      ]
     },
     "execution_count": 5,
     "metadata": {},
     "output_type": "execute_result"
    }
   ],
   "source": [
    "data.head()"
   ]
  },
  {
   "cell_type": "code",
   "execution_count": 6,
   "metadata": {},
   "outputs": [
    {
     "name": "stderr",
     "output_type": "stream",
     "text": [
      "D:\\3 course\\anaconda\\lib\\site-packages\\ipykernel_launcher.py:5: SettingWithCopyWarning: \n",
      "A value is trying to be set on a copy of a slice from a DataFrame\n",
      "\n",
      "See the caveats in the documentation: http://pandas.pydata.org/pandas-docs/stable/indexing.html#indexing-view-versus-copy\n",
      "  \"\"\"\n"
     ]
    }
   ],
   "source": [
    "summary = sum(data['num_pages'])\n",
    "total = len(data['num_pages'])\n",
    "for i in range(total):\n",
    "    if (data['num_pages'][i] == 0):\n",
    "        data['num_pages'][i] = summary/total"
   ]
  },
  {
   "cell_type": "code",
   "execution_count": 7,
   "metadata": {},
   "outputs": [],
   "source": [
    "data = data.drop([10666])"
   ]
  },
  {
   "cell_type": "code",
   "execution_count": 8,
   "metadata": {},
   "outputs": [
    {
     "data": {
      "text/html": [
       "<div>\n",
       "<style scoped>\n",
       "    .dataframe tbody tr th:only-of-type {\n",
       "        vertical-align: middle;\n",
       "    }\n",
       "\n",
       "    .dataframe tbody tr th {\n",
       "        vertical-align: top;\n",
       "    }\n",
       "\n",
       "    .dataframe thead th {\n",
       "        text-align: right;\n",
       "    }\n",
       "</style>\n",
       "<table border=\"1\" class=\"dataframe\">\n",
       "  <thead>\n",
       "    <tr style=\"text-align: right;\">\n",
       "      <th></th>\n",
       "      <th>bookID</th>\n",
       "      <th>title</th>\n",
       "      <th>authors</th>\n",
       "      <th>avr_rate</th>\n",
       "      <th>isbn</th>\n",
       "      <th>isbn13</th>\n",
       "      <th>language</th>\n",
       "      <th>num_pages</th>\n",
       "      <th>ratings</th>\n",
       "      <th>text_reviews</th>\n",
       "    </tr>\n",
       "  </thead>\n",
       "  <tbody>\n",
       "    <tr>\n",
       "      <th>4468</th>\n",
       "      <td>13519</td>\n",
       "      <td>The Journey to the East</td>\n",
       "      <td>Hermann Hesse-Hilda Rosner</td>\n",
       "      <td>3.70</td>\n",
       "      <td>0312421680</td>\n",
       "      <td>9780312421687</td>\n",
       "      <td>eng</td>\n",
       "      <td>128</td>\n",
       "      <td>7716</td>\n",
       "      <td>351.0</td>\n",
       "    </tr>\n",
       "    <tr>\n",
       "      <th>3114</th>\n",
       "      <td>9653</td>\n",
       "      <td>If on a Winter's Night a Traveler</td>\n",
       "      <td>Italo Calvino-William Weaver-Peter Washington</td>\n",
       "      <td>4.06</td>\n",
       "      <td>0679420258</td>\n",
       "      <td>9780679420255</td>\n",
       "      <td>eng</td>\n",
       "      <td>254</td>\n",
       "      <td>1412</td>\n",
       "      <td>176.0</td>\n",
       "    </tr>\n",
       "    <tr>\n",
       "      <th>4530</th>\n",
       "      <td>13616</td>\n",
       "      <td>Death Note  Vol. 4: Love (Death Note  #4)</td>\n",
       "      <td>Tsugumi Ohba-Tsugumi Ohba-Alexis Kirsch</td>\n",
       "      <td>4.39</td>\n",
       "      <td>142150331X</td>\n",
       "      <td>9781421503318</td>\n",
       "      <td>eng</td>\n",
       "      <td>204</td>\n",
       "      <td>20286</td>\n",
       "      <td>635.0</td>\n",
       "    </tr>\n",
       "    <tr>\n",
       "      <th>3012</th>\n",
       "      <td>9427</td>\n",
       "      <td>The Story of Chicago May</td>\n",
       "      <td>Nuala O'Faolain</td>\n",
       "      <td>3.23</td>\n",
       "      <td>1573223204</td>\n",
       "      <td>9781573223201</td>\n",
       "      <td>en-US</td>\n",
       "      <td>307</td>\n",
       "      <td>337</td>\n",
       "      <td>60.0</td>\n",
       "    </tr>\n",
       "    <tr>\n",
       "      <th>139</th>\n",
       "      <td>285</td>\n",
       "      <td>Love Letters</td>\n",
       "      <td>Kahlil Gibran-Suheil Bushrui-Salma H. Al-Kuzbari</td>\n",
       "      <td>3.67</td>\n",
       "      <td>1851681825</td>\n",
       "      <td>9781851681822</td>\n",
       "      <td>eng</td>\n",
       "      <td>178</td>\n",
       "      <td>201</td>\n",
       "      <td>9.0</td>\n",
       "    </tr>\n",
       "    <tr>\n",
       "      <th>3972</th>\n",
       "      <td>12113</td>\n",
       "      <td>Six Characters in Search of an Author and Othe...</td>\n",
       "      <td>Luigi Pirandello-Mark Musa</td>\n",
       "      <td>3.95</td>\n",
       "      <td>014018922X</td>\n",
       "      <td>9780140189223</td>\n",
       "      <td>eng</td>\n",
       "      <td>224</td>\n",
       "      <td>2888</td>\n",
       "      <td>63.0</td>\n",
       "    </tr>\n",
       "    <tr>\n",
       "      <th>12461</th>\n",
       "      <td>42797</td>\n",
       "      <td>Goodbye Forever (Sweet Dreams  #72)</td>\n",
       "      <td>Barbara Conklin</td>\n",
       "      <td>3.72</td>\n",
       "      <td>055324356X</td>\n",
       "      <td>9780553243567</td>\n",
       "      <td>eng</td>\n",
       "      <td>135</td>\n",
       "      <td>54</td>\n",
       "      <td>0.0</td>\n",
       "    </tr>\n",
       "  </tbody>\n",
       "</table>\n",
       "</div>"
      ],
      "text/plain": [
       "       bookID                                              title  \\\n",
       "4468    13519                            The Journey to the East   \n",
       "3114     9653                  If on a Winter's Night a Traveler   \n",
       "4530    13616          Death Note  Vol. 4: Love (Death Note  #4)   \n",
       "3012     9427                           The Story of Chicago May   \n",
       "139       285                                       Love Letters   \n",
       "3972    12113  Six Characters in Search of an Author and Othe...   \n",
       "12461   42797                Goodbye Forever (Sweet Dreams  #72)   \n",
       "\n",
       "                                                authors  avr_rate        isbn  \\\n",
       "4468                         Hermann Hesse-Hilda Rosner      3.70  0312421680   \n",
       "3114      Italo Calvino-William Weaver-Peter Washington      4.06  0679420258   \n",
       "4530            Tsugumi Ohba-Tsugumi Ohba-Alexis Kirsch      4.39  142150331X   \n",
       "3012                                    Nuala O'Faolain      3.23  1573223204   \n",
       "139    Kahlil Gibran-Suheil Bushrui-Salma H. Al-Kuzbari      3.67  1851681825   \n",
       "3972                         Luigi Pirandello-Mark Musa      3.95  014018922X   \n",
       "12461                                   Barbara Conklin      3.72  055324356X   \n",
       "\n",
       "              isbn13 language  num_pages  ratings  text_reviews  \n",
       "4468   9780312421687      eng        128     7716         351.0  \n",
       "3114   9780679420255      eng        254     1412         176.0  \n",
       "4530   9781421503318      eng        204    20286         635.0  \n",
       "3012   9781573223201    en-US        307      337          60.0  \n",
       "139    9781851681822      eng        178      201           9.0  \n",
       "3972   9780140189223      eng        224     2888          63.0  \n",
       "12461  9780553243567      eng        135       54           0.0  "
      ]
     },
     "execution_count": 8,
     "metadata": {},
     "output_type": "execute_result"
    }
   ],
   "source": [
    "data.sample(7)"
   ]
  },
  {
   "cell_type": "code",
   "execution_count": 9,
   "metadata": {
    "scrolled": true
   },
   "outputs": [
    {
     "data": {
      "text/html": [
       "<div>\n",
       "<style scoped>\n",
       "    .dataframe tbody tr th:only-of-type {\n",
       "        vertical-align: middle;\n",
       "    }\n",
       "\n",
       "    .dataframe tbody tr th {\n",
       "        vertical-align: top;\n",
       "    }\n",
       "\n",
       "    .dataframe thead th {\n",
       "        text-align: right;\n",
       "    }\n",
       "</style>\n",
       "<table border=\"1\" class=\"dataframe\">\n",
       "  <thead>\n",
       "    <tr style=\"text-align: right;\">\n",
       "      <th></th>\n",
       "      <th>bookID</th>\n",
       "      <th>avr_rate</th>\n",
       "      <th>num_pages</th>\n",
       "      <th>ratings</th>\n",
       "      <th>text_reviews</th>\n",
       "    </tr>\n",
       "  </thead>\n",
       "  <tbody>\n",
       "    <tr>\n",
       "      <th>count</th>\n",
       "      <td>13718.000000</td>\n",
       "      <td>13718.000000</td>\n",
       "      <td>13718.000000</td>\n",
       "      <td>1.371800e+04</td>\n",
       "      <td>13718.000000</td>\n",
       "    </tr>\n",
       "    <tr>\n",
       "      <th>mean</th>\n",
       "      <td>22159.651407</td>\n",
       "      <td>3.930551</td>\n",
       "      <td>344.521213</td>\n",
       "      <td>1.776039e+04</td>\n",
       "      <td>533.478787</td>\n",
       "    </tr>\n",
       "    <tr>\n",
       "      <th>std</th>\n",
       "      <td>13699.671611</td>\n",
       "      <td>0.357875</td>\n",
       "      <td>251.164675</td>\n",
       "      <td>1.129411e+05</td>\n",
       "      <td>2528.653867</td>\n",
       "    </tr>\n",
       "    <tr>\n",
       "      <th>min</th>\n",
       "      <td>1.000000</td>\n",
       "      <td>0.000000</td>\n",
       "      <td>1.000000</td>\n",
       "      <td>0.000000e+00</td>\n",
       "      <td>0.000000</td>\n",
       "    </tr>\n",
       "    <tr>\n",
       "      <th>25%</th>\n",
       "      <td>10620.500000</td>\n",
       "      <td>3.770000</td>\n",
       "      <td>199.000000</td>\n",
       "      <td>8.300000e+01</td>\n",
       "      <td>7.000000</td>\n",
       "    </tr>\n",
       "    <tr>\n",
       "      <th>50%</th>\n",
       "      <td>21321.500000</td>\n",
       "      <td>3.960000</td>\n",
       "      <td>304.000000</td>\n",
       "      <td>6.300000e+02</td>\n",
       "      <td>40.000000</td>\n",
       "    </tr>\n",
       "    <tr>\n",
       "      <th>75%</th>\n",
       "      <td>33311.750000</td>\n",
       "      <td>4.130000</td>\n",
       "      <td>421.000000</td>\n",
       "      <td>4.738500e+03</td>\n",
       "      <td>222.000000</td>\n",
       "    </tr>\n",
       "    <tr>\n",
       "      <th>max</th>\n",
       "      <td>47709.000000</td>\n",
       "      <td>5.000000</td>\n",
       "      <td>6576.000000</td>\n",
       "      <td>5.629932e+06</td>\n",
       "      <td>93619.000000</td>\n",
       "    </tr>\n",
       "  </tbody>\n",
       "</table>\n",
       "</div>"
      ],
      "text/plain": [
       "             bookID      avr_rate     num_pages       ratings  text_reviews\n",
       "count  13718.000000  13718.000000  13718.000000  1.371800e+04  13718.000000\n",
       "mean   22159.651407      3.930551    344.521213  1.776039e+04    533.478787\n",
       "std    13699.671611      0.357875    251.164675  1.129411e+05   2528.653867\n",
       "min        1.000000      0.000000      1.000000  0.000000e+00      0.000000\n",
       "25%    10620.500000      3.770000    199.000000  8.300000e+01      7.000000\n",
       "50%    21321.500000      3.960000    304.000000  6.300000e+02     40.000000\n",
       "75%    33311.750000      4.130000    421.000000  4.738500e+03    222.000000\n",
       "max    47709.000000      5.000000   6576.000000  5.629932e+06  93619.000000"
      ]
     },
     "execution_count": 9,
     "metadata": {},
     "output_type": "execute_result"
    }
   ],
   "source": [
    "data.describe()"
   ]
  },
  {
   "cell_type": "code",
   "execution_count": 28,
   "metadata": {
    "scrolled": false
   },
   "outputs": [
    {
     "data": {
      "text/plain": [
       "Index(['bookID', 'title', 'authors', 'avr_rate', 'isbn', 'isbn13', 'language',\n",
       "       'num_pages', 'ratings', 'text_reviews'],\n",
       "      dtype='object')"
      ]
     },
     "execution_count": 28,
     "metadata": {},
     "output_type": "execute_result"
    }
   ],
   "source": [
    "data.columns"
   ]
  },
  {
   "cell_type": "code",
   "execution_count": 10,
   "metadata": {},
   "outputs": [],
   "source": [
    "%matplotlib inline"
   ]
  },
  {
   "cell_type": "markdown",
   "metadata": {},
   "source": [
    "# The estimation game"
   ]
  },
  {
   "cell_type": "markdown",
   "metadata": {},
   "source": [
    "###### Root mean squared error is one of several ways to summarize the average error of an estimation process."
   ]
  },
  {
   "cell_type": "code",
   "execution_count": 11,
   "metadata": {},
   "outputs": [],
   "source": [
    "def RMSE(estimates, actual):\n",
    "    \"\"\"Computes the root mean squared error of a sequence of estimates.\n",
    "\n",
    "    estimate: sequence of numbers\n",
    "    actual: actual value\n",
    "\n",
    "    returns: float RMSE\n",
    "    \"\"\"\n",
    "    e2 = [(estimate-actual)**2 for estimate in estimates]\n",
    "    mse = np.mean(e2)\n",
    "    return np.sqrt(mse)"
   ]
  },
  {
   "cell_type": "markdown",
   "metadata": {},
   "source": [
    "##### The following function simulates experiments where we try to estimate the mean of a population based on a sample with size n=7. We run iters=1000 experiments and collect the mean and median of each sample."
   ]
  },
  {
   "cell_type": "code",
   "execution_count": 12,
   "metadata": {},
   "outputs": [
    {
     "name": "stdout",
     "output_type": "stream",
     "text": [
      "Experiment 1\n",
      "rmse xbar 0.37379107040888704\n",
      "rmse median 0.44586143044171983\n"
     ]
    }
   ],
   "source": [
    "import random\n",
    "\n",
    "def Estimate1(n=7, iters=1000):\n",
    "    \"\"\"Evaluates RMSE of sample mean and median as estimators.\n",
    "\n",
    "    n: sample size\n",
    "    iters: number of iterations\n",
    "    \"\"\"\n",
    "    mu = 0\n",
    "    sigma = 1\n",
    "\n",
    "    means = []\n",
    "    medians = []\n",
    "    for _ in range(iters):\n",
    "        xs = [random.gauss(mu, sigma) for _ in range(n)]\n",
    "        xbar = np.mean(xs)\n",
    "        median = np.median(xs)\n",
    "        means.append(xbar)\n",
    "        medians.append(median)\n",
    "\n",
    "    print('Experiment 1')\n",
    "    print('rmse xbar', RMSE(means, mu))\n",
    "    print('rmse median', RMSE(medians, mu))\n",
    "    \n",
    "Estimate1()"
   ]
  },
  {
   "cell_type": "markdown",
   "metadata": {},
   "source": [
    "##### Using x' to estimate the mean works a little better than using the median; in the long run, it minimizes RMSE. But using the median is more robust in the presence of outliers or large errors."
   ]
  },
  {
   "cell_type": "markdown",
   "metadata": {},
   "source": [
    "# Estimating variance"
   ]
  },
  {
   "cell_type": "markdown",
   "metadata": {},
   "source": [
    "##### The obvious way to estimate the variance of a population is to compute the variance of the sample, S^2, but that turns out to be a biased estimator; that is, in the long run, the average error doesn't converge to 0.\n",
    "\n",
    "##### The following function computes the mean error for a collection of estimates."
   ]
  },
  {
   "cell_type": "code",
   "execution_count": 13,
   "metadata": {},
   "outputs": [],
   "source": [
    "def MeanError(estimates, actual):\n",
    "    \"\"\"Computes the mean error of a sequence of estimates.\n",
    "\n",
    "    estimate: sequence of numbers\n",
    "    actual: actual value\n",
    "\n",
    "    returns: float mean error\n",
    "    \"\"\"\n",
    "    errors = [estimate-actual for estimate in estimates]\n",
    "    return np.mean(errors)"
   ]
  },
  {
   "cell_type": "markdown",
   "metadata": {},
   "source": [
    "##### The following function simulates experiments where we try to estimate the variance of a population based on a sample with size n=7. We run iters=1000 experiments and two estimates for each sample, S^2 and S{n-1}^2."
   ]
  },
  {
   "cell_type": "code",
   "execution_count": 14,
   "metadata": {},
   "outputs": [
    {
     "name": "stdout",
     "output_type": "stream",
     "text": [
      "mean error biased -0.13582258200987968\n",
      "mean error unbiased 0.008206987655140392\n"
     ]
    }
   ],
   "source": [
    "def Estimate2(n=7, iters=1000):\n",
    "    mu = 0\n",
    "    sigma = 1\n",
    "\n",
    "    estimates1 = []\n",
    "    estimates2 = []\n",
    "    for _ in range(iters):\n",
    "        xs = [random.gauss(mu, sigma) for i in range(n)]\n",
    "        biased = np.var(xs)\n",
    "        unbiased = np.var(xs, ddof=1)\n",
    "        estimates1.append(biased)\n",
    "        estimates2.append(unbiased)\n",
    "\n",
    "    print('mean error biased', MeanError(estimates1, sigma**2))\n",
    "    print('mean error unbiased', MeanError(estimates2, sigma**2))\n",
    "    \n",
    "Estimate2()"
   ]
  },
  {
   "cell_type": "markdown",
   "metadata": {},
   "source": [
    "##### The mean error for S^2 is non-zero, which suggests that it is biased. The mean error for S{n-1}^2 is close to zero, and gets even smaller if we increase iters."
   ]
  },
  {
   "cell_type": "markdown",
   "metadata": {},
   "source": [
    "# The sampling distribution\n",
    "\n",
    "##### The following function simulates experiments where we estimate the mean of a population using x', and returns a list of estimates, one from each experiment."
   ]
  },
  {
   "cell_type": "code",
   "execution_count": 15,
   "metadata": {},
   "outputs": [],
   "source": [
    "def SimulateSample(mu=90, sigma=7.5, n=9, iters=1000):\n",
    "    xbars = list(data['num_pages'])\n",
    "    for j in range(iters):\n",
    "        xs = np.random.normal(mu, sigma, n)\n",
    "        xbar = np.mean(xs)\n",
    "        xbars.append(xbar)\n",
    "    return xbars\n",
    "\n",
    "xbars = SimulateSample()"
   ]
  },
  {
   "cell_type": "markdown",
   "metadata": {},
   "source": [
    "##### Here's the \"sampling distribution of the mean\" which shows how much we should expect x' to vary from one experiment to the next."
   ]
  },
  {
   "cell_type": "code",
   "execution_count": 16,
   "metadata": {
    "scrolled": true
   },
   "outputs": [
    {
     "name": "stderr",
     "output_type": "stream",
     "text": [
      "D:\\3 course\\anaconda\\lib\\site-packages\\ipykernel_launcher.py:4: MatplotlibDeprecationWarning: \n",
      "The 'normed' kwarg was deprecated in Matplotlib 2.1 and will be removed in 3.1. Use 'density' instead.\n",
      "  after removing the cwd from sys.path.\n"
     ]
    },
    {
     "data": {
      "image/png": "[encoded data removed]",
      "text/plain": [
       "<Figure size 432x288 with 2 Axes>"
      ]
     },
     "metadata": {
      "needs_background": "light"
     },
     "output_type": "display_data"
    }
   ],
   "source": [
    "# Plot the histogram and CDF\n",
    "fig, ax = plt.subplots()\n",
    "ax2 = ax.twinx()\n",
    "n, bins, patches = ax.hist(xbars, bins=15, normed=False)\n",
    "n, bins, patches = ax2.hist(\n",
    "    xbars, cumulative=1, histtype='step', bins=15, color='tab:orange')"
   ]
  },
  {
   "cell_type": "markdown",
   "metadata": {},
   "source": [
    "##### The mean of the sample means is close to the actual value of mu."
   ]
  },
  {
   "cell_type": "code",
   "execution_count": 17,
   "metadata": {},
   "outputs": [
    {
     "data": {
      "text/plain": [
       "327.22891960366053"
      ]
     },
     "execution_count": 17,
     "metadata": {},
     "output_type": "execute_result"
    }
   ],
   "source": [
    "np.mean(xbars)"
   ]
  },
  {
   "cell_type": "markdown",
   "metadata": {},
   "source": [
    "##### And the RMSE of the sample means is called the standard error."
   ]
  },
  {
   "cell_type": "code",
   "execution_count": 18,
   "metadata": {},
   "outputs": [
    {
     "data": {
      "text/plain": [
       "345.21478753492676"
      ]
     },
     "execution_count": 18,
     "metadata": {},
     "output_type": "execute_result"
    }
   ],
   "source": [
    "stderr = RMSE(xbars, 90)\n",
    "stderr"
   ]
  },
  {
   "cell_type": "code",
   "execution_count": 19,
   "metadata": {},
   "outputs": [
    {
     "name": "stdout",
     "output_type": "stream",
     "text": [
      "Experiment 1\n",
      "mean error xbar -0.00010307152286790483\n",
      "mean error median -0.00021276121821957\n"
     ]
    }
   ],
   "source": [
    "def Estimate1(n=7, iters=100000):\n",
    "    \"\"\"Mean error for xbar and median as estimators of population mean.\n",
    "\n",
    "    n: sample size\n",
    "    iters: number of iterations\n",
    "    \"\"\"\n",
    "    mu = 0\n",
    "    sigma = 1\n",
    "\n",
    "    means = []\n",
    "    medians = []\n",
    "    for _ in range(iters):\n",
    "        xs = [random.gauss(mu, sigma) for i in range(n)]\n",
    "        xbar = np.mean(xs)\n",
    "        median = np.median(xs)\n",
    "        means.append(xbar)\n",
    "        medians.append(median)\n",
    "\n",
    "    print('Experiment 1')\n",
    "    print('mean error xbar', MeanError(means, mu))\n",
    "    print('mean error median', MeanError(medians, mu))\n",
    "    \n",
    "Estimate1()"
   ]
  },
  {
   "cell_type": "code",
   "execution_count": 20,
   "metadata": {},
   "outputs": [
    {
     "name": "stdout",
     "output_type": "stream",
     "text": [
      "Experiment 2\n",
      "RMSE biased 0.5156364257385069\n",
      "RMSE unbiased 0.5787501637840896\n"
     ]
    }
   ],
   "source": [
    "def Estimate2(n=7, iters=100000):\n",
    "    \"\"\"RMSE for biased and unbiased estimators of population variance.\n",
    "\n",
    "    n: sample size\n",
    "    iters: number of iterations\n",
    "    \"\"\"\n",
    "    mu = 0\n",
    "    sigma = 1\n",
    "\n",
    "    estimates1 = []\n",
    "    estimates2 = []\n",
    "    for _ in range(iters):\n",
    "        xs = [random.gauss(mu, sigma) for i in range(n)]\n",
    "        biased = np.var(xs)\n",
    "        unbiased = np.var(xs, ddof=1)\n",
    "        estimates1.append(biased)\n",
    "        estimates2.append(unbiased)\n",
    "\n",
    "    print('Experiment 2')\n",
    "    print('RMSE biased', RMSE(estimates1, sigma**2))\n",
    "    print('RMSE unbiased', RMSE(estimates2, sigma**2))\n",
    "\n",
    "Estimate2()"
   ]
  },
  {
   "cell_type": "code",
   "execution_count": 21,
   "metadata": {},
   "outputs": [],
   "source": [
    "def SimulateGame(lam):\n",
    "    \"\"\"Simulates a game and returns the estimated goal-scoring rate.\n",
    "\n",
    "    lam: actual goal scoring rate in goals per game\n",
    "    \"\"\"\n",
    "    goals = 0\n",
    "    t = 0\n",
    "    while True:\n",
    "        time_between_goals = random.expovariate(lam)\n",
    "        t += time_between_goals\n",
    "        if t > 1:\n",
    "            break\n",
    "        goals += 1\n",
    "\n",
    "    # estimated goal-scoring rate is the actual number of goals scored\n",
    "    L = goals\n",
    "    return L"
   ]
  },
  {
   "cell_type": "code",
   "execution_count": 22,
   "metadata": {},
   "outputs": [],
   "source": [
    "# The following function simulates many games, then uses the\n",
    "# number of goals scored as an estimate of the true long-term\n",
    "# goal-scoring rate.\n",
    "\n",
    "def Estimate(lam=2, m=1000000):\n",
    "\n",
    "    estimates = list(data['num_pages'])\n",
    "    for i in range(m):\n",
    "        L = SimulateGame(lam)\n",
    "        estimates.append(L)\n",
    "\n",
    "    print('Experiment 3')\n",
    "    print('rmse L', RMSE(estimates, lam))\n",
    "    print('mean error L', MeanError(estimates, lam))\n",
    "    \n",
    "    #plotting pmf for column \"text_reviews\"\n",
    "    x2 = estimates\n",
    "    y2 = np.arange(1, len(x2) +1 ) / len(x2)\n",
    "    plt2 = plt.plot(x2, y2, marker = '.', linestyle = 'none')"
   ]
  },
  {
   "cell_type": "code",
   "execution_count": 23,
   "metadata": {},
   "outputs": [
    {
     "name": "stdout",
     "output_type": "stream",
     "text": [
      "Experiment 3\n",
      "rmse L 49.4288244473013\n",
      "mean error L 4.636136479770508\n"
     ]
    },
    {
     "data": {
      "image/png": "[encoded data removed]",
      "text/plain": [
       "<Figure size 432x288 with 1 Axes>"
      ]
     },
     "metadata": {
      "needs_background": "light"
     },
     "output_type": "display_data"
    }
   ],
   "source": [
    "Estimate()"
   ]
  },
  {
   "cell_type": "markdown",
   "metadata": {},
   "source": [
    "# Smth looks like Hypothesis Testing (no)"
   ]
  },
  {
   "cell_type": "markdown",
   "metadata": {},
   "source": [
    "##### 1) Choosing a test statistics\n",
    "##### 2) Define a null hypothesis\n",
    "##### 3) Compure a p-value\n",
    "##### 4) Interpret result (statistically significant)\n",
    "Firstly, I tryied to identify the parameters which can be suitable\n",
    "It's gonna be relation ship between average rating with text reviews and ratings\n",
    "Then I identified my hypothesis.\n",
    "After that, calculate p-value and make conclusion.\n",
    "#####  H: text reviews and ratings depend on average rating. If the last one is high, соответственно, those 2 are high as well\n",
    "##### H0: ratings and amount of text reviews are the same в зависимости от средней оценки\n",
    "##### H1: ratings and amount of text reviews are not the same в зависимости от средней оценки"
   ]
  },
  {
   "cell_type": "code",
   "execution_count": 24,
   "metadata": {},
   "outputs": [],
   "source": [
    "import seaborn as sns"
   ]
  },
  {
   "cell_type": "code",
   "execution_count": 67,
   "metadata": {},
   "outputs": [
    {
     "data": {
      "text/plain": [
       "<matplotlib.axes._subplots.AxesSubplot at 0x2858693ca20>"
      ]
     },
     "execution_count": 67,
     "metadata": {},
     "output_type": "execute_result"
    },
    {
     "data": {
      "image/png": "[encoded data removed]",
      "text/plain": [
       "<Figure size 432x288 with 1 Axes>"
      ]
     },
     "metadata": {
      "needs_background": "light"
     },
     "output_type": "display_data"
    }
   ],
   "source": [
    "# highest reviewed books\n",
    "highest_reviews = data.nlargest(15, ['text_reviews'])\n",
    "sns.barplot(highest_reviews['text_reviews'], highest_reviews['title'])"
   ]
  },
  {
   "cell_type": "code",
   "execution_count": 69,
   "metadata": {},
   "outputs": [
    {
     "data": {
      "text/plain": [
       "<matplotlib.axes._subplots.AxesSubplot at 0x28586b3b048>"
      ]
     },
     "execution_count": 69,
     "metadata": {},
     "output_type": "execute_result"
    },
    {
     "data": {
      "image/png": "[encoded data removed]",
      "text/plain": [
       "<Figure size 432x288 with 1 Axes>"
      ]
     },
     "metadata": {
      "needs_background": "light"
     },
     "output_type": "display_data"
    }
   ],
   "source": [
    "# highest average ratings of books\n",
    "highest_reviews = data.nlargest(15, ['avr_rate'])\n",
    "sns.barplot(highest_reviews['avr_rate'], highest_reviews['title'])"
   ]
  },
  {
   "cell_type": "code",
   "execution_count": 70,
   "metadata": {
    "scrolled": false
   },
   "outputs": [
    {
     "data": {
      "text/plain": [
       "<matplotlib.axes._subplots.AxesSubplot at 0x28586a2a208>"
      ]
     },
     "execution_count": 70,
     "metadata": {},
     "output_type": "execute_result"
    },
    {
     "data": {
      "image/png": "[encoded data removed]",
      "text/plain": [
       "<Figure size 432x288 with 1 Axes>"
      ]
     },
     "metadata": {
      "needs_background": "light"
     },
     "output_type": "display_data"
    }
   ],
   "source": [
    "# highest ratings of books\n",
    "highest_reviews = data.nlargest(15, ['ratings'])\n",
    "sns.barplot(highest_reviews['ratings'], highest_reviews['title'])"
   ]
  },
  {
   "cell_type": "markdown",
   "metadata": {},
   "source": [
    "#### Relationship between Rating and Text Reviews"
   ]
  },
  {
   "cell_type": "code",
   "execution_count": 122,
   "metadata": {},
   "outputs": [
    {
     "data": {
      "text/plain": [
       "<Figure size 1080x720 with 0 Axes>"
      ]
     },
     "metadata": {},
     "output_type": "display_data"
    },
    {
     "data": {
      "image/png": "[encoded data removed]",
      "text/plain": [
       "<Figure size 432x432 with 3 Axes>"
      ]
     },
     "metadata": {
      "needs_background": "light"
     },
     "output_type": "display_data"
    }
   ],
   "source": [
    "plt.figure(figsize=(15,10))\n",
    "data.dropna(0, inplace=True)\n",
    "sns.set_context('paper')\n",
    "ax =sns.jointplot(x='avr_rate',y='text_reviews', kind='scatter',  data= data[['text_reviews', 'avr_rate']])\n",
    "ax.set_axis_labels('Average Rating', 'Text Review Count')\n",
    "plt.show()"
   ]
  },
  {
   "cell_type": "code",
   "execution_count": 126,
   "metadata": {},
   "outputs": [
    {
     "data": {
      "text/plain": [
       "<Figure size 1080x720 with 0 Axes>"
      ]
     },
     "metadata": {},
     "output_type": "display_data"
    },
    {
     "data": {
      "image/png": "[encoded data removed]",
      "text/plain": [
       "<Figure size 432x432 with 3 Axes>"
      ]
     },
     "metadata": {
      "needs_background": "light"
     },
     "output_type": "display_data"
    }
   ],
   "source": [
    "plt.figure(figsize=(15,10))\n",
    "data.dropna(0, inplace=True)\n",
    "sns.set_context('paper')\n",
    "ax =sns.jointplot(x='ratings',y='text_reviews', kind='scatter',  data= data[['text_reviews', 'ratings']])\n",
    "ax.set_axis_labels('Rating', 'Text Review Count')\n",
    "plt.show()"
   ]
  },
  {
   "cell_type": "code",
   "execution_count": 129,
   "metadata": {
    "scrolled": true
   },
   "outputs": [
    {
     "data": {
      "text/plain": [
       "<Figure size 1080x720 with 0 Axes>"
      ]
     },
     "metadata": {},
     "output_type": "display_data"
    },
    {
     "data": {
      "image/png": "[encoded data removed]",
      "text/plain": [
       "<Figure size 432x432 with 3 Axes>"
      ]
     },
     "metadata": {
      "needs_background": "light"
     },
     "output_type": "display_data"
    }
   ],
   "source": [
    "plt.figure(figsize=(15,10))\n",
    "data.dropna(0, inplace=True)\n",
    "sns.set_context('paper')\n",
    "ax =sns.jointplot(x='avr_rate',y='ratings', kind='scatter',  data= data[['ratings','avr_rate']])\n",
    "ax.set_axis_labels('Average Rating', 'Rating')\n",
    "plt.show()"
   ]
  },
  {
   "cell_type": "markdown",
   "metadata": {},
   "source": [
    "##### as we can see the most occured rates around 3 and 4"
   ]
  },
  {
   "cell_type": "code",
   "execution_count": 83,
   "metadata": {},
   "outputs": [
    {
     "data": {
      "text/html": [
       "<div>\n",
       "<style scoped>\n",
       "    .dataframe tbody tr th:only-of-type {\n",
       "        vertical-align: middle;\n",
       "    }\n",
       "\n",
       "    .dataframe tbody tr th {\n",
       "        vertical-align: top;\n",
       "    }\n",
       "\n",
       "    .dataframe thead th {\n",
       "        text-align: right;\n",
       "    }\n",
       "</style>\n",
       "<table border=\"1\" class=\"dataframe\">\n",
       "  <thead>\n",
       "    <tr style=\"text-align: right;\">\n",
       "      <th></th>\n",
       "      <th>avr_rate</th>\n",
       "      <th>ratings</th>\n",
       "    </tr>\n",
       "  </thead>\n",
       "  <tbody>\n",
       "    <tr>\n",
       "      <th>0</th>\n",
       "      <td>(0, 1]</td>\n",
       "      <td>3</td>\n",
       "    </tr>\n",
       "    <tr>\n",
       "      <th>1</th>\n",
       "      <td>(1, 2]</td>\n",
       "      <td>13</td>\n",
       "    </tr>\n",
       "    <tr>\n",
       "      <th>2</th>\n",
       "      <td>(2, 3]</td>\n",
       "      <td>66474</td>\n",
       "    </tr>\n",
       "    <tr>\n",
       "      <th>3</th>\n",
       "      <td>(3, 4]</td>\n",
       "      <td>115040722</td>\n",
       "    </tr>\n",
       "    <tr>\n",
       "      <th>4</th>\n",
       "      <td>(4, 5]</td>\n",
       "      <td>128529761</td>\n",
       "    </tr>\n",
       "  </tbody>\n",
       "</table>\n",
       "</div>"
      ],
      "text/plain": [
       "  avr_rate    ratings\n",
       "0   (0, 1]          3\n",
       "1   (1, 2]         13\n",
       "2   (2, 3]      66474\n",
       "3   (3, 4]  115040722\n",
       "4   (4, 5]  128529761"
      ]
     },
     "execution_count": 83,
     "metadata": {},
     "output_type": "execute_result"
    }
   ],
   "source": [
    "req = data.groupby(pd.cut(data['avr_rate'], [0,1,2,3,4,5]))\n",
    "req = req[['ratings']]\n",
    "req.sum().reset_index()"
   ]
  },
  {
   "cell_type": "code",
   "execution_count": 81,
   "metadata": {
    "scrolled": true
   },
   "outputs": [
    {
     "data": {
      "text/html": [
       "<div>\n",
       "<style scoped>\n",
       "    .dataframe tbody tr th:only-of-type {\n",
       "        vertical-align: middle;\n",
       "    }\n",
       "\n",
       "    .dataframe tbody tr th {\n",
       "        vertical-align: top;\n",
       "    }\n",
       "\n",
       "    .dataframe thead th {\n",
       "        text-align: right;\n",
       "    }\n",
       "</style>\n",
       "<table border=\"1\" class=\"dataframe\">\n",
       "  <thead>\n",
       "    <tr style=\"text-align: right;\">\n",
       "      <th></th>\n",
       "      <th>avr_rate</th>\n",
       "      <th>text_reviews</th>\n",
       "    </tr>\n",
       "  </thead>\n",
       "  <tbody>\n",
       "    <tr>\n",
       "      <th>0</th>\n",
       "      <td>(0, 1]</td>\n",
       "      <td>0.0</td>\n",
       "    </tr>\n",
       "    <tr>\n",
       "      <th>1</th>\n",
       "      <td>(1, 2]</td>\n",
       "      <td>4.0</td>\n",
       "    </tr>\n",
       "    <tr>\n",
       "      <th>2</th>\n",
       "      <td>(2, 3]</td>\n",
       "      <td>5041.0</td>\n",
       "    </tr>\n",
       "    <tr>\n",
       "      <th>3</th>\n",
       "      <td>(3, 4]</td>\n",
       "      <td>3660397.0</td>\n",
       "    </tr>\n",
       "    <tr>\n",
       "      <th>4</th>\n",
       "      <td>(4, 5]</td>\n",
       "      <td>3652819.0</td>\n",
       "    </tr>\n",
       "  </tbody>\n",
       "</table>\n",
       "</div>"
      ],
      "text/plain": [
       "  avr_rate  text_reviews\n",
       "0   (0, 1]           0.0\n",
       "1   (1, 2]           4.0\n",
       "2   (2, 3]        5041.0\n",
       "3   (3, 4]     3660397.0\n",
       "4   (4, 5]     3652819.0"
      ]
     },
     "execution_count": 81,
     "metadata": {},
     "output_type": "execute_result"
    }
   ],
   "source": [
    "req1 = data.groupby(pd.cut(data['avr_rate'], [0,1,2,3,4,5]))\n",
    "req1 = req1[['text_reviews']]\n",
    "req1.sum().reset_index()"
   ]
  },
  {
   "cell_type": "markdown",
   "metadata": {},
   "source": [
    "##### here"
   ]
  },
  {
   "cell_type": "code",
   "execution_count": 25,
   "metadata": {},
   "outputs": [
    {
     "name": "stdout",
     "output_type": "stream",
     "text": [
      "Mean value of text reviews with average rating  0  is  0.029411764705882353\n",
      "Mean value of text reviews with average rating  1  is  0.0\n",
      "Mean value of text reviews with average rating  2  is  0.2\n",
      "Mean value of text reviews with average rating  3  is  0.7692307692307693\n",
      "Mean value of text reviews with average rating  4  is  289.8007662835249\n",
      "Mean value of text reviews with average rating  5  is  0.25\n"
     ]
    }
   ],
   "source": [
    "for i in range(6):\n",
    "    print('Mean value of text reviews with average rating ', i, ' is ', data[data['avr_rate'] == i]['text_reviews'].mean())"
   ]
  },
  {
   "cell_type": "code",
   "execution_count": 89,
   "metadata": {
    "scrolled": true
   },
   "outputs": [
    {
     "name": "stdout",
     "output_type": "stream",
     "text": [
      "Mean value of ratings with average rating  0  is  0.0\n",
      "Mean value of ratings with average rating  1  is  1.5\n",
      "Mean value of ratings with average rating  2  is  1.0\n",
      "Mean value of ratings with average rating  3  is  4.5\n",
      "Mean value of ratings with average rating  4  is  10635.318007662836\n",
      "Mean value of ratings with average rating  5  is  1.7142857142857142\n"
     ]
    }
   ],
   "source": [
    "for i in range(6):\n",
    "    print('Mean value of ratings with average rating ', i, ' is ', data[data['avr_rate'] == i]['ratings'].mean())"
   ]
  },
  {
   "cell_type": "markdown",
   "metadata": {},
   "source": [
    "##### and here"
   ]
  },
  {
   "cell_type": "markdown",
   "metadata": {},
   "source": [
    "##### Average rating distribution"
   ]
  },
  {
   "cell_type": "code",
   "execution_count": 130,
   "metadata": {
    "scrolled": true
   },
   "outputs": [
    {
     "data": {
      "image/png": "[encoded data removed]",
      "text/plain": [
       "<Figure size 432x288 with 1 Axes>"
      ]
     },
     "metadata": {
      "needs_background": "light"
     },
     "output_type": "display_data"
    }
   ],
   "source": [
    "sns.distplot(data['avr_rate'], \n",
    "             kde_kws={\"color\": \"coral\", \"lw\": 1, \"label\": \"KDE\"}, \n",
    "             hist_kws={\"histtype\": \"stepfilled\", \"linewidth\": 1, \"alpha\": 1, \"color\": \"skyblue\"});"
   ]
  },
  {
   "cell_type": "code",
   "execution_count": 131,
   "metadata": {},
   "outputs": [
    {
     "data": {
      "text/plain": [
       "<matplotlib.legend.Legend at 0x2858cb7b160>"
      ]
     },
     "execution_count": 131,
     "metadata": {},
     "output_type": "execute_result"
    },
    {
     "data": {
      "image/png": "[encoded data removed]",
      "text/plain": [
       "<Figure size 864x864 with 1 Axes>"
      ]
     },
     "metadata": {},
     "output_type": "display_data"
    }
   ],
   "source": [
    "# top average ratings\n",
    "data['avr_rate'].value_counts().head(15).plot(kind = 'pie', autopct='%1.1f%%', figsize=(12, 12)).legend()"
   ]
  },
  {
   "cell_type": "code",
   "execution_count": 26,
   "metadata": {},
   "outputs": [],
   "source": [
    "from scipy.stats import ttest_1samp"
   ]
  },
  {
   "cell_type": "markdown",
   "metadata": {},
   "source": [
    "scipy.stats.ttest_1samp() tests if the population mean of data is likely to be equal to a given value (technically if observations are drawn from a Gaussian distributions of given population mean). It returns the T statistic, and the p-value :"
   ]
  },
  {
   "cell_type": "markdown",
   "metadata": {},
   "source": [
    "##### 1 sample testing the value of a population mean"
   ]
  },
  {
   "cell_type": "code",
   "execution_count": 27,
   "metadata": {},
   "outputs": [
    {
     "data": {
      "text/plain": [
       "Ttest_1sampResult(statistic=24.710024103750065, pvalue=6.267185633026452e-132)"
      ]
     },
     "execution_count": 27,
     "metadata": {},
     "output_type": "execute_result"
    }
   ],
   "source": [
    "#for reviewed books\n",
    "sp.stats.ttest_1samp(data['text_reviews'], 0)"
   ]
  },
  {
   "cell_type": "code",
   "execution_count": 28,
   "metadata": {},
   "outputs": [
    {
     "data": {
      "text/plain": [
       "Ttest_1sampResult(statistic=18.41813449827622, pvalue=7.489864148883935e-75)"
      ]
     },
     "execution_count": 28,
     "metadata": {},
     "output_type": "execute_result"
    }
   ],
   "source": [
    "#for rated books\n",
    "sp.stats.ttest_1samp(data['ratings'], 0)"
   ]
  },
  {
   "cell_type": "code",
   "execution_count": 29,
   "metadata": {
    "scrolled": false
   },
   "outputs": [
    {
     "data": {
      "text/plain": [
       "Ttest_1sampResult(statistic=1286.3757464047642, pvalue=0.0)"
      ]
     },
     "execution_count": 29,
     "metadata": {},
     "output_type": "execute_result"
    }
   ],
   "source": [
    "#for average rated books\n",
    "sp.stats.ttest_1samp(data['avr_rate'], 0)"
   ]
  },
  {
   "cell_type": "markdown",
   "metadata": {},
   "source": [
    "##### I don't have any columns with just to parameter characteristics of data, that's why divided it by myself"
   ]
  },
  {
   "cell_type": "code",
   "execution_count": 30,
   "metadata": {},
   "outputs": [],
   "source": [
    "data['avr_rate'] = data['avr_rate'].apply(lambda x: round(x,0))"
   ]
  },
  {
   "cell_type": "code",
   "execution_count": 31,
   "metadata": {},
   "outputs": [
    {
     "data": {
      "text/html": [
       "<div>\n",
       "<style scoped>\n",
       "    .dataframe tbody tr th:only-of-type {\n",
       "        vertical-align: middle;\n",
       "    }\n",
       "\n",
       "    .dataframe tbody tr th {\n",
       "        vertical-align: top;\n",
       "    }\n",
       "\n",
       "    .dataframe thead th {\n",
       "        text-align: right;\n",
       "    }\n",
       "</style>\n",
       "<table border=\"1\" class=\"dataframe\">\n",
       "  <thead>\n",
       "    <tr style=\"text-align: right;\">\n",
       "      <th></th>\n",
       "      <th>bookID</th>\n",
       "      <th>title</th>\n",
       "      <th>authors</th>\n",
       "      <th>avr_rate</th>\n",
       "      <th>isbn</th>\n",
       "      <th>isbn13</th>\n",
       "      <th>language</th>\n",
       "      <th>num_pages</th>\n",
       "      <th>ratings</th>\n",
       "      <th>text_reviews</th>\n",
       "    </tr>\n",
       "  </thead>\n",
       "  <tbody>\n",
       "    <tr>\n",
       "      <th>9662</th>\n",
       "      <td>31157</td>\n",
       "      <td>The Rising: Antichrist is Born  (Before They W...</td>\n",
       "      <td>Tim LaHaye-Jerry B. Jenkins</td>\n",
       "      <td>4.0</td>\n",
       "      <td>0842361936</td>\n",
       "      <td>9780842361934</td>\n",
       "      <td>eng</td>\n",
       "      <td>400</td>\n",
       "      <td>14261</td>\n",
       "      <td>187.0</td>\n",
       "    </tr>\n",
       "    <tr>\n",
       "      <th>7706</th>\n",
       "      <td>24121</td>\n",
       "      <td>Mayflower Treasure Hunt (A to Z Mysteries: Sup...</td>\n",
       "      <td>Ron Roy-John Steven Gurney</td>\n",
       "      <td>4.0</td>\n",
       "      <td>0375839372</td>\n",
       "      <td>9780375839375</td>\n",
       "      <td>en-US</td>\n",
       "      <td>114</td>\n",
       "      <td>926</td>\n",
       "      <td>37.0</td>\n",
       "    </tr>\n",
       "    <tr>\n",
       "      <th>6386</th>\n",
       "      <td>19099</td>\n",
       "      <td>Silas Marner</td>\n",
       "      <td>George Eliot</td>\n",
       "      <td>4.0</td>\n",
       "      <td>1591940486</td>\n",
       "      <td>9781591940487</td>\n",
       "      <td>eng</td>\n",
       "      <td>279</td>\n",
       "      <td>164</td>\n",
       "      <td>6.0</td>\n",
       "    </tr>\n",
       "    <tr>\n",
       "      <th>7795</th>\n",
       "      <td>24414</td>\n",
       "      <td>The Circle (Dan Lenson  #3)</td>\n",
       "      <td>David Poyer</td>\n",
       "      <td>4.0</td>\n",
       "      <td>0312929641</td>\n",
       "      <td>9780312929640</td>\n",
       "      <td>en-US</td>\n",
       "      <td>543</td>\n",
       "      <td>337</td>\n",
       "      <td>7.0</td>\n",
       "    </tr>\n",
       "    <tr>\n",
       "      <th>7914</th>\n",
       "      <td>24784</td>\n",
       "      <td>The Black Cauldron (The Chronicles of Prydain ...</td>\n",
       "      <td>Lloyd Alexander</td>\n",
       "      <td>4.0</td>\n",
       "      <td>080508049X</td>\n",
       "      <td>9780805080490</td>\n",
       "      <td>eng</td>\n",
       "      <td>182</td>\n",
       "      <td>51994</td>\n",
       "      <td>1122.0</td>\n",
       "    </tr>\n",
       "    <tr>\n",
       "      <th>11342</th>\n",
       "      <td>37911</td>\n",
       "      <td>Shipwreck (Island I)</td>\n",
       "      <td>Gordon Korman-Holter Graham</td>\n",
       "      <td>4.0</td>\n",
       "      <td>0439023319</td>\n",
       "      <td>9780439023313</td>\n",
       "      <td>eng</td>\n",
       "      <td>342</td>\n",
       "      <td>102</td>\n",
       "      <td>14.0</td>\n",
       "    </tr>\n",
       "  </tbody>\n",
       "</table>\n",
       "</div>"
      ],
      "text/plain": [
       "       bookID                                              title  \\\n",
       "9662    31157  The Rising: Antichrist is Born  (Before They W...   \n",
       "7706    24121  Mayflower Treasure Hunt (A to Z Mysteries: Sup...   \n",
       "6386    19099                                       Silas Marner   \n",
       "7795    24414                        The Circle (Dan Lenson  #3)   \n",
       "7914    24784  The Black Cauldron (The Chronicles of Prydain ...   \n",
       "11342   37911                               Shipwreck (Island I)   \n",
       "\n",
       "                           authors  avr_rate        isbn         isbn13  \\\n",
       "9662   Tim LaHaye-Jerry B. Jenkins       4.0  0842361936  9780842361934   \n",
       "7706    Ron Roy-John Steven Gurney       4.0  0375839372  9780375839375   \n",
       "6386                  George Eliot       4.0  1591940486  9781591940487   \n",
       "7795                   David Poyer       4.0  0312929641  9780312929640   \n",
       "7914               Lloyd Alexander       4.0  080508049X  9780805080490   \n",
       "11342  Gordon Korman-Holter Graham       4.0  0439023319  9780439023313   \n",
       "\n",
       "      language  num_pages  ratings  text_reviews  \n",
       "9662       eng        400    14261         187.0  \n",
       "7706     en-US        114      926          37.0  \n",
       "6386       eng        279      164           6.0  \n",
       "7795     en-US        543      337           7.0  \n",
       "7914       eng        182    51994        1122.0  \n",
       "11342      eng        342      102          14.0  "
      ]
     },
     "execution_count": 31,
     "metadata": {},
     "output_type": "execute_result"
    }
   ],
   "source": [
    "data.sample(6)"
   ]
  },
  {
   "cell_type": "markdown",
   "metadata": {},
   "source": [
    "So, for now I have 5 groups which will represent the correlation between text reviews, rating and average rating"
   ]
  },
  {
   "cell_type": "code",
   "execution_count": 32,
   "metadata": {},
   "outputs": [],
   "source": [
    "groupby_avr = data.groupby('avr_rate')"
   ]
  },
  {
   "cell_type": "code",
   "execution_count": 33,
   "metadata": {},
   "outputs": [
    {
     "name": "stdout",
     "output_type": "stream",
     "text": [
      "0.0 ----- 0.029411764705882353\n",
      "1.0 ----- 0.0\n",
      "2.0 ----- 29.2\n",
      "3.0 ----- 223.23509174311926\n",
      "4.0 ----- 560.5597353949152\n",
      "5.0 ----- 369.0246913580247\n"
     ]
    }
   ],
   "source": [
    "for rate, value in groupby_avr['text_reviews']:\n",
    "    print(rate,'-----', value.mean())"
   ]
  },
  {
   "cell_type": "code",
   "execution_count": 34,
   "metadata": {
    "scrolled": false
   },
   "outputs": [
    {
     "data": {
      "text/html": [
       "<div>\n",
       "<style scoped>\n",
       "    .dataframe tbody tr th:only-of-type {\n",
       "        vertical-align: middle;\n",
       "    }\n",
       "\n",
       "    .dataframe tbody tr th {\n",
       "        vertical-align: top;\n",
       "    }\n",
       "\n",
       "    .dataframe thead th {\n",
       "        text-align: right;\n",
       "    }\n",
       "</style>\n",
       "<table border=\"1\" class=\"dataframe\">\n",
       "  <thead>\n",
       "    <tr style=\"text-align: right;\">\n",
       "      <th></th>\n",
       "      <th>bookID</th>\n",
       "      <th>num_pages</th>\n",
       "      <th>ratings</th>\n",
       "      <th>text_reviews</th>\n",
       "    </tr>\n",
       "    <tr>\n",
       "      <th>avr_rate</th>\n",
       "      <th></th>\n",
       "      <th></th>\n",
       "      <th></th>\n",
       "      <th></th>\n",
       "    </tr>\n",
       "  </thead>\n",
       "  <tbody>\n",
       "    <tr>\n",
       "      <th>0.0</th>\n",
       "      <td>28622.911765</td>\n",
       "      <td>200.147059</td>\n",
       "      <td>0.000000</td>\n",
       "      <td>0.029412</td>\n",
       "    </tr>\n",
       "    <tr>\n",
       "      <th>1.0</th>\n",
       "      <td>24865.500000</td>\n",
       "      <td>71.000000</td>\n",
       "      <td>1.500000</td>\n",
       "      <td>0.000000</td>\n",
       "    </tr>\n",
       "    <tr>\n",
       "      <th>2.0</th>\n",
       "      <td>23538.600000</td>\n",
       "      <td>245.500000</td>\n",
       "      <td>270.000000</td>\n",
       "      <td>29.200000</td>\n",
       "    </tr>\n",
       "    <tr>\n",
       "      <th>3.0</th>\n",
       "      <td>22842.025229</td>\n",
       "      <td>271.933486</td>\n",
       "      <td>4398.354358</td>\n",
       "      <td>223.235092</td>\n",
       "    </tr>\n",
       "    <tr>\n",
       "      <th>4.0</th>\n",
       "      <td>22088.878776</td>\n",
       "      <td>347.182673</td>\n",
       "      <td>18661.636327</td>\n",
       "      <td>560.559735</td>\n",
       "    </tr>\n",
       "    <tr>\n",
       "      <th>5.0</th>\n",
       "      <td>22325.135802</td>\n",
       "      <td>498.181070</td>\n",
       "      <td>23245.489712</td>\n",
       "      <td>369.024691</td>\n",
       "    </tr>\n",
       "  </tbody>\n",
       "</table>\n",
       "</div>"
      ],
      "text/plain": [
       "                bookID   num_pages       ratings  text_reviews\n",
       "avr_rate                                                      \n",
       "0.0       28622.911765  200.147059      0.000000      0.029412\n",
       "1.0       24865.500000   71.000000      1.500000      0.000000\n",
       "2.0       23538.600000  245.500000    270.000000     29.200000\n",
       "3.0       22842.025229  271.933486   4398.354358    223.235092\n",
       "4.0       22088.878776  347.182673  18661.636327    560.559735\n",
       "5.0       22325.135802  498.181070  23245.489712    369.024691"
      ]
     },
     "execution_count": 34,
     "metadata": {},
     "output_type": "execute_result"
    }
   ],
   "source": [
    "groupby_avr.mean()"
   ]
  },
  {
   "cell_type": "markdown",
   "metadata": {},
   "source": [
    "Difference in means"
   ]
  },
  {
   "cell_type": "code",
   "execution_count": 46,
   "metadata": {},
   "outputs": [],
   "source": [
    "def TestStatistic(data):\n",
    "    group1, group2, group3, group4, group5 = data\n",
    "    test_stat = abs(group1.mean() - group2.mean() - group3.mean() - group4.mean() - group5.mean())\n",
    "    return test_stat"
   ]
  },
  {
   "cell_type": "code",
   "execution_count": 60,
   "metadata": {},
   "outputs": [
    {
     "data": {
      "text/plain": [
       "avr_rate\n",
       "0.0        0.000000\n",
       "1.0        1.500000\n",
       "2.0      270.000000\n",
       "3.0     4398.354358\n",
       "4.0    18661.636327\n",
       "5.0    23245.489712\n",
       "Name: ratings, dtype: float64"
      ]
     },
     "execution_count": 60,
     "metadata": {},
     "output_type": "execute_result"
    }
   ],
   "source": [
    "groupby_avr['ratings'].mean()"
   ]
  },
  {
   "cell_type": "code",
   "execution_count": 58,
   "metadata": {
    "scrolled": true
   },
   "outputs": [
    {
     "data": {
      "text/plain": [
       "-1.0"
      ]
     },
     "execution_count": 58,
     "metadata": {},
     "output_type": "execute_result"
    }
   ],
   "source": [
    "for i in groupby_avr['ratings'].mean():\n",
    "    res = i - (i+1)\n",
    "res"
   ]
  },
  {
   "cell_type": "markdown",
   "metadata": {},
   "source": [
    "Difference in standart deviations"
   ]
  },
  {
   "cell_type": "code",
   "execution_count": 51,
   "metadata": {},
   "outputs": [],
   "source": [
    "def TestStatistic1(data):\n",
    "    group1, group2, group3, group4, group5 = data\n",
    "    test_stat = abs(group1.std() - group2.std() - group3.std() - group4.std() - group5.std())\n",
    "    return test_stat "
   ]
  },
  {
   "cell_type": "code",
   "execution_count": 61,
   "metadata": {},
   "outputs": [
    {
     "data": {
      "text/plain": [
       "avr_rate\n",
       "0.0         0.000000\n",
       "1.0         0.707107\n",
       "2.0      1198.533270\n",
       "3.0     25188.564120\n",
       "4.0    114898.243000\n",
       "5.0    188505.205959\n",
       "Name: ratings, dtype: float64"
      ]
     },
     "execution_count": 61,
     "metadata": {},
     "output_type": "execute_result"
    }
   ],
   "source": [
    "groupby_avr['ratings'].std()"
   ]
  },
  {
   "cell_type": "code",
   "execution_count": 59,
   "metadata": {},
   "outputs": [
    {
     "data": {
      "text/plain": [
       "-1.0"
      ]
     },
     "execution_count": 59,
     "metadata": {},
     "output_type": "execute_result"
    }
   ],
   "source": [
    "for i in groupby_avr['ratings'].std():\n",
    "    res = i - (i+1)\n",
    "res"
   ]
  },
  {
   "cell_type": "code",
   "execution_count": 62,
   "metadata": {
    "scrolled": false
   },
   "outputs": [
    {
     "data": {
      "text/plain": [
       "avr_rate\n",
       "0.0      0.029412\n",
       "1.0      0.000000\n",
       "2.0     29.200000\n",
       "3.0    223.235092\n",
       "4.0    560.559735\n",
       "5.0    369.024691\n",
       "Name: text_reviews, dtype: float64"
      ]
     },
     "execution_count": 62,
     "metadata": {},
     "output_type": "execute_result"
    }
   ],
   "source": [
    "groupby_avr['text_reviews'].mean()"
   ]
  },
  {
   "cell_type": "code",
   "execution_count": 65,
   "metadata": {},
   "outputs": [
    {
     "data": {
      "text/plain": [
       "-1.0"
      ]
     },
     "execution_count": 65,
     "metadata": {},
     "output_type": "execute_result"
    }
   ],
   "source": [
    "for i in groupby_avr['text_reviews'].mean():\n",
    "    res = i - (i+1)\n",
    "res"
   ]
  },
  {
   "cell_type": "code",
   "execution_count": 63,
   "metadata": {
    "scrolled": true
   },
   "outputs": [
    {
     "data": {
      "text/plain": [
       "avr_rate\n",
       "0.0       0.171499\n",
       "1.0       0.000000\n",
       "2.0     128.705539\n",
       "3.0     748.168661\n",
       "4.0    2606.369575\n",
       "5.0    2785.607247\n",
       "Name: text_reviews, dtype: float64"
      ]
     },
     "execution_count": 63,
     "metadata": {},
     "output_type": "execute_result"
    }
   ],
   "source": [
    "groupby_avr['text_reviews'].std()"
   ]
  },
  {
   "cell_type": "code",
   "execution_count": 66,
   "metadata": {},
   "outputs": [
    {
     "data": {
      "text/plain": [
       "-1.0"
      ]
     },
     "execution_count": 66,
     "metadata": {},
     "output_type": "execute_result"
    }
   ],
   "source": [
    "for i in groupby_avr['text_reviews'].std():\n",
    "    res = i - (i+1)\n",
    "res"
   ]
  },
  {
   "cell_type": "code",
   "execution_count": 38,
   "metadata": {},
   "outputs": [
    {
     "data": {
      "text/plain": [
       "<matplotlib.legend.Legend at 0x24ca9b81c18>"
      ]
     },
     "execution_count": 38,
     "metadata": {},
     "output_type": "execute_result"
    },
    {
     "data": {
      "image/png": "[encoded data removed]",
      "text/plain": [
       "<Figure size 864x864 with 1 Axes>"
      ]
     },
     "metadata": {},
     "output_type": "display_data"
    }
   ],
   "source": [
    "data['avr_rate'].value_counts().head(15).plot(kind = 'pie', autopct='%1.1f%%', figsize=(12, 12)).legend()"
   ]
  },
  {
   "cell_type": "markdown",
   "metadata": {},
   "source": [
    "##### Paired testing: repeated measurements on the same individuals"
   ]
  },
  {
   "cell_type": "code",
   "execution_count": 36,
   "metadata": {
    "scrolled": true
   },
   "outputs": [
    {
     "data": {
      "text/plain": [
       "0.0         AxesSubplot(0.1,0.679412;0.363636x0.220588)\n",
       "1.0    AxesSubplot(0.536364,0.679412;0.363636x0.220588)\n",
       "2.0         AxesSubplot(0.1,0.414706;0.363636x0.220588)\n",
       "3.0    AxesSubplot(0.536364,0.414706;0.363636x0.220588)\n",
       "4.0             AxesSubplot(0.1,0.15;0.363636x0.220588)\n",
       "5.0        AxesSubplot(0.536364,0.15;0.363636x0.220588)\n",
       "dtype: object"
      ]
     },
     "execution_count": 36,
     "metadata": {},
     "output_type": "execute_result"
    },
    {
     "data": {
      "image/png": "[encoded data removed]",
      "text/plain": [
       "<Figure size 1008x1008 with 6 Axes>"
      ]
     },
     "metadata": {
      "needs_background": "light"
     },
     "output_type": "display_data"
    }
   ],
   "source": [
    "groupby_avr.boxplot(column=['ratings','text_reviews'], figsize=(14,14))"
   ]
  },
  {
   "cell_type": "markdown",
   "metadata": {},
   "source": [
    "##### 2 sample testing for difference across populations"
   ]
  },
  {
   "cell_type": "code",
   "execution_count": 25,
   "metadata": {},
   "outputs": [],
   "source": [
    "four_rate = data[data['avr_rate'] == 4]['ratings']\n",
    "five_rate = data[data['avr_rate'] == 5]['ratings']"
   ]
  },
  {
   "cell_type": "code",
   "execution_count": 30,
   "metadata": {},
   "outputs": [
    {
     "data": {
      "text/plain": [
       "Ttest_indResult(statistic=-0.6063349127583074, pvalue=0.5443031423039171)"
      ]
     },
     "execution_count": 30,
     "metadata": {},
     "output_type": "execute_result"
    }
   ],
   "source": [
    "#sp.stats.ttest_ind(zero_rate, one_rate, two_rate, three_rate, four_rate, five_rate)\n",
    "sp.stats.ttest_ind(four_rate, five_rate)"
   ]
  },
  {
   "cell_type": "code",
   "execution_count": 74,
   "metadata": {},
   "outputs": [],
   "source": [
    "four_rate = data[data['avr_rate'] == 4]['text_reviews']\n",
    "five_rate = data[data['avr_rate'] == 5]['text_reviews']"
   ]
  },
  {
   "cell_type": "code",
   "execution_count": 75,
   "metadata": {},
   "outputs": [
    {
     "data": {
      "text/plain": [
       "Ttest_indResult(statistic=1.133094755461505, pvalue=0.2571957065597944)"
      ]
     },
     "execution_count": 75,
     "metadata": {},
     "output_type": "execute_result"
    }
   ],
   "source": [
    "sp.stats.ttest_ind(four_rate, five_rate)"
   ]
  },
  {
   "cell_type": "markdown",
   "metadata": {},
   "source": [
    "#### Testing correlation"
   ]
  },
  {
   "cell_type": "code",
   "execution_count": 71,
   "metadata": {},
   "outputs": [],
   "source": [
    "from scipy.stats import pearsonr"
   ]
  },
  {
   "cell_type": "code",
   "execution_count": 72,
   "metadata": {},
   "outputs": [],
   "source": [
    "from scipy.stats import spearmanr"
   ]
  },
  {
   "cell_type": "code",
   "execution_count": 81,
   "metadata": {},
   "outputs": [
    {
     "data": {
      "text/html": [
       "<div>\n",
       "<style scoped>\n",
       "    .dataframe tbody tr th:only-of-type {\n",
       "        vertical-align: middle;\n",
       "    }\n",
       "\n",
       "    .dataframe tbody tr th {\n",
       "        vertical-align: top;\n",
       "    }\n",
       "\n",
       "    .dataframe thead th {\n",
       "        text-align: right;\n",
       "    }\n",
       "</style>\n",
       "<table border=\"1\" class=\"dataframe\">\n",
       "  <thead>\n",
       "    <tr style=\"text-align: right;\">\n",
       "      <th></th>\n",
       "      <th>bookID</th>\n",
       "      <th>avr_rate</th>\n",
       "      <th>num_pages</th>\n",
       "      <th>ratings</th>\n",
       "      <th>text_reviews</th>\n",
       "    </tr>\n",
       "  </thead>\n",
       "  <tbody>\n",
       "    <tr>\n",
       "      <th>bookID</th>\n",
       "      <td>1.876810e+08</td>\n",
       "      <td>-109.733448</td>\n",
       "      <td>-44079.844759</td>\n",
       "      <td>-1.256795e+08</td>\n",
       "      <td>-3.036721e+06</td>\n",
       "    </tr>\n",
       "    <tr>\n",
       "      <th>avr_rate</th>\n",
       "      <td>-1.097334e+02</td>\n",
       "      <td>0.124594</td>\n",
       "      <td>9.176402</td>\n",
       "      <td>1.181465e+03</td>\n",
       "      <td>2.380195e+01</td>\n",
       "    </tr>\n",
       "    <tr>\n",
       "      <th>num_pages</th>\n",
       "      <td>-4.407984e+04</td>\n",
       "      <td>9.176402</td>\n",
       "      <td>63083.694199</td>\n",
       "      <td>7.740119e+05</td>\n",
       "      <td>2.073784e+04</td>\n",
       "    </tr>\n",
       "    <tr>\n",
       "      <th>ratings</th>\n",
       "      <td>-1.256795e+08</td>\n",
       "      <td>1181.464819</td>\n",
       "      <td>774011.925437</td>\n",
       "      <td>1.275570e+10</td>\n",
       "      <td>2.465970e+08</td>\n",
       "    </tr>\n",
       "    <tr>\n",
       "      <th>text_reviews</th>\n",
       "      <td>-3.036721e+06</td>\n",
       "      <td>23.801946</td>\n",
       "      <td>20737.843601</td>\n",
       "      <td>2.465970e+08</td>\n",
       "      <td>6.394090e+06</td>\n",
       "    </tr>\n",
       "  </tbody>\n",
       "</table>\n",
       "</div>"
      ],
      "text/plain": [
       "                    bookID     avr_rate      num_pages       ratings  \\\n",
       "bookID        1.876810e+08  -109.733448  -44079.844759 -1.256795e+08   \n",
       "avr_rate     -1.097334e+02     0.124594       9.176402  1.181465e+03   \n",
       "num_pages    -4.407984e+04     9.176402   63083.694199  7.740119e+05   \n",
       "ratings      -1.256795e+08  1181.464819  774011.925437  1.275570e+10   \n",
       "text_reviews -3.036721e+06    23.801946   20737.843601  2.465970e+08   \n",
       "\n",
       "              text_reviews  \n",
       "bookID       -3.036721e+06  \n",
       "avr_rate      2.380195e+01  \n",
       "num_pages     2.073784e+04  \n",
       "ratings       2.465970e+08  \n",
       "text_reviews  6.394090e+06  "
      ]
     },
     "execution_count": 81,
     "metadata": {},
     "output_type": "execute_result"
    }
   ],
   "source": [
    "data.cov()"
   ]
  },
  {
   "cell_type": "code",
   "execution_count": 78,
   "metadata": {
    "scrolled": false
   },
   "outputs": [
    {
     "data": {
      "text/html": [
       "<div>\n",
       "<style scoped>\n",
       "    .dataframe tbody tr th:only-of-type {\n",
       "        vertical-align: middle;\n",
       "    }\n",
       "\n",
       "    .dataframe tbody tr th {\n",
       "        vertical-align: top;\n",
       "    }\n",
       "\n",
       "    .dataframe thead th {\n",
       "        text-align: right;\n",
       "    }\n",
       "</style>\n",
       "<table border=\"1\" class=\"dataframe\">\n",
       "  <thead>\n",
       "    <tr style=\"text-align: right;\">\n",
       "      <th></th>\n",
       "      <th>bookID</th>\n",
       "      <th>avr_rate</th>\n",
       "      <th>num_pages</th>\n",
       "      <th>ratings</th>\n",
       "      <th>text_reviews</th>\n",
       "    </tr>\n",
       "  </thead>\n",
       "  <tbody>\n",
       "    <tr>\n",
       "      <th>bookID</th>\n",
       "      <td>1.000000</td>\n",
       "      <td>-0.022692</td>\n",
       "      <td>-0.012811</td>\n",
       "      <td>-0.081227</td>\n",
       "      <td>-0.087661</td>\n",
       "    </tr>\n",
       "    <tr>\n",
       "      <th>avr_rate</th>\n",
       "      <td>-0.022692</td>\n",
       "      <td>1.000000</td>\n",
       "      <td>0.103506</td>\n",
       "      <td>0.029636</td>\n",
       "      <td>0.026667</td>\n",
       "    </tr>\n",
       "    <tr>\n",
       "      <th>num_pages</th>\n",
       "      <td>-0.012811</td>\n",
       "      <td>0.103506</td>\n",
       "      <td>1.000000</td>\n",
       "      <td>0.027286</td>\n",
       "      <td>0.032652</td>\n",
       "    </tr>\n",
       "    <tr>\n",
       "      <th>ratings</th>\n",
       "      <td>-0.081227</td>\n",
       "      <td>0.029636</td>\n",
       "      <td>0.027286</td>\n",
       "      <td>1.000000</td>\n",
       "      <td>0.863468</td>\n",
       "    </tr>\n",
       "    <tr>\n",
       "      <th>text_reviews</th>\n",
       "      <td>-0.087661</td>\n",
       "      <td>0.026667</td>\n",
       "      <td>0.032652</td>\n",
       "      <td>0.863468</td>\n",
       "      <td>1.000000</td>\n",
       "    </tr>\n",
       "  </tbody>\n",
       "</table>\n",
       "</div>"
      ],
      "text/plain": [
       "                bookID  avr_rate  num_pages   ratings  text_reviews\n",
       "bookID        1.000000 -0.022692  -0.012811 -0.081227     -0.087661\n",
       "avr_rate     -0.022692  1.000000   0.103506  0.029636      0.026667\n",
       "num_pages    -0.012811  0.103506   1.000000  0.027286      0.032652\n",
       "ratings      -0.081227  0.029636   0.027286  1.000000      0.863468\n",
       "text_reviews -0.087661  0.026667   0.032652  0.863468      1.000000"
      ]
     },
     "execution_count": 78,
     "metadata": {},
     "output_type": "execute_result"
    }
   ],
   "source": [
    "data.corr()"
   ]
  },
  {
   "cell_type": "markdown",
   "metadata": {},
   "source": [
    "## Conclusion:\n",
    "pvalue in all tests is more than 5%. That's why I can think that my Null Hypothesis is true and in my dataset there is no defference between number of ratings or text reviews and average rating of book."
   ]
  },
  {
   "cell_type": "markdown",
   "metadata": {},
   "source": [
    "but it's not truth"
   ]
  }
 ],
 "metadata": {
  "kernelspec": {
   "display_name": "Python 3",
   "language": "python",
   "name": "python3"
  },
  "language_info": {
   "codemirror_mode": {
    "name": "ipython",
    "version": 3
   },
   "file_extension": ".py",
   "mimetype": "text/x-python",
   "name": "python",
   "nbconvert_exporter": "python",
   "pygments_lexer": "ipython3",
   "version": "3.7.3"
  }
 },
 "nbformat": 4,
 "nbformat_minor": 2
}
